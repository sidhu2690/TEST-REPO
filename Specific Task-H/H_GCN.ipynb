{
  "cells": [
    {
      "cell_type": "markdown",
      "metadata": {
        "id": "view-in-github",
        "colab_type": "text"
      },
      "source": [
        "<a href=\"https://colab.research.google.com/github/sidhu2690/TEST-REPO/blob/main/H_GCN.ipynb\" target=\"_parent\"><img src=\"https://colab.research.google.com/assets/colab-badge.svg\" alt=\"Open In Colab\"/></a>"
      ]
    },
    {
      "cell_type": "code",
      "execution_count": null,
      "id": "22b87806",
      "metadata": {
        "_cell_guid": "b1076dfc-b9ad-4769-8c92-a6c4dae69d19",
        "_uuid": "8f2839f25d086af736a60e9eeb907d3b93b6e0e5",
        "execution": {
          "iopub.execute_input": "2025-03-25T16:53:09.901058Z",
          "iopub.status.busy": "2025-03-25T16:53:09.900794Z",
          "iopub.status.idle": "2025-03-25T16:53:15.323470Z",
          "shell.execute_reply": "2025-03-25T16:53:15.322367Z"
        },
        "papermill": {
          "duration": 5.428403,
          "end_time": "2025-03-25T16:53:15.324785",
          "exception": false,
          "start_time": "2025-03-25T16:53:09.896382",
          "status": "completed"
        },
        "tags": [],
        "id": "22b87806",
        "outputId": "5b232069-33b5-4eb2-ae1e-8b5c754cf057"
      },
      "outputs": [
        {
          "name": "stdout",
          "output_type": "stream",
          "text": [
            "\u001b[2K     \u001b[90m━━━━━━━━━━━━━━━━━━━━━━━━━━━━━━━━━━━━━━━━\u001b[0m \u001b[32m63.1/63.1 kB\u001b[0m \u001b[31m2.8 MB/s\u001b[0m eta \u001b[36m0:00:00\u001b[0m\r\n",
            "\u001b[2K   \u001b[90m━━━━━━━━━━━━━━━━━━━━━━━━━━━━━━━━━━━━━━━━\u001b[0m \u001b[32m1.1/1.1 MB\u001b[0m \u001b[31m23.3 MB/s\u001b[0m eta \u001b[36m0:00:00\u001b[0m\r\n",
            "\u001b[?25hNote: you may need to restart the kernel to use updated packages.\n"
          ]
        }
      ],
      "source": [
        "pip install -q torch-geometric"
      ]
    },
    {
      "cell_type": "code",
      "execution_count": null,
      "id": "4b5ed168",
      "metadata": {
        "execution": {
          "iopub.execute_input": "2025-03-25T16:53:15.332460Z",
          "iopub.status.busy": "2025-03-25T16:53:15.332221Z",
          "iopub.status.idle": "2025-03-25T17:07:21.071976Z",
          "shell.execute_reply": "2025-03-25T17:07:21.071009Z"
        },
        "papermill": {
          "duration": 845.745279,
          "end_time": "2025-03-25T17:07:21.073734",
          "exception": false,
          "start_time": "2025-03-25T16:53:15.328455",
          "status": "completed"
        },
        "tags": [],
        "id": "4b5ed168",
        "outputId": "f9d14d85-2a00-493d-e49f-d14dadfff528"
      },
      "outputs": [
        {
          "name": "stdout",
          "output_type": "stream",
          "text": [
            "Looking in links: https://data.pyg.org/whl/torch-2.5.1.html\r\n",
            "Collecting torch-scatter\r\n",
            "  Downloading torch_scatter-2.1.2.tar.gz (108 kB)\r\n",
            "\u001b[2K     \u001b[90m━━━━━━━━━━━━━━━━━━━━━━━━━━━━━━━━━━━━━━━━\u001b[0m \u001b[32m108.0/108.0 kB\u001b[0m \u001b[31m3.4 MB/s\u001b[0m eta \u001b[36m0:00:00\u001b[0m\r\n",
            "\u001b[?25h  Preparing metadata (setup.py) ... \u001b[?25l\u001b[?25hdone\r\n",
            "Building wheels for collected packages: torch-scatter\r\n",
            "  Building wheel for torch-scatter (setup.py) ... \u001b[?25l\u001b[?25hdone\r\n",
            "  Created wheel for torch-scatter: filename=torch_scatter-2.1.2-cp310-cp310-linux_x86_64.whl size=3662078 sha256=88da5cabb182156e42cbfb0f87649d71efad8a554e669c0c0e295686ced3e601\r\n",
            "  Stored in directory: /root/.cache/pip/wheels/92/f1/2b/3b46d54b134259f58c8363568569053248040859b1a145b3ce\r\n",
            "Successfully built torch-scatter\r\n",
            "Installing collected packages: torch-scatter\r\n",
            "Successfully installed torch-scatter-2.1.2\r\n"
          ]
        }
      ],
      "source": [
        "!pip install torch-scatter -f https://data.pyg.org/whl/torch-$(python -c \"import torch; print(torch.__version__.split('+')[0])\").html"
      ]
    },
    {
      "cell_type": "code",
      "execution_count": null,
      "id": "762dd184",
      "metadata": {
        "execution": {
          "iopub.execute_input": "2025-03-25T17:07:21.082934Z",
          "iopub.status.busy": "2025-03-25T17:07:21.082595Z",
          "iopub.status.idle": "2025-03-25T17:07:30.477031Z",
          "shell.execute_reply": "2025-03-25T17:07:30.476043Z"
        },
        "papermill": {
          "duration": 9.401042,
          "end_time": "2025-03-25T17:07:30.478857",
          "exception": false,
          "start_time": "2025-03-25T17:07:21.077815",
          "status": "completed"
        },
        "tags": [],
        "id": "762dd184",
        "outputId": "8a3284c6-1ab3-42ab-ac5a-1ec400ea21b5"
      },
      "outputs": [
        {
          "name": "stdout",
          "output_type": "stream",
          "text": [
            "--2025-03-25 17:07:21--  https://cernbox.cern.ch/remote.php/dav/public-files/oolDBdQegsITFcv/QCDToGGQQ_IMGjet_RH1all_jet0_run0_n36272.test.snappy.parquet\r\n",
            "Resolving cernbox.cern.ch (cernbox.cern.ch)... 128.142.170.17, 128.142.53.35, 137.138.120.151, ...\r\n",
            "Connecting to cernbox.cern.ch (cernbox.cern.ch)|128.142.170.17|:443... connected.\r\n",
            "HTTP request sent, awaiting response... 200 OK\r\n",
            "Length: 184115523 (176M) [application/octet-stream]\r\n",
            "Saving to: ‘QCDToGGQQ_IMGjet_RH1all_jet0_run0_n36272.test.snappy.parquet’\r\n",
            "\r\n",
            "QCDToGGQQ_IMGjet_RH 100%[===================>] 175.59M  23.5MB/s    in 8.4s    \r\n",
            "\r\n",
            "2025-03-25 17:07:30 (21.0 MB/s) - ‘QCDToGGQQ_IMGjet_RH1all_jet0_run0_n36272.test.snappy.parquet’ saved [184115523/184115523]\r\n",
            "\r\n"
          ]
        }
      ],
      "source": [
        "!wget https://cernbox.cern.ch/remote.php/dav/public-files/oolDBdQegsITFcv/QCDToGGQQ_IMGjet_RH1all_jet0_run0_n36272.test.snappy.parquet"
      ]
    },
    {
      "cell_type": "code",
      "execution_count": null,
      "id": "ed2725bd",
      "metadata": {
        "execution": {
          "iopub.execute_input": "2025-03-25T17:07:30.493956Z",
          "iopub.status.busy": "2025-03-25T17:07:30.493623Z",
          "iopub.status.idle": "2025-03-25T17:07:40.585865Z",
          "shell.execute_reply": "2025-03-25T17:07:40.584837Z"
        },
        "papermill": {
          "duration": 10.102511,
          "end_time": "2025-03-25T17:07:40.587947",
          "exception": false,
          "start_time": "2025-03-25T17:07:30.485436",
          "status": "completed"
        },
        "tags": [],
        "id": "ed2725bd"
      },
      "outputs": [],
      "source": [
        "import torch\n",
        "from torch import nn\n",
        "import torch.nn.functional as F\n",
        "from torch_geometric.data import Data, DataLoader as GeoDataLoader\n",
        "from torch.utils.data import IterableDataset, DataLoader\n",
        "from torch_geometric.nn import GATConv,GCNConv , global_mean_pool, global_max_pool, GraphNorm\n",
        "import pyarrow.parquet as pq\n",
        "import numpy as np\n",
        "import matplotlib.pyplot as plt\n",
        "from scipy.sparse import coo_matrix\n",
        "import plotly.graph_objects as go\n",
        "import networkx as nx\n",
        "from sklearn.model_selection import train_test_split\n",
        "from sklearn.metrics import roc_auc_score, roc_curve, auc\n",
        "from sklearn.neighbors import NearestNeighbors"
      ]
    },
    {
      "cell_type": "code",
      "execution_count": null,
      "id": "ea309e9f",
      "metadata": {
        "execution": {
          "iopub.execute_input": "2025-03-25T17:07:40.607638Z",
          "iopub.status.busy": "2025-03-25T17:07:40.606868Z",
          "iopub.status.idle": "2025-03-25T17:07:40.627416Z",
          "shell.execute_reply": "2025-03-25T17:07:40.626446Z"
        },
        "papermill": {
          "duration": 0.029332,
          "end_time": "2025-03-25T17:07:40.629025",
          "exception": false,
          "start_time": "2025-03-25T17:07:40.599693",
          "status": "completed"
        },
        "tags": [],
        "id": "ea309e9f"
      },
      "outputs": [],
      "source": [
        "def safe_convert(x):\n",
        "    if isinstance(x, (list, tuple)):\n",
        "        try:\n",
        "            return np.array(x, dtype=np.float32)\n",
        "        except Exception:\n",
        "            return np.stack([safe_convert(item) for item in x])\n",
        "    elif isinstance(x, np.ndarray):\n",
        "        if x.dtype == np.object_:\n",
        "            return safe_convert(x.tolist())\n",
        "        return x.astype(np.float32)\n",
        "    else:\n",
        "        return np.array(x, dtype=np.float32)\n",
        "\n",
        "class SimpleParquetDataset(IterableDataset):\n",
        "    def __init__(self, file_path, batch_size=32):\n",
        "        self.file_path = file_path\n",
        "        self.batch_size = batch_size\n",
        "\n",
        "    def __iter__(self):\n",
        "        pf = pq.ParquetFile(self.file_path)\n",
        "        for batch in pf.iter_batches(batch_size=self.batch_size, columns=['X_jets', 'y']):\n",
        "            df = batch.to_pandas()\n",
        "            X_batch = torch.stack([torch.tensor(safe_convert(x), dtype=torch.float32) for x in df['X_jets']])\n",
        "            y_batch = torch.tensor(df['y'].values, dtype=torch.long)\n",
        "            yield X_batch, y_batch\n",
        "\n",
        "def get_dataloader(file_path, batch_size=32, num_workers=0):\n",
        "    dataset = SimpleParquetDataset(file_path, batch_size)\n",
        "    return DataLoader(dataset, batch_size=None, num_workers=num_workers)\n",
        "\n",
        "def image_to_pc(img):\n",
        "    nz_mask = np.any(img != 0, axis=-1)\n",
        "    points = np.column_stack(np.where(nz_mask))\n",
        "    feats = img[nz_mask]\n",
        "    return points, feats\n",
        "\n",
        "\n",
        "def build_knn_adjacency(points, k=4, sigma=1.0):\n",
        "    nbrs = NearestNeighbors(n_neighbors=k+1, algorithm='auto').fit(points)\n",
        "    distances, indices = nbrs.kneighbors(points)\n",
        "    distances, indices = distances[:, 1:], indices[:, 1:]\n",
        "    weights = np.exp(-distances**2 / (2 * sigma**2))\n",
        "    row_indices = np.repeat(np.arange(len(points)), k)\n",
        "    col_indices = indices.flatten()\n",
        "    A = coo_matrix((weights.flatten(), (row_indices, col_indices)), shape=(len(points), len(points)))\n",
        "    return A\n",
        "\n",
        "\n",
        "def point_cloud_to_graph(points, features, label, image_shape=(125, 125), neighbors=4):\n",
        "    adjacency = build_knn_adjacency(points, k=neighbors)\n",
        "    edge_idx = torch.from_numpy(np.vstack((adjacency.row, adjacency.col))).long()\n",
        "    edge_weights = torch.from_numpy(adjacency.data).float().view(-1, 1)\n",
        "    feat_min = np.min(features, axis=0)\n",
        "    feat_max = np.max(features, axis=0)\n",
        "    feat_range = feat_max - feat_min\n",
        "    feat_range[feat_range == 0] = 1\n",
        "    features = (features - feat_min) / feat_range\n",
        "    pos_min = np.min(points, axis=0)\n",
        "    pos_max = np.max(points, axis=0)\n",
        "    pos_range = pos_max - pos_min\n",
        "    pos_range[pos_range == 0] = 1\n",
        "    pos_features = (points - pos_min) / pos_range\n",
        "    node_features = np.hstack((features, pos_features))\n",
        "    data = Data(x=torch.from_numpy(node_features).float(),\n",
        "                edge_index=edge_idx,\n",
        "                edge_attr=edge_weights,\n",
        "                y=label,\n",
        "                pos=torch.tensor(points, dtype=torch.float))\n",
        "    return data"
      ]
    },
    {
      "cell_type": "code",
      "execution_count": null,
      "id": "0706a11b",
      "metadata": {
        "execution": {
          "iopub.execute_input": "2025-03-25T17:07:40.642244Z",
          "iopub.status.busy": "2025-03-25T17:07:40.641827Z",
          "iopub.status.idle": "2025-03-25T17:07:40.646692Z",
          "shell.execute_reply": "2025-03-25T17:07:40.645777Z"
        },
        "papermill": {
          "duration": 0.012999,
          "end_time": "2025-03-25T17:07:40.648104",
          "exception": false,
          "start_time": "2025-03-25T17:07:40.635105",
          "status": "completed"
        },
        "tags": [],
        "id": "0706a11b"
      },
      "outputs": [],
      "source": [
        "file_path = '/kaggle/working/QCDToGGQQ_IMGjet_RH1all_jet0_run0_n36272.test.snappy.parquet'\n",
        "dataloader = get_dataloader(file_path, batch_size=128, num_workers=0)"
      ]
    },
    {
      "cell_type": "code",
      "execution_count": null,
      "id": "58fc1935",
      "metadata": {
        "execution": {
          "iopub.execute_input": "2025-03-25T17:07:40.661848Z",
          "iopub.status.busy": "2025-03-25T17:07:40.661423Z",
          "iopub.status.idle": "2025-03-25T17:10:24.089391Z",
          "shell.execute_reply": "2025-03-25T17:10:24.088350Z"
        },
        "papermill": {
          "duration": 163.442208,
          "end_time": "2025-03-25T17:10:24.096412",
          "exception": false,
          "start_time": "2025-03-25T17:07:40.654204",
          "status": "completed"
        },
        "tags": [],
        "id": "58fc1935",
        "outputId": "33eb8698-bbf4-4f32-d15d-3448e0a31f23"
      },
      "outputs": [
        {
          "name": "stdout",
          "output_type": "stream",
          "text": [
            "Number of graphs: 36272\n"
          ]
        }
      ],
      "source": [
        "graph_dataset = []\n",
        "for X_batch, y_batch in dataloader:\n",
        "    for idx, image_tensor in enumerate(X_batch):\n",
        "        image_np = image_tensor.cpu().numpy().transpose(1, 2, 0)\n",
        "        points, features = image_to_pc(image_np)\n",
        "        graph_data = point_cloud_to_graph(points, features, y_batch[idx])\n",
        "        graph_dataset.append(graph_data)\n",
        "\n",
        "print(f'Number of graphs: {len(graph_dataset)}')"
      ]
    },
    {
      "cell_type": "code",
      "execution_count": null,
      "id": "13b8306f",
      "metadata": {
        "execution": {
          "iopub.execute_input": "2025-03-25T17:10:24.109924Z",
          "iopub.status.busy": "2025-03-25T17:10:24.109321Z",
          "iopub.status.idle": "2025-03-25T17:10:24.126393Z",
          "shell.execute_reply": "2025-03-25T17:10:24.125241Z"
        },
        "papermill": {
          "duration": 0.025418,
          "end_time": "2025-03-25T17:10:24.127860",
          "exception": false,
          "start_time": "2025-03-25T17:10:24.102442",
          "status": "completed"
        },
        "tags": [],
        "id": "13b8306f",
        "outputId": "0adf38e0-2bea-4786-afc9-e8e5d2384809"
      },
      "outputs": [
        {
          "name": "stderr",
          "output_type": "stream",
          "text": [
            "/usr/local/lib/python3.10/dist-packages/torch_geometric/deprecation.py:26: UserWarning: 'data.DataLoader' is deprecated, use 'loader.DataLoader' instead\n",
            "  warnings.warn(out)\n"
          ]
        }
      ],
      "source": [
        "train_graphs, test_graphs = train_test_split(graph_dataset, test_size=0.2)\n",
        "train_loader = GeoDataLoader(train_graphs, batch_size=128, shuffle=True)\n",
        "test_loader = GeoDataLoader(test_graphs, batch_size=128, shuffle=True)"
      ]
    },
    {
      "cell_type": "code",
      "execution_count": null,
      "id": "73d0bb2c",
      "metadata": {
        "execution": {
          "iopub.execute_input": "2025-03-25T17:10:30.223440Z",
          "iopub.status.busy": "2025-03-25T17:10:30.223051Z",
          "iopub.status.idle": "2025-03-25T17:10:30.230756Z",
          "shell.execute_reply": "2025-03-25T17:10:30.229831Z"
        },
        "papermill": {
          "duration": 0.018515,
          "end_time": "2025-03-25T17:10:30.232228",
          "exception": false,
          "start_time": "2025-03-25T17:10:30.213713",
          "status": "completed"
        },
        "tags": [],
        "id": "73d0bb2c"
      },
      "outputs": [],
      "source": [
        "class Graph_Attention_Model(torch.nn.Module):\n",
        "    def __init__(self, in_channels, hidden_channels, num_classes, heads=4):\n",
        "        super(Graph_Attention_Model, self).__init__()\n",
        "        self.gat1 = GATConv(in_channels, hidden_channels, heads=heads, dropout=0.2)\n",
        "        self.norm1 = GraphNorm(hidden_channels * heads)\n",
        "\n",
        "        self.gat2 = GATConv(hidden_channels * heads, hidden_channels * 2, heads=1, concat=True, dropout=0.2)\n",
        "        self.norm2 = GraphNorm(hidden_channels * 2)\n",
        "\n",
        "        self.gat3 = GATConv(hidden_channels * 2, hidden_channels, heads=1, concat=False, dropout=0.2)\n",
        "        self.norm3 = GraphNorm(hidden_channels)\n",
        "\n",
        "        self.linear1 = nn.Linear(hidden_channels * 2, hidden_channels)\n",
        "        self.linear2 = nn.Linear(hidden_channels , num_classes)\n",
        "\n",
        "\n",
        "    def forward(self, data):\n",
        "        x, edge_index, batch = data.x, data.edge_index, data.batch\n",
        "\n",
        "        x = self.gat1(x, edge_index)\n",
        "        x = self.norm1(x, batch)\n",
        "        x = F.relu(x)\n",
        "\n",
        "        x = self.gat2(x, edge_index)\n",
        "        x = self.norm2(x, batch)\n",
        "        x = F.relu(x)\n",
        "\n",
        "        x = self.gat3(x, edge_index)\n",
        "        x = self.norm3(x, batch)\n",
        "        x = F.relu(x)\n",
        "\n",
        "        x_mean = global_mean_pool(x, batch)\n",
        "        x_max = global_max_pool(x, batch)\n",
        "        x = torch.cat([x_mean, x_max], dim=1)\n",
        "\n",
        "        x = self.linear1(x)\n",
        "        x = F.relu(x)\n",
        "        x = self.linear2(x)\n",
        "        return x"
      ]
    },
    {
      "cell_type": "code",
      "execution_count": null,
      "id": "08f29440",
      "metadata": {
        "execution": {
          "iopub.execute_input": "2025-03-25T17:10:30.250502Z",
          "iopub.status.busy": "2025-03-25T17:10:30.250082Z",
          "iopub.status.idle": "2025-03-25T17:10:30.560389Z",
          "shell.execute_reply": "2025-03-25T17:10:30.559417Z"
        },
        "papermill": {
          "duration": 0.321237,
          "end_time": "2025-03-25T17:10:30.562059",
          "exception": false,
          "start_time": "2025-03-25T17:10:30.240822",
          "status": "completed"
        },
        "tags": [],
        "id": "08f29440"
      },
      "outputs": [],
      "source": [
        "device = torch.device('cuda' if torch.cuda.is_available() else 'cpu')\n",
        "model = Graph_Attention_Model(in_channels=5, hidden_channels=128, num_classes=1, heads=4).to(device)\n",
        "optimizer = torch.optim.AdamW(model.parameters(), lr=0.0001)\n",
        "criterion = torch.nn.BCEWithLogitsLoss()"
      ]
    },
    {
      "cell_type": "code",
      "execution_count": null,
      "id": "874d8521",
      "metadata": {
        "execution": {
          "iopub.execute_input": "2025-03-25T17:10:30.580756Z",
          "iopub.status.busy": "2025-03-25T17:10:30.580426Z",
          "iopub.status.idle": "2025-03-25T17:10:30.585048Z",
          "shell.execute_reply": "2025-03-25T17:10:30.584088Z"
        },
        "papermill": {
          "duration": 0.015738,
          "end_time": "2025-03-25T17:10:30.586492",
          "exception": false,
          "start_time": "2025-03-25T17:10:30.570754",
          "status": "completed"
        },
        "tags": [],
        "id": "874d8521",
        "outputId": "fc7c9cbe-8afe-479c-ee00-d3f080ec547d"
      },
      "outputs": [
        {
          "name": "stdout",
          "output_type": "stream",
          "text": [
            "Graph_Attention_Model(\n",
            "  (gat1): GATConv(5, 128, heads=4)\n",
            "  (norm1): GraphNorm(512)\n",
            "  (gat2): GATConv(512, 256, heads=1)\n",
            "  (norm2): GraphNorm(256)\n",
            "  (gat3): GATConv(256, 128, heads=1)\n",
            "  (norm3): GraphNorm(128)\n",
            "  (linear1): Linear(in_features=256, out_features=128, bias=True)\n",
            "  (linear2): Linear(in_features=128, out_features=1, bias=True)\n",
            ")\n"
          ]
        }
      ],
      "source": [
        "print(model)"
      ]
    },
    {
      "cell_type": "code",
      "execution_count": null,
      "id": "5c94eae3",
      "metadata": {
        "execution": {
          "iopub.execute_input": "2025-03-25T17:10:30.604735Z",
          "iopub.status.busy": "2025-03-25T17:10:30.604392Z",
          "iopub.status.idle": "2025-03-25T18:00:23.552876Z",
          "shell.execute_reply": "2025-03-25T18:00:23.551921Z"
        },
        "papermill": {
          "duration": 2992.968875,
          "end_time": "2025-03-25T18:00:23.564330",
          "exception": false,
          "start_time": "2025-03-25T17:10:30.595455",
          "status": "completed"
        },
        "tags": [],
        "id": "5c94eae3",
        "outputId": "eece7d73-fd73-44c7-b133-feff52067984"
      },
      "outputs": [
        {
          "name": "stdout",
          "output_type": "stream",
          "text": [
            "Epoch 001: Train Loss: 0.6644, Train Acc: 0.5889, Train AUC: 0.6972\n",
            "Epoch 002: Train Loss: 0.7376, Train Acc: 0.5149, Train AUC: 0.7131\n",
            "Epoch 003: Train Loss: 0.6794, Train Acc: 0.5671, Train AUC: 0.7285\n",
            "Epoch 004: Train Loss: 0.6584, Train Acc: 0.5982, Train AUC: 0.7420\n",
            "Epoch 005: Train Loss: 0.6760, Train Acc: 0.5817, Train AUC: 0.7451\n",
            "Epoch 006: Train Loss: 0.6384, Train Acc: 0.6325, Train AUC: 0.7509\n",
            "Epoch 007: Train Loss: 0.6450, Train Acc: 0.6232, Train AUC: 0.7577\n",
            "Epoch 008: Train Loss: 0.6664, Train Acc: 0.5979, Train AUC: 0.7586\n",
            "Epoch 009: Train Loss: 0.6716, Train Acc: 0.5972, Train AUC: 0.7600\n",
            "Epoch 010: Train Loss: 0.6338, Train Acc: 0.6397, Train AUC: 0.7647\n",
            "Epoch 011: Train Loss: 0.6387, Train Acc: 0.6350, Train AUC: 0.7659\n",
            "Epoch 012: Train Loss: 0.6386, Train Acc: 0.6304, Train AUC: 0.7682\n",
            "Epoch 013: Train Loss: 0.6180, Train Acc: 0.6565, Train AUC: 0.7709\n",
            "Epoch 014: Train Loss: 0.6163, Train Acc: 0.6588, Train AUC: 0.7713\n",
            "Epoch 015: Train Loss: 0.6057, Train Acc: 0.6725, Train AUC: 0.7734\n",
            "Epoch 016: Train Loss: 0.6418, Train Acc: 0.6374, Train AUC: 0.7708\n",
            "Epoch 017: Train Loss: 0.6183, Train Acc: 0.6597, Train AUC: 0.7731\n",
            "Epoch 018: Train Loss: 0.6878, Train Acc: 0.6025, Train AUC: 0.7707\n",
            "Epoch 019: Train Loss: 0.6736, Train Acc: 0.6142, Train AUC: 0.7724\n",
            "Epoch 020: Train Loss: 0.6466, Train Acc: 0.6336, Train AUC: 0.7764\n",
            "Epoch 021: Train Loss: 0.6559, Train Acc: 0.6314, Train AUC: 0.7768\n",
            "Epoch 022: Train Loss: 0.6223, Train Acc: 0.6577, Train AUC: 0.7766\n",
            "Epoch 023: Train Loss: 0.6908, Train Acc: 0.6088, Train AUC: 0.7758\n",
            "Epoch 024: Train Loss: 0.6566, Train Acc: 0.6341, Train AUC: 0.7754\n",
            "Epoch 025: Train Loss: 0.7058, Train Acc: 0.6036, Train AUC: 0.7766\n",
            "Epoch 026: Train Loss: 0.6472, Train Acc: 0.6446, Train AUC: 0.7788\n",
            "Epoch 027: Train Loss: 0.6532, Train Acc: 0.6392, Train AUC: 0.7789\n",
            "Epoch 028: Train Loss: 0.6657, Train Acc: 0.6324, Train AUC: 0.7764\n",
            "Epoch 029: Train Loss: 0.6817, Train Acc: 0.6141, Train AUC: 0.7792\n",
            "Epoch 030: Train Loss: 0.6263, Train Acc: 0.6601, Train AUC: 0.7815\n"
          ]
        }
      ],
      "source": [
        "train_losses = []\n",
        "train_accs = []\n",
        "train_aucs = []\n",
        "\n",
        "def train():\n",
        "    model.train()\n",
        "    total_loss = 0\n",
        "    for data in train_loader:\n",
        "        data = data.to(device)\n",
        "        optimizer.zero_grad()\n",
        "        out = model(data)\n",
        "        target = data.y.float().unsqueeze(1)\n",
        "        loss = criterion(out, target)\n",
        "        loss.backward()\n",
        "        optimizer.step()\n",
        "        total_loss += loss.item() * data.num_graphs\n",
        "    return total_loss / len(train_loader.dataset)\n",
        "\n",
        "def evaluate(loader):\n",
        "    model.eval()\n",
        "    total_loss = 0\n",
        "    correct = 0\n",
        "    all_probs = []\n",
        "    all_targets = []\n",
        "    with torch.no_grad():\n",
        "        for data in loader:\n",
        "            data = data.to(device)\n",
        "            out = model(data)\n",
        "            target = data.y.float().unsqueeze(1)\n",
        "            loss = criterion(out, target)\n",
        "            total_loss += loss.item() * data.num_graphs\n",
        "\n",
        "            probs = torch.sigmoid(out)\n",
        "            all_probs.append(probs.cpu().numpy())\n",
        "            all_targets.append(target.cpu().numpy())\n",
        "\n",
        "            pred = (probs > 0.5).float()\n",
        "            correct += int((pred == target).sum())\n",
        "\n",
        "    avg_loss = total_loss / len(loader.dataset)\n",
        "    accuracy = correct / len(loader.dataset)\n",
        "\n",
        "    all_probs = np.concatenate(all_probs).ravel()\n",
        "    all_targets = np.concatenate(all_targets).ravel()\n",
        "    auc_score = roc_auc_score(all_targets, all_probs)\n",
        "\n",
        "    return avg_loss, accuracy, auc_score\n",
        "\n",
        "epochs = 30\n",
        "for epoch in range(1, epochs+1):\n",
        "    train_loss = train()\n",
        "    train_loss, train_acc, train_auc = evaluate(train_loader)\n",
        "\n",
        "    train_losses.append(train_loss)\n",
        "    train_accs.append(train_acc)\n",
        "    train_aucs.append(train_auc)\n",
        "\n",
        "    print(f\"Epoch {epoch:03d}: Train Loss: {train_loss:.4f}, Train Acc: {train_acc:.4f}, Train AUC: {train_auc:.4f}\")"
      ]
    },
    {
      "cell_type": "code",
      "execution_count": null,
      "id": "e5ef8ee8",
      "metadata": {
        "execution": {
          "iopub.execute_input": "2025-03-25T18:00:23.584817Z",
          "iopub.status.busy": "2025-03-25T18:00:23.584528Z",
          "iopub.status.idle": "2025-03-25T18:00:31.023017Z",
          "shell.execute_reply": "2025-03-25T18:00:31.022109Z"
        },
        "papermill": {
          "duration": 7.450385,
          "end_time": "2025-03-25T18:00:31.024692",
          "exception": false,
          "start_time": "2025-03-25T18:00:23.574307",
          "status": "completed"
        },
        "tags": [],
        "id": "e5ef8ee8",
        "outputId": "02955798-c8b2-4711-ec7e-2154116f3a5d"
      },
      "outputs": [
        {
          "data": {
            "image/png": "[encoded data removed]",
            "text/plain": [
              "<Figure size 800x600 with 1 Axes>"
            ]
          },
          "metadata": {},
          "output_type": "display_data"
        }
      ],
      "source": [
        "def plot_roc(model, loader, device):\n",
        "    model.eval()\n",
        "    probs_list, targets_list = [], []\n",
        "    with torch.no_grad():\n",
        "        for data in loader:\n",
        "            data = data.to(device)\n",
        "            out = model(data)\n",
        "            probs_list.append(torch.sigmoid(out).cpu().numpy())\n",
        "            targets_list.append(data.y.cpu().numpy())\n",
        "\n",
        "    probs = np.concatenate(probs_list).ravel()\n",
        "    targets = np.concatenate(targets_list).ravel()\n",
        "\n",
        "    fpr, tpr, _ = roc_curve(targets, probs)\n",
        "    roc_auc = auc(fpr, tpr)\n",
        "\n",
        "    plt.figure(figsize=(8, 6))\n",
        "    plt.plot(fpr, tpr, label=f'AUC = {roc_auc:.2f}', color='darkorange')\n",
        "    plt.plot([0, 1], [0, 1], '--', color='navy')\n",
        "    plt.xlabel('False Positive Rate')\n",
        "    plt.ylabel('True Positive Rate')\n",
        "    plt.title('ROC Curve')\n",
        "    plt.legend(loc='lower right')\n",
        "    plt.show()\n",
        "\n",
        "plot_roc(model, test_loader, device)\n"
      ]
    }
  ],
  "metadata": {
    "kaggle": {
      "accelerator": "nvidiaTeslaT4",
      "dataSources": [],
      "isGpuEnabled": true,
      "isInternetEnabled": true,
      "language": "python",
      "sourceType": "notebook"
    },
    "kernelspec": {
      "display_name": "Python 3",
      "language": "python",
      "name": "python3"
    },
    "language_info": {
      "codemirror_mode": {
        "name": "ipython",
        "version": 3
      },
      "file_extension": ".py",
      "mimetype": "text/x-python",
      "name": "python",
      "nbconvert_exporter": "python",
      "pygments_lexer": "ipython3",
      "version": "3.10.12"
    },
    "papermill": {
      "default_parameters": {},
      "duration": 4047.488334,
      "end_time": "2025-03-25T18:00:34.839353",
      "environment_variables": {},
      "exception": null,
      "input_path": "__notebook__.ipynb",
      "output_path": "__notebook__.ipynb",
      "parameters": {},
      "start_time": "2025-03-25T16:53:07.351019",
      "version": "2.6.0"
    },
    "colab": {
      "provenance": [],
      "include_colab_link": true
    }
  },
  "nbformat": 4,
  "nbformat_minor": 5
}
