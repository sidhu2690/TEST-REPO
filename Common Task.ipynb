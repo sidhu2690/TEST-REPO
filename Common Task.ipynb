{
 "cells": [
  {
   "cell_type": "code",
   "execution_count": 1,
   "id": "36a1fae3",
   "metadata": {
    "_cell_guid": "b1076dfc-b9ad-4769-8c92-a6c4dae69d19",
    "_uuid": "8f2839f25d086af736a60e9eeb907d3b93b6e0e5",
    "execution": {
     "iopub.execute_input": "2025-03-07T11:42:19.492920Z",
     "iopub.status.busy": "2025-03-07T11:42:19.492707Z",
     "iopub.status.idle": "2025-03-07T11:42:47.449095Z",
     "shell.execute_reply": "2025-03-07T11:42:47.448075Z"
    },
    "papermill": {
     "duration": 27.96129,
     "end_time": "2025-03-07T11:42:47.450492",
     "exception": false,
     "start_time": "2025-03-07T11:42:19.489202",
     "status": "completed"
    },
    "tags": []
   },
   "outputs": [
    {
     "name": "stdout",
     "output_type": "stream",
     "text": [
      "--2025-03-07 11:42:19--  https://cernbox.cern.ch/remote.php/dav/public-files/FbXw3V4XNyYB3oA/SingleElectronPt50_IMGCROPS_n249k_RHv1.hdf5\r\n",
      "Resolving cernbox.cern.ch (cernbox.cern.ch)... 128.142.53.35, 128.142.170.17, 137.138.120.151, ...\r\n",
      "Connecting to cernbox.cern.ch (cernbox.cern.ch)|128.142.53.35|:443... connected.\r\n",
      "HTTP request sent, awaiting response... 200 OK\r\n",
      "Length: 128927319 (123M) [application/octet-stream]\r\n",
      "Saving to: ‘SingleElectronPt50_IMGCROPS_n249k_RHv1.hdf5’\r\n",
      "\r\n",
      "SingleElectronPt50_ 100%[===================>] 122.95M  18.6MB/s    in 8.1s    \r\n",
      "\r\n",
      "2025-03-07 11:42:28 (15.2 MB/s) - ‘SingleElectronPt50_IMGCROPS_n249k_RHv1.hdf5’ saved [128927319/128927319]\r\n",
      "\r\n",
      "--2025-03-07 11:42:28--  https://cernbox.cern.ch/remote.php/dav/public-files/AtBT8y4MiQYFcgc/SinglePhotonPt50_IMGCROPS_n249k_RHv1.hdf5\r\n",
      "Resolving cernbox.cern.ch (cernbox.cern.ch)... 128.142.170.17, 128.142.53.35, 128.142.53.28, ...\r\n",
      "Connecting to cernbox.cern.ch (cernbox.cern.ch)|128.142.170.17|:443... connected.\r\n",
      "HTTP request sent, awaiting response... 200 OK\r\n",
      "Length: 119703858 (114M) [application/octet-stream]\r\n",
      "Saving to: ‘SinglePhotonPt50_IMGCROPS_n249k_RHv1.hdf5’\r\n",
      "\r\n",
      "SinglePhotonPt50_IM 100%[===================>] 114.16M  5.80MB/s    in 17s     \r\n",
      "\r\n",
      "2025-03-07 11:42:47 (6.53 MB/s) - ‘SinglePhotonPt50_IMGCROPS_n249k_RHv1.hdf5’ saved [119703858/119703858]\r\n",
      "\r\n"
     ]
    }
   ],
   "source": [
    "#Download the data\n",
    "!wget https://cernbox.cern.ch/remote.php/dav/public-files/FbXw3V4XNyYB3oA/SingleElectronPt50_IMGCROPS_n249k_RHv1.hdf5\n",
    "!wget https://cernbox.cern.ch/remote.php/dav/public-files/AtBT8y4MiQYFcgc/SinglePhotonPt50_IMGCROPS_n249k_RHv1.hdf5"
   ]
  },
  {
   "cell_type": "code",
   "execution_count": 2,
   "id": "4bd6cc85",
   "metadata": {
    "execution": {
     "iopub.execute_input": "2025-03-07T11:42:47.465340Z",
     "iopub.status.busy": "2025-03-07T11:42:47.465075Z",
     "iopub.status.idle": "2025-03-07T11:42:59.375636Z",
     "shell.execute_reply": "2025-03-07T11:42:59.374849Z"
    },
    "papermill": {
     "duration": 11.919479,
     "end_time": "2025-03-07T11:42:59.377380",
     "exception": false,
     "start_time": "2025-03-07T11:42:47.457901",
     "status": "completed"
    },
    "tags": []
   },
   "outputs": [],
   "source": [
    "import h5py\n",
    "import numpy as np\n",
    "\n",
    "\n",
    "f = h5py.File(\"SingleElectronPt50_IMGCROPS_n249k_RHv1.hdf5\", \"r\")\n",
    "g = h5py.File(\"SinglePhotonPt50_IMGCROPS_n249k_RHv1.hdf5\", \"r\")\n",
    "electron = np.asarray(f['X'])\n",
    "photon = np.asarray(g['X'])"
   ]
  },
  {
   "cell_type": "code",
   "execution_count": 3,
   "id": "5a14b62b",
   "metadata": {
    "execution": {
     "iopub.execute_input": "2025-03-07T11:42:59.401648Z",
     "iopub.status.busy": "2025-03-07T11:42:59.401152Z",
     "iopub.status.idle": "2025-03-07T11:42:59.406860Z",
     "shell.execute_reply": "2025-03-07T11:42:59.406194Z"
    },
    "papermill": {
     "duration": 0.023203,
     "end_time": "2025-03-07T11:42:59.408131",
     "exception": false,
     "start_time": "2025-03-07T11:42:59.384928",
     "status": "completed"
    },
    "tags": []
   },
   "outputs": [
    {
     "data": {
      "text/plain": [
       "((249000, 32, 32, 2), (249000, 32, 32, 2))"
      ]
     },
     "execution_count": 3,
     "metadata": {},
     "output_type": "execute_result"
    }
   ],
   "source": [
    "electron.shape, photon.shape"
   ]
  },
  {
   "cell_type": "markdown",
   "id": "37150d71",
   "metadata": {
    "papermill": {
     "duration": 0.006419,
     "end_time": "2025-03-07T11:42:59.421480",
     "exception": false,
     "start_time": "2025-03-07T11:42:59.415061",
     "status": "completed"
    },
    "tags": []
   },
   "source": [
    "#### Let's visualize"
   ]
  },
  {
   "cell_type": "code",
   "execution_count": 4,
   "id": "5bef41d1",
   "metadata": {
    "execution": {
     "iopub.execute_input": "2025-03-07T11:42:59.435555Z",
     "iopub.status.busy": "2025-03-07T11:42:59.435346Z",
     "iopub.status.idle": "2025-03-07T11:42:59.929055Z",
     "shell.execute_reply": "2025-03-07T11:42:59.928167Z"
    },
    "papermill": {
     "duration": 0.502312,
     "end_time": "2025-03-07T11:42:59.930433",
     "exception": false,
     "start_time": "2025-03-07T11:42:59.428121",
     "status": "completed"
    },
    "tags": []
   },
   "outputs": [
    {
     "data": {
      "image/png": "[encoded data removed]",
      "text/plain": [
       "<Figure size 2000x500 with 4 Axes>"
      ]
     },
     "metadata": {},
     "output_type": "display_data"
    }
   ],
   "source": [
    "import matplotlib.pyplot as plt\n",
    "\n",
    "electron_img = electron[0]  \n",
    "photon_img = photon[0]      \n",
    "\n",
    "fig, axes = plt.subplots(1, 4, figsize=(20, 5))\n",
    "\n",
    "axes[0].imshow(electron_img[:, :, 0], cmap='viridis')\n",
    "axes[0].set_title(\"Electron - Channel 1\")\n",
    "axes[0].axis(\"off\")\n",
    "\n",
    "axes[1].imshow(electron_img[:, :, 1], cmap='viridis')\n",
    "axes[1].set_title(\"Electron - Channel 2\")\n",
    "axes[1].axis(\"off\")\n",
    "\n",
    "axes[2].imshow(photon_img[:, :, 0], cmap='viridis')\n",
    "axes[2].set_title(\"Photon - Channel 1\")\n",
    "axes[2].axis(\"off\")\n",
    "\n",
    "axes[3].imshow(photon_img[:, :, 1], cmap='viridis')\n",
    "axes[3].set_title(\"Photon - Channel 2\")\n",
    "axes[3].axis(\"off\")\n",
    "\n",
    "plt.tight_layout()\n",
    "plt.show()\n"
   ]
  },
  {
   "cell_type": "markdown",
   "id": "39de65fe",
   "metadata": {
    "papermill": {
     "duration": 0.006829,
     "end_time": "2025-03-07T11:42:59.944410",
     "exception": false,
     "start_time": "2025-03-07T11:42:59.937581",
     "status": "completed"
    },
    "tags": []
   },
   "source": [
    "#### Let's normalize"
   ]
  },
  {
   "cell_type": "code",
   "execution_count": 5,
   "id": "81b412c1",
   "metadata": {
    "execution": {
     "iopub.execute_input": "2025-03-07T11:42:59.958823Z",
     "iopub.status.busy": "2025-03-07T11:42:59.958596Z",
     "iopub.status.idle": "2025-03-07T11:43:23.864574Z",
     "shell.execute_reply": "2025-03-07T11:43:23.863830Z"
    },
    "papermill": {
     "duration": 23.915053,
     "end_time": "2025-03-07T11:43:23.866223",
     "exception": false,
     "start_time": "2025-03-07T11:42:59.951170",
     "status": "completed"
    },
    "tags": []
   },
   "outputs": [],
   "source": [
    "import torch\n",
    "import numpy as np\n",
    "import h5py\n",
    "from torch.utils.data import Dataset, DataLoader, random_split\n",
    "\n",
    "f = h5py.File(\"SingleElectronPt50_IMGCROPS_n249k_RHv1.hdf5\", \"r\")\n",
    "g = h5py.File(\"SinglePhotonPt50_IMGCROPS_n249k_RHv1.hdf5\", \"r\")\n",
    "electron = np.asarray(f['X'])\n",
    "photon = np.asarray(g['X'])\n",
    "\n",
    "channel1_elect = (electron[:,:,:,0] - electron[:,:,:,0].min()) / (electron[:,:,:,0].max() - electron[:,:,:,0].min())\n",
    "channel2_elect = (electron[:,:,:,1] - electron[:,:,:,1].min()) / (electron[:,:,:,1].max() - electron[:,:,:,1].min())\n",
    "channel1_phot = (photon[:,:,:,0] - photon[:,:,:,0].min()) / (photon[:,:,:,0].max() - photon[:,:,:,0].min())\n",
    "channel2_phot = (photon[:,:,:,1] - photon[:,:,:,1].min()) / (photon[:,:,:,1].max() - photon[:,:,:,1].min())\n",
    "\n",
    "channel1_elect_reshaped = np.reshape(channel1_elect, (-1, 32*32))\n",
    "channel2_elect_reshaped = np.reshape(channel2_elect, (-1, 32*32))\n",
    "channel1_phot_reshaped = np.reshape(channel1_phot, (-1, 32*32))\n",
    "channel2_phot_reshaped = np.reshape(channel2_phot, (-1, 32*32))\n",
    "\n",
    "elect_reshaped = np.concatenate([channel1_elect_reshaped, channel2_elect_reshaped], axis=-1)\n",
    "phot_reshaped = np.concatenate([channel1_phot_reshaped, channel2_phot_reshaped], axis=-1)\n",
    "\n",
    "elect_reshaped = (elect_reshaped * 255).astype(np.uint8)\n",
    "phot_reshaped = (phot_reshaped * 255).astype(np.uint8)\n",
    "\n",
    "elect_labels = np.ones((elect_reshaped.shape[0], 1), dtype=np.uint8)\n",
    "phot_labels = np.zeros((phot_reshaped.shape[0], 1), dtype=np.uint8)\n",
    "\n",
    "electron_clean = np.concatenate([elect_reshaped, elect_labels], axis=1)\n",
    "photon_clean = np.concatenate([phot_reshaped, phot_labels], axis=1)\n",
    "\n",
    "data = np.concatenate([electron_clean, photon_clean], axis=0)\n",
    "\n",
    "class ParticleDataset(Dataset):\n",
    "    def __init__(self, data):\n",
    "        self.data = data\n",
    "    def __len__(self):\n",
    "        return self.data.shape[0]\n",
    "    def __getitem__(self, idx):\n",
    "        sample = self.data[idx]\n",
    "        image = sample[:-1]\n",
    "        label = sample[-1]\n",
    "        image = torch.tensor(image, dtype=torch.float32)\n",
    "        label = torch.tensor(label, dtype=torch.long)\n",
    "        return image, label\n",
    "\n",
    "dataset = ParticleDataset(data)\n",
    "train_size = int(0.8 * len(dataset))\n",
    "test_size = len(dataset) - train_size\n",
    "train_dataset, test_dataset = random_split(dataset, [train_size, test_size])\n",
    "train_loader = DataLoader(train_dataset, batch_size=64, shuffle=True)\n",
    "test_loader = DataLoader(test_dataset, batch_size=64, shuffle=False)"
   ]
  },
  {
   "cell_type": "code",
   "execution_count": 6,
   "id": "551e03ae",
   "metadata": {
    "execution": {
     "iopub.execute_input": "2025-03-07T11:43:23.881268Z",
     "iopub.status.busy": "2025-03-07T11:43:23.880861Z",
     "iopub.status.idle": "2025-03-07T11:43:23.919576Z",
     "shell.execute_reply": "2025-03-07T11:43:23.918978Z"
    },
    "papermill": {
     "duration": 0.047817,
     "end_time": "2025-03-07T11:43:23.921311",
     "exception": false,
     "start_time": "2025-03-07T11:43:23.873494",
     "status": "completed"
    },
    "tags": []
   },
   "outputs": [],
   "source": [
    "import torch\n",
    "import torch.nn as nn\n",
    "import torch.optim as optim\n",
    "import torch.nn.functional as F\n",
    "\n",
    "\n",
    "class BasicBlock(nn.Module):\n",
    "    def __init__(self, channels):\n",
    "        super(BasicBlock, self).__init__()\n",
    "        self.conv1 = nn.Conv2d(channels, channels, kernel_size=3, padding=1, bias=False)\n",
    "        self.bn1 = nn.BatchNorm2d(channels)\n",
    "        self.relu = nn.ReLU(inplace=True)\n",
    "        self.conv2 = nn.Conv2d(channels, channels, kernel_size=3, padding=1, bias=False)\n",
    "        self.bn2 = nn.BatchNorm2d(channels)\n",
    "    \n",
    "    def forward(self, x):\n",
    "        identity = x\n",
    "        out = self.conv1(x)\n",
    "        out = self.bn1(out)\n",
    "        out = self.relu(out)\n",
    "        out = self.conv2(out)\n",
    "        out = self.bn2(out)\n",
    "        out += identity\n",
    "        out = self.relu(out)\n",
    "        return out\n",
    "\n",
    "class ResNet15(nn.Module):\n",
    "    def __init__(self, num_classes=1):\n",
    "        super(ResNet15, self).__init__()\n",
    "        self.conv1 = nn.Conv2d(2, 16, kernel_size=3, padding=1, bias=False)\n",
    "        self.bn1 = nn.BatchNorm2d(16)\n",
    "        self.relu = nn.ReLU(inplace=True)\n",
    "        self.layer1 = self._make_layer(16, 7)\n",
    "        self.avgpool = nn.AdaptiveAvgPool2d((1, 1))\n",
    "        self.fc = nn.Linear(16, num_classes)\n",
    "    \n",
    "    def _make_layer(self, channels, blocks):\n",
    "        layers = []\n",
    "        for _ in range(blocks):\n",
    "            layers.append(BasicBlock(channels))\n",
    "        return nn.Sequential(*layers)\n",
    "    \n",
    "    def forward(self, x):\n",
    "        x = self.conv1(x)\n",
    "        x = self.bn1(x)\n",
    "        x = self.relu(x)\n",
    "        x = self.layer1(x)\n",
    "        x = self.avgpool(x)\n",
    "        x = torch.flatten(x, 1)\n",
    "        x = self.fc(x)\n",
    "        return x\n",
    "\n",
    "model = ResNet15(num_classes=1)"
   ]
  },
  {
   "cell_type": "code",
   "execution_count": 7,
   "id": "f145f4ba",
   "metadata": {
    "execution": {
     "iopub.execute_input": "2025-03-07T11:43:23.935674Z",
     "iopub.status.busy": "2025-03-07T11:43:23.935440Z",
     "iopub.status.idle": "2025-03-07T11:43:27.744139Z",
     "shell.execute_reply": "2025-03-07T11:43:27.743322Z"
    },
    "papermill": {
     "duration": 3.817527,
     "end_time": "2025-03-07T11:43:27.745806",
     "exception": false,
     "start_time": "2025-03-07T11:43:23.928279",
     "status": "completed"
    },
    "tags": []
   },
   "outputs": [],
   "source": [
    "device = torch.device(\"cuda\" if torch.cuda.is_available() else \"cpu\")\n",
    "\n",
    "if torch.cuda.device_count() > 1:\n",
    "    model = nn.DataParallel(model)\n",
    "model.to(device)\n",
    "\n",
    "criterion = nn.BCEWithLogitsLoss()\n",
    "optimizer = optim.Adam(model.parameters(), lr=0.0001)\n",
    "num_epochs = 15"
   ]
  },
  {
   "cell_type": "code",
   "execution_count": 8,
   "id": "15774f5b",
   "metadata": {
    "execution": {
     "iopub.execute_input": "2025-03-07T11:43:27.761135Z",
     "iopub.status.busy": "2025-03-07T11:43:27.760637Z",
     "iopub.status.idle": "2025-03-07T12:20:31.431028Z",
     "shell.execute_reply": "2025-03-07T12:20:31.430166Z"
    },
    "papermill": {
     "duration": 2223.679358,
     "end_time": "2025-03-07T12:20:31.432501",
     "exception": false,
     "start_time": "2025-03-07T11:43:27.753143",
     "status": "completed"
    },
    "tags": []
   },
   "outputs": [
    {
     "name": "stdout",
     "output_type": "stream",
     "text": [
      "Epoch 1/15, Loss: 0.6347, Accuracy: 0.6447\n",
      "Epoch 2/15, Loss: 0.5982, Accuracy: 0.6886\n",
      "Epoch 3/15, Loss: 0.5837, Accuracy: 0.7021\n",
      "Epoch 4/15, Loss: 0.5746, Accuracy: 0.7102\n",
      "Epoch 5/15, Loss: 0.5681, Accuracy: 0.7148\n",
      "Epoch 6/15, Loss: 0.5630, Accuracy: 0.7183\n",
      "Epoch 7/15, Loss: 0.5587, Accuracy: 0.7208\n",
      "Epoch 8/15, Loss: 0.5559, Accuracy: 0.7230\n",
      "Epoch 9/15, Loss: 0.5530, Accuracy: 0.7243\n",
      "Epoch 10/15, Loss: 0.5500, Accuracy: 0.7266\n",
      "Epoch 11/15, Loss: 0.5473, Accuracy: 0.7283\n",
      "Epoch 12/15, Loss: 0.5457, Accuracy: 0.7294\n",
      "Epoch 13/15, Loss: 0.5439, Accuracy: 0.7303\n",
      "Epoch 14/15, Loss: 0.5429, Accuracy: 0.7309\n",
      "Epoch 15/15, Loss: 0.5410, Accuracy: 0.7321\n",
      "Test Loss: 0.5512, Test Accuracy: 0.7289\n"
     ]
    }
   ],
   "source": [
    "for epoch in range(num_epochs):\n",
    "    model.train()\n",
    "    running_loss = 0.0\n",
    "    running_corrects = 0\n",
    "    for images, labels in train_loader:\n",
    "        images = images.view(-1, 2, 32, 32).to(device)\n",
    "        labels = labels.float().unsqueeze(1).to(device)\n",
    "        optimizer.zero_grad()\n",
    "        outputs = model(images)\n",
    "        loss = criterion(outputs, labels)\n",
    "        loss.backward()\n",
    "        optimizer.step()\n",
    "        running_loss += loss.item() * images.size(0)\n",
    "        preds = (torch.sigmoid(outputs) >= 0.5).float()\n",
    "        running_corrects += torch.sum(preds == labels)\n",
    "    epoch_loss = running_loss / len(train_loader.dataset)\n",
    "    epoch_acc = running_corrects.double() / len(train_loader.dataset)\n",
    "    print(f\"Epoch {epoch+1}/{num_epochs}, Loss: {epoch_loss:.4f}, Accuracy: {epoch_acc:.4f}\")\n",
    "\n",
    "model.eval()\n",
    "test_loss = 0.0\n",
    "test_corrects = 0\n",
    "with torch.no_grad():\n",
    "    for images, labels in test_loader:\n",
    "        images = images.view(-1, 2, 32, 32).to(device)\n",
    "        labels = labels.float().unsqueeze(1).to(device)\n",
    "        outputs = model(images)\n",
    "        loss = criterion(outputs, labels)\n",
    "        test_loss += loss.item() * images.size(0)\n",
    "        preds = (torch.sigmoid(outputs) >= 0.5).float()\n",
    "        test_corrects += torch.sum(preds == labels)\n",
    "    test_loss /= len(test_loader.dataset)\n",
    "    test_acc = test_corrects.double() / len(test_loader.dataset)\n",
    "print(f\"Test Loss: {test_loss:.4f}, Test Accuracy: {test_acc:.4f}\")"
   ]
  },
  {
   "cell_type": "code",
   "execution_count": 9,
   "id": "79a59840",
   "metadata": {
    "execution": {
     "iopub.execute_input": "2025-03-07T12:20:31.449535Z",
     "iopub.status.busy": "2025-03-07T12:20:31.449300Z",
     "iopub.status.idle": "2025-03-07T12:20:54.216984Z",
     "shell.execute_reply": "2025-03-07T12:20:54.216128Z"
    },
    "papermill": {
     "duration": 22.777464,
     "end_time": "2025-03-07T12:20:54.218431",
     "exception": false,
     "start_time": "2025-03-07T12:20:31.440967",
     "status": "completed"
    },
    "tags": []
   },
   "outputs": [
    {
     "data": {
      "image/png": "[encoded data removed]",
      "text/plain": [
       "<Figure size 600x400 with 1 Axes>"
      ]
     },
     "metadata": {},
     "output_type": "display_data"
    }
   ],
   "source": [
    "from sklearn.metrics import roc_curve, auc\n",
    "\n",
    "model.eval()\n",
    "all_labels = []\n",
    "all_probs = []\n",
    "with torch.no_grad():\n",
    "    for images, labels in test_loader:\n",
    "        images = images.view(-1, 2, 32, 32).to(device)\n",
    "        labels = labels.float().unsqueeze(1).to(device)\n",
    "        outputs = model(images)\n",
    "        probs = torch.sigmoid(outputs)\n",
    "        all_labels.append(labels.cpu().numpy())\n",
    "        all_probs.append(probs.cpu().numpy())\n",
    "\n",
    "all_labels = np.concatenate(all_labels)\n",
    "all_probs = np.concatenate(all_probs)\n",
    "\n",
    "fpr, tpr, _ = roc_curve(all_labels, all_probs)\n",
    "roc_auc = auc(fpr, tpr)\n",
    "\n",
    "plt.figure(figsize=(6, 4))\n",
    "plt.plot(fpr, tpr, lw=2, label='ROC curve (AUC = %0.2f)' % roc_auc)\n",
    "plt.plot([0, 1], [0, 1], lw=2, linestyle='--', color='gray')\n",
    "plt.xlim([0.0, 1.0])\n",
    "plt.ylim([0.0, 1.05])\n",
    "plt.xlabel('False Positive Rate')\n",
    "plt.ylabel('True Positive Rate')\n",
    "plt.title('Receiver Operating Characteristic')\n",
    "plt.legend(loc=\"lower right\")\n",
    "plt.show()\n"
   ]
  },
  {
   "cell_type": "code",
   "execution_count": null,
   "id": "8b3c87cb",
   "metadata": {
    "papermill": {
     "duration": 0.00796,
     "end_time": "2025-03-07T12:20:54.235308",
     "exception": false,
     "start_time": "2025-03-07T12:20:54.227348",
     "status": "completed"
    },
    "tags": []
   },
   "outputs": [],
   "source": []
  }
 ],
 "metadata": {
  "kaggle": {
   "accelerator": "nvidiaTeslaT4",
   "dataSources": [],
   "dockerImageVersionId": 30919,
   "isGpuEnabled": true,
   "isInternetEnabled": true,
   "language": "python",
   "sourceType": "notebook"
  },
  "kernelspec": {
   "display_name": "Python 3",
   "language": "python",
   "name": "python3"
  },
  "language_info": {
   "codemirror_mode": {
    "name": "ipython",
    "version": 3
   },
   "file_extension": ".py",
   "mimetype": "text/x-python",
   "name": "python",
   "nbconvert_exporter": "python",
   "pygments_lexer": "ipython3",
   "version": "3.10.12"
  },
  "papermill": {
   "default_parameters": {},
   "duration": 2319.585497,
   "end_time": "2025-03-07T12:20:56.569304",
   "environment_variables": {},
   "exception": null,
   "input_path": "__notebook__.ipynb",
   "output_path": "__notebook__.ipynb",
   "parameters": {},
   "start_time": "2025-03-07T11:42:16.983807",
   "version": "2.6.0"
  }
 },
 "nbformat": 4,
 "nbformat_minor": 5
}
