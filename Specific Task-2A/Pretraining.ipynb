{
  "cells": [
    {
      "cell_type": "markdown",
      "metadata": {
        "id": "view-in-github",
        "colab_type": "text"
      },
      "source": [
        "<a href=\"https://colab.research.google.com/github/sidhu2690/TEST-REPO/blob/main/Pretraining.ipynb\" target=\"_parent\"><img src=\"https://colab.research.google.com/assets/colab-badge.svg\" alt=\"Open In Colab\"/></a>"
      ]
    },
    {
      "cell_type": "code",
      "execution_count": null,
      "id": "6f15e696",
      "metadata": {
        "execution": {
          "iopub.execute_input": "2025-04-01T13:21:15.547404Z",
          "iopub.status.busy": "2025-04-01T13:21:15.547017Z",
          "iopub.status.idle": "2025-04-01T13:23:41.750468Z",
          "shell.execute_reply": "2025-04-01T13:23:41.749556Z"
        },
        "papermill": {
          "duration": 146.214581,
          "end_time": "2025-04-01T13:23:41.755309",
          "exception": false,
          "start_time": "2025-04-01T13:21:15.540728",
          "status": "completed"
        },
        "tags": [],
        "id": "6f15e696",
        "outputId": "5b59864d-f9f8-472c-cf5d-6b5fc23ba39d"
      },
      "outputs": [
        {
          "name": "stdout",
          "output_type": "stream",
          "text": [
            "   target  lepton_pt  lepton_eta  lepton_phi       met   met_phi   jet1_pt  \\\n",
            "0     1.0   0.869293   -0.635082    0.225690  0.327470 -0.689993  0.754202   \n",
            "1     1.0   0.907542    0.329147    0.359412  1.497970 -0.313010  1.095531   \n",
            "2     1.0   0.798835    1.470639   -1.635975  0.453773  0.425629  1.104875   \n",
            "3     0.0   1.344385   -0.876626    0.935913  1.992050  0.882454  1.786066   \n",
            "4     1.0   1.105009    0.321356    1.522401  0.882808 -1.205349  0.681466   \n",
            "\n",
            "   jet1_eta  jet1_phi  jet1_btag  ...  jet4_eta  jet4_phi  jet4_btag  \\\n",
            "0 -0.248573 -1.092064   0.000000  ... -0.010455 -0.045767   3.101961   \n",
            "1 -0.557525 -1.588230   2.173076  ... -1.138930 -0.000819   0.000000   \n",
            "2  1.282322  1.381664   0.000000  ...  1.128848  0.900461   0.000000   \n",
            "3 -1.646778 -0.942383   0.000000  ... -0.678379 -1.360356   0.000000   \n",
            "4 -1.070464 -0.921871   0.000000  ... -0.373566  0.113041   0.000000   \n",
            "\n",
            "       m_jj     m_jjj      m_lv     m_jlv      m_bb     m_wbb    m_wwbb  \n",
            "0  1.353760  0.979563  0.978076  0.920005  0.721657  0.988751  0.876678  \n",
            "1  0.302220  0.833048  0.985700  0.978098  0.779732  0.992356  0.798343  \n",
            "2  0.909753  1.108330  0.985692  0.951331  0.803252  0.865924  0.780118  \n",
            "3  0.946652  1.028704  0.998656  0.728281  0.869200  1.026736  0.957904  \n",
            "4  0.755856  1.361057  0.986610  0.838085  1.133295  0.872245  0.808487  \n",
            "\n",
            "[5 rows x 29 columns]\n"
          ]
        }
      ],
      "source": [
        "import pandas as pd\n",
        "\n",
        "df = pd.read_csv('/kaggle/input/2a-data/HIGGS.csv.gz', header=None)\n",
        "\n",
        "column_names = [\n",
        "    'target', 'lepton_pt', 'lepton_eta', 'lepton_phi', 'met', 'met_phi',\n",
        "    'jet1_pt', 'jet1_eta', 'jet1_phi', 'jet1_btag', 'jet2_pt', 'jet2_eta',\n",
        "    'jet2_phi', 'jet2_btag', 'jet3_pt', 'jet3_eta', 'jet3_phi', 'jet3_btag',\n",
        "    'jet4_pt', 'jet4_eta', 'jet4_phi', 'jet4_btag', 'm_jj', 'm_jjj', 'm_lv',\n",
        "    'm_jlv', 'm_bb', 'm_wbb', 'm_wwbb'\n",
        "]\n",
        "\n",
        "df.columns = column_names\n",
        "\n",
        "print(df.head())"
      ]
    },
    {
      "cell_type": "code",
      "execution_count": null,
      "id": "714ec773",
      "metadata": {
        "execution": {
          "iopub.execute_input": "2025-04-01T13:23:41.765127Z",
          "iopub.status.busy": "2025-04-01T13:23:41.764871Z",
          "iopub.status.idle": "2025-04-01T13:23:41.768245Z",
          "shell.execute_reply": "2025-04-01T13:23:41.767584Z"
        },
        "papermill": {
          "duration": 0.00955,
          "end_time": "2025-04-01T13:23:41.769446",
          "exception": false,
          "start_time": "2025-04-01T13:23:41.759896",
          "status": "completed"
        },
        "tags": [],
        "id": "714ec773"
      },
      "outputs": [],
      "source": [
        "data = df.iloc[:, 1:22]"
      ]
    },
    {
      "cell_type": "code",
      "execution_count": null,
      "id": "1f0fe470",
      "metadata": {
        "execution": {
          "iopub.execute_input": "2025-04-01T13:23:41.778461Z",
          "iopub.status.busy": "2025-04-01T13:23:41.778253Z",
          "iopub.status.idle": "2025-04-01T13:23:41.800141Z",
          "shell.execute_reply": "2025-04-01T13:23:41.799440Z"
        },
        "papermill": {
          "duration": 0.027836,
          "end_time": "2025-04-01T13:23:41.801304",
          "exception": false,
          "start_time": "2025-04-01T13:23:41.773468",
          "status": "completed"
        },
        "tags": [],
        "id": "1f0fe470",
        "outputId": "ec6d6eaf-2f8c-45c3-a55e-4e39166f60b3"
      },
      "outputs": [
        {
          "name": "stdout",
          "output_type": "stream",
          "text": [
            "<class 'pandas.core.frame.DataFrame'>\n",
            "RangeIndex: 11000000 entries, 0 to 10999999\n",
            "Data columns (total 21 columns):\n",
            " #   Column      Dtype  \n",
            "---  ------      -----  \n",
            " 0   lepton_pt   float64\n",
            " 1   lepton_eta  float64\n",
            " 2   lepton_phi  float64\n",
            " 3   met         float64\n",
            " 4   met_phi     float64\n",
            " 5   jet1_pt     float64\n",
            " 6   jet1_eta    float64\n",
            " 7   jet1_phi    float64\n",
            " 8   jet1_btag   float64\n",
            " 9   jet2_pt     float64\n",
            " 10  jet2_eta    float64\n",
            " 11  jet2_phi    float64\n",
            " 12  jet2_btag   float64\n",
            " 13  jet3_pt     float64\n",
            " 14  jet3_eta    float64\n",
            " 15  jet3_phi    float64\n",
            " 16  jet3_btag   float64\n",
            " 17  jet4_pt     float64\n",
            " 18  jet4_eta    float64\n",
            " 19  jet4_phi    float64\n",
            " 20  jet4_btag   float64\n",
            "dtypes: float64(21)\n",
            "memory usage: 1.7 GB\n"
          ]
        }
      ],
      "source": [
        "data.info()"
      ]
    },
    {
      "cell_type": "code",
      "execution_count": null,
      "id": "542d70e7",
      "metadata": {
        "execution": {
          "iopub.execute_input": "2025-04-01T13:23:41.810576Z",
          "iopub.status.busy": "2025-04-01T13:23:41.810384Z",
          "iopub.status.idle": "2025-04-01T13:23:46.926370Z",
          "shell.execute_reply": "2025-04-01T13:23:46.925651Z"
        },
        "papermill": {
          "duration": 5.122129,
          "end_time": "2025-04-01T13:23:46.927872",
          "exception": false,
          "start_time": "2025-04-01T13:23:41.805743",
          "status": "completed"
        },
        "tags": [],
        "id": "542d70e7"
      },
      "outputs": [],
      "source": [
        "import pandas as pd\n",
        "import numpy as np\n",
        "import torch\n",
        "import matplotlib.pyplot as plt\n",
        "import seaborn as sns\n",
        "import warnings\n",
        "from torch import nn\n",
        "from torch.utils.data import DataLoader, random_split, TensorDataset\n",
        "from sklearn.preprocessing import StandardScaler\n",
        "from sklearn.metrics import mean_squared_error, mean_absolute_error\n",
        "from scipy.stats import pearsonr\n",
        "\n",
        "warnings.simplefilter(action='ignore', category=FutureWarning)"
      ]
    },
    {
      "cell_type": "code",
      "execution_count": null,
      "id": "d96d1b3c",
      "metadata": {
        "execution": {
          "iopub.execute_input": "2025-04-01T13:23:46.939019Z",
          "iopub.status.busy": "2025-04-01T13:23:46.938674Z",
          "iopub.status.idle": "2025-04-01T13:23:47.393469Z",
          "shell.execute_reply": "2025-04-01T13:23:47.392483Z"
        },
        "papermill": {
          "duration": 0.462073,
          "end_time": "2025-04-01T13:23:47.395140",
          "exception": false,
          "start_time": "2025-04-01T13:23:46.933067",
          "status": "completed"
        },
        "tags": [],
        "id": "d96d1b3c"
      },
      "outputs": [],
      "source": [
        "def transform_data(data):\n",
        "    phi_indices = [2, 4, 7, 11, 15, 19]\n",
        "    transformed = []\n",
        "    for i in range(21):\n",
        "        if i in phi_indices:\n",
        "            cos_phi = np.cos(data[:, i])\n",
        "            sin_phi = np.sin(data[:, i])\n",
        "            transformed.append(cos_phi)\n",
        "            transformed.append(sin_phi)\n",
        "        else:\n",
        "            transformed.append(data[:, i])\n",
        "    transformed = np.stack(transformed, axis=1)\n",
        "    return transformed\n",
        "\n",
        "\n",
        "data_np = data.to_numpy()\n",
        "train_data = data_np[:1000000]\n",
        "test_data_probe = data_np[1000000:1100000]\n",
        "train_data_transformed = transform_data(train_data)\n",
        "test_data_probe_transformed = transform_data(test_data_probe)"
      ]
    },
    {
      "cell_type": "code",
      "execution_count": null,
      "id": "3716e60e",
      "metadata": {
        "execution": {
          "iopub.execute_input": "2025-04-01T13:23:47.404713Z",
          "iopub.status.busy": "2025-04-01T13:23:47.404448Z",
          "iopub.status.idle": "2025-04-01T13:23:47.409765Z",
          "shell.execute_reply": "2025-04-01T13:23:47.408961Z"
        },
        "papermill": {
          "duration": 0.011246,
          "end_time": "2025-04-01T13:23:47.410938",
          "exception": false,
          "start_time": "2025-04-01T13:23:47.399692",
          "status": "completed"
        },
        "tags": [],
        "id": "3716e60e",
        "outputId": "0ead533f-154a-4631-e84d-10a733348deb"
      },
      "outputs": [
        {
          "data": {
            "text/plain": [
              "(1000000, 27)"
            ]
          },
          "execution_count": 6,
          "metadata": {},
          "output_type": "execute_result"
        }
      ],
      "source": [
        "train_data_transformed.shape"
      ]
    },
    {
      "cell_type": "code",
      "execution_count": null,
      "id": "9af2bbe0",
      "metadata": {
        "execution": {
          "iopub.execute_input": "2025-04-01T13:23:47.420383Z",
          "iopub.status.busy": "2025-04-01T13:23:47.420140Z",
          "iopub.status.idle": "2025-04-01T13:23:47.868070Z",
          "shell.execute_reply": "2025-04-01T13:23:47.867142Z"
        },
        "papermill": {
          "duration": 0.454392,
          "end_time": "2025-04-01T13:23:47.869776",
          "exception": false,
          "start_time": "2025-04-01T13:23:47.415384",
          "status": "completed"
        },
        "tags": [],
        "id": "9af2bbe0"
      },
      "outputs": [],
      "source": [
        "scaler = StandardScaler()\n",
        "train_data_transformed_scaled = scaler.fit_transform(train_data_transformed)\n",
        "test_data_probe_transformed_scaled = scaler.transform(test_data_probe_transformed)"
      ]
    },
    {
      "cell_type": "code",
      "execution_count": null,
      "id": "6a237a18",
      "metadata": {
        "execution": {
          "iopub.execute_input": "2025-04-01T13:23:47.881771Z",
          "iopub.status.busy": "2025-04-01T13:23:47.881515Z",
          "iopub.status.idle": "2025-04-01T13:23:48.013526Z",
          "shell.execute_reply": "2025-04-01T13:23:48.012577Z"
        },
        "papermill": {
          "duration": 0.139689,
          "end_time": "2025-04-01T13:23:48.015243",
          "exception": false,
          "start_time": "2025-04-01T13:23:47.875554",
          "status": "completed"
        },
        "tags": [],
        "id": "6a237a18"
      },
      "outputs": [],
      "source": [
        "train_data_reshaped = torch.tensor(train_data_transformed_scaled, dtype=torch.float32).unsqueeze(-1)\n",
        "dataset = TensorDataset(train_data_reshaped)\n",
        "train_size = int(0.9 * len(dataset))\n",
        "val_size = len(dataset) - train_size\n",
        "train_dataset, val_dataset = random_split(dataset, [train_size, val_size])"
      ]
    },
    {
      "cell_type": "code",
      "execution_count": null,
      "id": "003517b5",
      "metadata": {
        "execution": {
          "iopub.execute_input": "2025-04-01T13:23:48.025104Z",
          "iopub.status.busy": "2025-04-01T13:23:48.024876Z",
          "iopub.status.idle": "2025-04-01T13:23:48.030469Z",
          "shell.execute_reply": "2025-04-01T13:23:48.029837Z"
        },
        "papermill": {
          "duration": 0.011656,
          "end_time": "2025-04-01T13:23:48.031694",
          "exception": false,
          "start_time": "2025-04-01T13:23:48.020038",
          "status": "completed"
        },
        "tags": [],
        "id": "003517b5"
      },
      "outputs": [],
      "source": [
        "train_loader = DataLoader(train_dataset, batch_size=512, shuffle=True, pin_memory=True)\n",
        "val_loader = DataLoader(val_dataset, batch_size=512, shuffle=False, pin_memory=True)\n",
        "test_dataset = TensorDataset(torch.tensor(test_data_probe_transformed_scaled, dtype=torch.float32).unsqueeze(-1))\n",
        "test_loader = DataLoader(test_dataset, batch_size=512, shuffle=False, pin_memory=True)"
      ]
    },
    {
      "cell_type": "code",
      "execution_count": null,
      "id": "1d4dd2fd",
      "metadata": {
        "execution": {
          "iopub.execute_input": "2025-04-01T13:23:48.040963Z",
          "iopub.status.busy": "2025-04-01T13:23:48.040761Z",
          "iopub.status.idle": "2025-04-01T13:23:48.057377Z",
          "shell.execute_reply": "2025-04-01T13:23:48.056504Z"
        },
        "papermill": {
          "duration": 0.022617,
          "end_time": "2025-04-01T13:23:48.058650",
          "exception": false,
          "start_time": "2025-04-01T13:23:48.036033",
          "status": "completed"
        },
        "tags": [],
        "id": "1d4dd2fd"
      },
      "outputs": [],
      "source": [
        "class EnhancedTransformerEncoder(nn.Module):\n",
        "    def __init__(self, input_dim=1, d_model=256, nhead=8, num_layers=4, dropout=0.3):\n",
        "        super().__init__()\n",
        "        self.feature_embed = nn.Linear(input_dim, d_model)\n",
        "        self.pos_encoder = nn.Embedding(27, d_model)\n",
        "        self.dropout = nn.Dropout(dropout)\n",
        "        encoder_layer = nn.TransformerEncoderLayer(\n",
        "            d_model=d_model, nhead=nhead, dim_feedforward=4*d_model,\n",
        "            dropout=dropout, batch_first=True\n",
        "        )\n",
        "        self.transformer = nn.TransformerEncoder(encoder_layer, num_layers=num_layers)\n",
        "\n",
        "    def forward(self, x):\n",
        "        positions = torch.arange(0, x.size(1), device=x.device).unsqueeze(0).repeat(x.size(0), 1)\n",
        "        x = self.feature_embed(x) + self.pos_encoder(positions)\n",
        "        x = self.dropout(x)\n",
        "        encoded = self.transformer(x)\n",
        "        return encoded\n",
        "\n",
        "class TransformerDecoder(nn.Module):\n",
        "    def __init__(self, d_model=128, nhead=8, num_layers=3, dropout=0.2, seq_len=27, output_dim=1):\n",
        "        super().__init__()\n",
        "        self.d_model = d_model\n",
        "        self.seq_len = seq_len\n",
        "        self.tgt_emb = nn.Parameter(torch.randn(seq_len, d_model))\n",
        "        self.pos_encoder = nn.Embedding(seq_len, d_model)\n",
        "        decoder_layer = nn.TransformerDecoderLayer(\n",
        "            d_model=d_model, nhead=nhead, dim_feedforward=4*d_model,\n",
        "            dropout=dropout, batch_first=True\n",
        "        )\n",
        "        self.transformer_decoder = nn.TransformerDecoder(decoder_layer, num_layers=num_layers)\n",
        "        self.output_layer = nn.Linear(d_model, output_dim)\n",
        "\n",
        "    def forward(self, memory):\n",
        "        batch_size = memory.size(0)\n",
        "        positions = torch.arange(0, self.seq_len, device=memory.device).unsqueeze(0).repeat(batch_size, 1)\n",
        "        tgt = self.tgt_emb.unsqueeze(0).expand(batch_size, -1, -1) + self.pos_encoder(positions)\n",
        "        decoder_output = self.transformer_decoder(tgt, memory)\n",
        "        reconstructed = self.output_layer(decoder_output)\n",
        "        return reconstructed\n",
        "\n",
        "class EnhancedTransformerAE(nn.Module):\n",
        "    def __init__(self, input_dim=1, d_model=128, nhead=8, num_layers=3, dropout=0.2, seq_len=27):\n",
        "        super().__init__()\n",
        "        self.encoder = EnhancedTransformerEncoder(input_dim, d_model, nhead, num_layers, dropout)\n",
        "        self.decoder = TransformerDecoder(d_model, nhead, num_layers, dropout, seq_len, output_dim=input_dim)\n",
        "\n",
        "    def forward(self, x):\n",
        "        encoded = self.encoder(x)\n",
        "        reconstructed = self.decoder(encoded)\n",
        "        return reconstructed, encoded.mean(dim=1)"
      ]
    },
    {
      "cell_type": "code",
      "execution_count": null,
      "id": "56f73db1",
      "metadata": {
        "execution": {
          "iopub.execute_input": "2025-04-01T13:23:48.067751Z",
          "iopub.status.busy": "2025-04-01T13:23:48.067546Z",
          "iopub.status.idle": "2025-04-01T13:23:48.072347Z",
          "shell.execute_reply": "2025-04-01T13:23:48.071549Z"
        },
        "papermill": {
          "duration": 0.010817,
          "end_time": "2025-04-01T13:23:48.073762",
          "exception": false,
          "start_time": "2025-04-01T13:23:48.062945",
          "status": "completed"
        },
        "tags": [],
        "id": "56f73db1"
      },
      "outputs": [],
      "source": [
        "#Compute visible transverse momentum components\n",
        "def compute_pT_vis(x):\n",
        "    pt_lepton = x[:, 0]\n",
        "    phi_lepton = x[:, 2]\n",
        "    pt_jet1 = x[:, 5]\n",
        "    phi_jet1 = x[:, 7]\n",
        "    pt_jet2 = x[:, 9]\n",
        "    phi_jet2 = x[:, 11]\n",
        "    pt_jet3 = x[:, 13]\n",
        "    phi_jet3 = x[:, 15]\n",
        "    pt_jet4 = x[:, 17]\n",
        "    phi_jet4 = x[:, 19]\n",
        "    px = (pt_lepton * torch.cos(phi_lepton) + pt_jet1 * torch.cos(phi_jet1) +\n",
        "          pt_jet2 * torch.cos(phi_jet2) + pt_jet3 * torch.cos(phi_jet3) +\n",
        "          pt_jet4 * torch.cos(phi_jet4))\n",
        "    py = (pt_lepton * torch.sin(phi_lepton) + pt_jet1 * torch.sin(phi_jet1) +\n",
        "          pt_jet2 * torch.sin(phi_jet2) + pt_jet3 * torch.sin(phi_jet3) +\n",
        "          pt_jet4 * torch.sin(phi_jet4))\n",
        "    return px, py"
      ]
    },
    {
      "cell_type": "code",
      "execution_count": null,
      "id": "6dd93107",
      "metadata": {
        "execution": {
          "iopub.execute_input": "2025-04-01T13:23:48.083664Z",
          "iopub.status.busy": "2025-04-01T13:23:48.083462Z",
          "iopub.status.idle": "2025-04-01T13:23:48.086827Z",
          "shell.execute_reply": "2025-04-01T13:23:48.086220Z"
        },
        "papermill": {
          "duration": 0.009527,
          "end_time": "2025-04-01T13:23:48.088000",
          "exception": false,
          "start_time": "2025-04-01T13:23:48.078473",
          "status": "completed"
        },
        "tags": [],
        "id": "6dd93107"
      },
      "outputs": [],
      "source": [
        "#Compute missing transverse momentum components\n",
        "def compute_pT_miss(x):\n",
        "    met = x[:, 3]\n",
        "    met_phi = x[:, 4]\n",
        "    met_x = met * torch.cos(met_phi)\n",
        "    met_y = met * torch.sin(met_phi)\n",
        "    return met_x, met_y"
      ]
    },
    {
      "cell_type": "code",
      "execution_count": null,
      "id": "48a96920",
      "metadata": {
        "execution": {
          "iopub.execute_input": "2025-04-01T13:23:48.097419Z",
          "iopub.status.busy": "2025-04-01T13:23:48.097201Z",
          "iopub.status.idle": "2025-04-01T13:23:48.101097Z",
          "shell.execute_reply": "2025-04-01T13:23:48.100514Z"
        },
        "papermill": {
          "duration": 0.009828,
          "end_time": "2025-04-01T13:23:48.102320",
          "exception": false,
          "start_time": "2025-04-01T13:23:48.092492",
          "status": "completed"
        },
        "tags": [],
        "id": "48a96920"
      },
      "outputs": [],
      "source": [
        "#Compute dijet invariant mass\n",
        "def compute_m_jj(x):\n",
        "    pt1 = x[:, 5]\n",
        "    eta1 = x[:, 6]\n",
        "    phi1 = x[:, 7]\n",
        "    pt2 = x[:, 9]\n",
        "    eta2 = x[:, 10]\n",
        "    phi2 = x[:, 11]\n",
        "    m2 = 2 * pt1 * pt2 * (torch.cosh(eta1 - eta2) - torch.cos(phi1 - phi2))\n",
        "    m_jj = torch.sqrt(m2.clamp(min=0))\n",
        "    return m_jj"
      ]
    },
    {
      "cell_type": "code",
      "execution_count": null,
      "id": "26a2ae52",
      "metadata": {
        "execution": {
          "iopub.execute_input": "2025-04-01T13:23:48.111720Z",
          "iopub.status.busy": "2025-04-01T13:23:48.111479Z",
          "iopub.status.idle": "2025-04-01T13:23:48.116673Z",
          "shell.execute_reply": "2025-04-01T13:23:48.116062Z"
        },
        "papermill": {
          "duration": 0.011106,
          "end_time": "2025-04-01T13:23:48.117846",
          "exception": false,
          "start_time": "2025-04-01T13:23:48.106740",
          "status": "completed"
        },
        "tags": [],
        "id": "26a2ae52"
      },
      "outputs": [],
      "source": [
        "#Convert transformed features back to original 21-feature format.\n",
        "def compute_original_features(transformed_features, means, stds):\n",
        "    original_transformed = transformed_features * stds + means\n",
        "    batch_size = original_transformed.size(0)\n",
        "    original = torch.zeros(batch_size, 21, device=original_transformed.device)\n",
        "    non_phi_trans_pos = torch.tensor([0, 1, 4, 7, 8, 11, 12, 13, 16, 17, 18, 21, 22, 23, 26],\n",
        "                                    device=original_transformed.device)\n",
        "    original_non_phi_indices = torch.tensor([0, 1, 3, 5, 6, 8, 9, 10, 12, 13, 14, 16, 17, 18, 20],\n",
        "                                           device=original_transformed.device)\n",
        "    original[:, original_non_phi_indices] = original_transformed[:, non_phi_trans_pos]\n",
        "    phi_cos_sin_pos = [(2, 3), (5, 6), (9, 10), (14, 15), (19, 20), (24, 25)]\n",
        "    original_phi_indices = [2, 4, 7, 11, 15, 19]\n",
        "    for idx, (cos_pos, sin_pos) in enumerate(phi_cos_sin_pos):\n",
        "        cos_phi = original_transformed[:, cos_pos]\n",
        "        sin_phi = original_transformed[:, sin_pos]\n",
        "        phi_recon = torch.atan2(sin_phi, cos_phi)\n",
        "        original[:, original_phi_indices[idx]] = phi_recon\n",
        "    return original"
      ]
    },
    {
      "cell_type": "code",
      "execution_count": null,
      "id": "75ff9bba",
      "metadata": {
        "execution": {
          "iopub.execute_input": "2025-04-01T13:23:48.128003Z",
          "iopub.status.busy": "2025-04-01T13:23:48.127792Z",
          "iopub.status.idle": "2025-04-01T13:23:48.134827Z",
          "shell.execute_reply": "2025-04-01T13:23:48.134234Z"
        },
        "papermill": {
          "duration": 0.013752,
          "end_time": "2025-04-01T13:23:48.136141",
          "exception": false,
          "start_time": "2025-04-01T13:23:48.122389",
          "status": "completed"
        },
        "tags": [],
        "id": "75ff9bba"
      },
      "outputs": [],
      "source": [
        "# Custom Loss\n",
        "def compute_losses(recon, batch, means, stds, criterion, alpha=1.0, beta=0.1, gamma=0.1, delta=1.0, epsilon=1.0, zeta=1.0):\n",
        "    \"\"\"Compute total loss with custom terms for phi, eta, and pT.\"\"\"\n",
        "    L_rec = criterion(recon, batch)\n",
        "\n",
        "    batch_original = compute_original_features(batch.squeeze(-1), means, stds)\n",
        "    recon_original = compute_original_features(recon.squeeze(-1), means, stds)\n",
        "\n",
        "    phi_indices = [2, 4, 7, 11, 15, 19]\n",
        "    L_phi = 0\n",
        "    for i in phi_indices:\n",
        "        delta_phi = torch.atan2(torch.sin(batch_original[:, i] - recon_original[:, i]),\n",
        "                                torch.cos(batch_original[:, i] - recon_original[:, i]))\n",
        "        L_phi += torch.mean(1 - torch.cos(delta_phi))\n",
        "    L_phi /= len(phi_indices)\n",
        "\n",
        "    eta_indices = [1, 6, 10, 14, 18]\n",
        "    L_eta = 0\n",
        "    for i in eta_indices:\n",
        "        delta_eta = batch_original[:, i] - recon_original[:, i]\n",
        "        L_eta += torch.mean(delta_eta ** 2 * torch.tanh(torch.abs(delta_eta)))\n",
        "    L_eta /= len(eta_indices)\n",
        "\n",
        "    pT_indices = [0, 3, 5, 9, 13, 17]\n",
        "    eps = 0.1\n",
        "    L_pT = 0\n",
        "    for i in pT_indices:\n",
        "        L_pT += torch.mean(((batch_original[:, i] - recon_original[:, i]) / (batch_original[:, i] + eps)) ** 2)\n",
        "    L_pT /= len(pT_indices)\n",
        "\n",
        "    # Momentum conservation loss\n",
        "    px_vis_recon, py_vis_recon = compute_pT_vis(recon_original)\n",
        "    met_x_recon, met_y_recon = compute_pT_miss(recon_original)\n",
        "    L_mom = ((px_vis_recon + met_x_recon).pow(2) + (py_vis_recon + met_y_recon).pow(2)).mean()\n",
        "\n",
        "    # Invariant mass loss\n",
        "    m_jj_true = compute_m_jj(batch_original)\n",
        "    m_jj_recon = compute_m_jj(recon_original)\n",
        "    L_mass = (m_jj_recon - m_jj_true).pow(2).mean()\n",
        "\n",
        "    # Total loss with all components\n",
        "    L_total = alpha * L_rec + beta * L_mom + gamma * L_mass + delta * L_phi + epsilon * L_pT + zeta * L_eta\n",
        "    return L_total, L_rec, L_mom, L_mass, L_phi, L_pT, L_eta"
      ]
    },
    {
      "cell_type": "code",
      "execution_count": null,
      "id": "dca097b8",
      "metadata": {
        "execution": {
          "iopub.execute_input": "2025-04-01T13:23:48.145920Z",
          "iopub.status.busy": "2025-04-01T13:23:48.145700Z",
          "iopub.status.idle": "2025-04-01T13:23:52.007663Z",
          "shell.execute_reply": "2025-04-01T13:23:52.006852Z"
        },
        "papermill": {
          "duration": 3.868463,
          "end_time": "2025-04-01T13:23:52.009097",
          "exception": false,
          "start_time": "2025-04-01T13:23:48.140634",
          "status": "completed"
        },
        "tags": [],
        "id": "dca097b8",
        "outputId": "fac9439a-f10e-4423-a7c4-8c68bdd48840"
      },
      "outputs": [
        {
          "name": "stderr",
          "output_type": "stream",
          "text": [
            "/usr/local/lib/python3.10/dist-packages/torch/optim/lr_scheduler.py:62: UserWarning: The verbose parameter is deprecated. Please use get_last_lr() to access the learning rate.\n",
            "  warnings.warn(\n"
          ]
        }
      ],
      "source": [
        "# Training setup\n",
        "device = torch.device('cuda' if torch.cuda.is_available() else 'cpu')\n",
        "model = EnhancedTransformerAE().to(device)\n",
        "if torch.cuda.device_count() > 1:\n",
        "    model = nn.DataParallel(model)\n",
        "\n",
        "optimizer = torch.optim.AdamW(model.parameters(), lr=1e-4, weight_decay=1e-5)\n",
        "criterion = nn.SmoothL1Loss()\n",
        "scheduler = torch.optim.lr_scheduler.ReduceLROnPlateau(optimizer, mode='min', factor=0.5, patience=2, verbose=True)"
      ]
    },
    {
      "cell_type": "code",
      "execution_count": null,
      "id": "e125f637",
      "metadata": {
        "execution": {
          "iopub.execute_input": "2025-04-01T13:23:52.020661Z",
          "iopub.status.busy": "2025-04-01T13:23:52.020088Z",
          "iopub.status.idle": "2025-04-01T13:23:52.027024Z",
          "shell.execute_reply": "2025-04-01T13:23:52.026252Z"
        },
        "papermill": {
          "duration": 0.014244,
          "end_time": "2025-04-01T13:23:52.028795",
          "exception": false,
          "start_time": "2025-04-01T13:23:52.014551",
          "status": "completed"
        },
        "tags": [],
        "id": "e125f637"
      },
      "outputs": [],
      "source": [
        "means = torch.tensor(scaler.mean_, device=device, dtype=torch.float32)\n",
        "stds = torch.tensor(scaler.scale_, device=device, dtype=torch.float32)"
      ]
    },
    {
      "cell_type": "code",
      "execution_count": null,
      "id": "4b859f57",
      "metadata": {
        "execution": {
          "iopub.execute_input": "2025-04-01T13:23:52.044693Z",
          "iopub.status.busy": "2025-04-01T13:23:52.044462Z",
          "iopub.status.idle": "2025-04-01T14:07:16.935752Z",
          "shell.execute_reply": "2025-04-01T14:07:16.934921Z"
        },
        "papermill": {
          "duration": 2604.906119,
          "end_time": "2025-04-01T14:07:16.942514",
          "exception": false,
          "start_time": "2025-04-01T13:23:52.036395",
          "status": "completed"
        },
        "tags": [],
        "id": "4b859f57",
        "outputId": "4a65f4da-802e-4cb5-cbfb-8e3e72b47399"
      },
      "outputs": [
        {
          "name": "stdout",
          "output_type": "stream",
          "text": [
            "Epoch 001 | Train Loss: 1.1244 (Rec: 0.2817, Mom: 0.2544, Mass: 0.3345, Phi: 0.2860, pT: 0.1781, Eta: 0.0842) | Val Loss: 0.5498 (Rec: 0.2045, Mom: 0.1205, Mass: 0.0932, Phi: 0.2233, pT: 0.0994, Eta: 0.0012)\n",
            "Epoch 002 | Train Loss: 0.6416 (Rec: 0.1875, Mom: 0.1851, Mass: 0.1035, Phi: 0.2167, pT: 0.0870, Eta: 0.0061) | Val Loss: 0.4815 (Rec: 0.1886, Mom: 0.0528, Mass: 0.0429, Phi: 0.2160, pT: 0.0664, Eta: 0.0009)\n",
            "Epoch 003 | Train Loss: 0.5589 (Rec: 0.1779, Mom: 0.1685, Mass: 0.0805, Phi: 0.1917, pT: 0.0603, Eta: 0.0045) | Val Loss: 0.4203 (Rec: 0.1814, Mom: 0.0641, Mass: 0.0385, Phi: 0.1653, pT: 0.0624, Eta: 0.0009)\n",
            "Epoch 004 | Train Loss: 0.4674 (Rec: 0.1594, Mom: 0.1550, Mass: 0.0615, Phi: 0.1389, pT: 0.0574, Eta: 0.0036) | Val Loss: 0.3600 (Rec: 0.1510, Mom: 0.0335, Mass: 0.0317, Phi: 0.1475, pT: 0.0544, Eta: 0.0005)\n",
            "Epoch 005 | Train Loss: 0.4275 (Rec: 0.1448, Mom: 0.1241, Mass: 0.0510, Phi: 0.1401, pT: 0.0522, Eta: 0.0027) | Val Loss: 0.3437 (Rec: 0.1394, Mom: 0.0337, Mass: 0.0245, Phi: 0.1479, pT: 0.0501, Eta: 0.0005)\n",
            "Epoch 006 | Train Loss: 0.4074 (Rec: 0.1372, Mom: 0.1072, Mass: 0.0461, Phi: 0.1414, pT: 0.0498, Eta: 0.0023) | Val Loss: 0.3351 (Rec: 0.1332, Mom: 0.0243, Mass: 0.0291, Phi: 0.1461, pT: 0.0501, Eta: 0.0005)\n",
            "Epoch 007 | Train Loss: 0.3946 (Rec: 0.1325, Mom: 0.0962, Mass: 0.0430, Phi: 0.1424, pT: 0.0481, Eta: 0.0020) | Val Loss: 0.3304 (Rec: 0.1285, Mom: 0.0289, Mass: 0.0261, Phi: 0.1500, pT: 0.0459, Eta: 0.0005)\n",
            "Epoch 008 | Train Loss: 0.3855 (Rec: 0.1292, Mom: 0.0886, Mass: 0.0400, Phi: 0.1431, pT: 0.0471, Eta: 0.0018) | Val Loss: 0.3260 (Rec: 0.1251, Mom: 0.0210, Mass: 0.0213, Phi: 0.1514, pT: 0.0450, Eta: 0.0004)\n",
            "Epoch 009 | Train Loss: 0.3783 (Rec: 0.1264, Mom: 0.0831, Mass: 0.0372, Phi: 0.1438, pT: 0.0463, Eta: 0.0017) | Val Loss: 0.3241 (Rec: 0.1235, Mom: 0.0195, Mass: 0.0127, Phi: 0.1522, pT: 0.0450, Eta: 0.0002)\n",
            "Epoch 010 | Train Loss: 0.3727 (Rec: 0.1241, Mom: 0.0782, Mass: 0.0357, Phi: 0.1445, pT: 0.0456, Eta: 0.0016) | Val Loss: 0.3239 (Rec: 0.1215, Mom: 0.0188, Mass: 0.0156, Phi: 0.1549, pT: 0.0439, Eta: 0.0003)\n",
            "Epoch 011 | Train Loss: 0.3678 (Rec: 0.1222, Mom: 0.0744, Mass: 0.0339, Phi: 0.1450, pT: 0.0451, Eta: 0.0015) | Val Loss: 0.3215 (Rec: 0.1207, Mom: 0.0157, Mass: 0.0134, Phi: 0.1526, pT: 0.0450, Eta: 0.0002)\n",
            "Epoch 012 | Train Loss: 0.3641 (Rec: 0.1207, Mom: 0.0714, Mass: 0.0326, Phi: 0.1455, pT: 0.0446, Eta: 0.0014) | Val Loss: 0.3208 (Rec: 0.1197, Mom: 0.0155, Mass: 0.0096, Phi: 0.1538, pT: 0.0447, Eta: 0.0001)\n",
            "Epoch 013 | Train Loss: 0.3608 (Rec: 0.1194, Mom: 0.0687, Mass: 0.0313, Phi: 0.1460, pT: 0.0441, Eta: 0.0013) | Val Loss: 0.3161 (Rec: 0.1168, Mom: 0.0159, Mass: 0.0098, Phi: 0.1534, pT: 0.0432, Eta: 0.0002)\n",
            "Epoch 014 | Train Loss: 0.3579 (Rec: 0.1181, Mom: 0.0667, Mass: 0.0302, Phi: 0.1464, pT: 0.0437, Eta: 0.0012) | Val Loss: 0.3144 (Rec: 0.1163, Mom: 0.0130, Mass: 0.0123, Phi: 0.1527, pT: 0.0427, Eta: 0.0002)\n",
            "Epoch 015 | Train Loss: 0.3553 (Rec: 0.1172, Mom: 0.0646, Mass: 0.0291, Phi: 0.1466, pT: 0.0435, Eta: 0.0012) | Val Loss: 0.3171 (Rec: 0.1167, Mom: 0.0136, Mass: 0.0130, Phi: 0.1544, pT: 0.0431, Eta: 0.0003)\n",
            "Epoch 016 | Train Loss: 0.3533 (Rec: 0.1164, Mom: 0.0631, Mass: 0.0284, Phi: 0.1469, pT: 0.0431, Eta: 0.0011) | Val Loss: 0.3085 (Rec: 0.1131, Mom: 0.0183, Mass: 0.0098, Phi: 0.1495, pT: 0.0428, Eta: 0.0002)\n",
            "Epoch 017 | Train Loss: 0.3516 (Rec: 0.1156, Mom: 0.0617, Mass: 0.0281, Phi: 0.1473, pT: 0.0428, Eta: 0.0011) | Val Loss: 0.3113 (Rec: 0.1142, Mom: 0.0176, Mass: 0.0126, Phi: 0.1515, pT: 0.0424, Eta: 0.0002)\n",
            "Epoch 018 | Train Loss: 0.3497 (Rec: 0.1150, Mom: 0.0604, Mass: 0.0270, Phi: 0.1474, pT: 0.0427, Eta: 0.0010) | Val Loss: 0.3091 (Rec: 0.1123, Mom: 0.0164, Mass: 0.0098, Phi: 0.1521, pT: 0.0419, Eta: 0.0001)\n",
            "Epoch 019 | Train Loss: 0.3484 (Rec: 0.1144, Mom: 0.0590, Mass: 0.0268, Phi: 0.1476, pT: 0.0425, Eta: 0.0010) | Val Loss: 0.3088 (Rec: 0.1126, Mom: 0.0126, Mass: 0.0072, Phi: 0.1519, pT: 0.0422, Eta: 0.0001)\n",
            "Early stopping!\n"
          ]
        }
      ],
      "source": [
        "# Training loop\n",
        "best_val_loss = float('inf')\n",
        "patience = 3\n",
        "no_improve = 0\n",
        "\n",
        "for epoch in range(30):\n",
        "    model.train()\n",
        "    train_loss, train_rec_loss, train_mom_loss, train_mass_loss, train_phi_loss, train_pT_loss, train_eta_loss = 0, 0, 0, 0, 0, 0, 0\n",
        "    for batch in train_loader:\n",
        "        batch = batch[0].to(device)\n",
        "        optimizer.zero_grad()\n",
        "        recon, _ = model(batch)\n",
        "        L_total, L_rec, L_mom, L_mass, L_phi, L_pT, L_eta = compute_losses(\n",
        "            recon, batch, means, stds, criterion, alpha=1.0, beta=0.5, gamma=0.5, delta=1.0, epsilon=1.0, zeta=1.0\n",
        "        )\n",
        "        L_total.backward()\n",
        "        torch.nn.utils.clip_grad_norm_(model.parameters(), 1.0)\n",
        "        optimizer.step()\n",
        "        train_loss += L_total.item() * batch.size(0)\n",
        "        train_rec_loss += L_rec.item() * batch.size(0)\n",
        "        train_mom_loss += L_mom.item() * batch.size(0)\n",
        "        train_mass_loss += L_mass.item() * batch.size(0)\n",
        "        train_phi_loss += L_phi.item() * batch.size(0)\n",
        "        train_pT_loss += L_pT.item() * batch.size(0)\n",
        "        train_eta_loss += L_eta.item() * batch.size(0)\n",
        "\n",
        "    avg_train_loss = train_loss / len(train_loader.dataset)\n",
        "    avg_train_rec_loss = train_rec_loss / len(train_loader.dataset)\n",
        "    avg_train_mom_loss = train_mom_loss / len(train_loader.dataset)\n",
        "    avg_train_mass_loss = train_mass_loss / len(train_loader.dataset)\n",
        "    avg_train_phi_loss = train_phi_loss / len(train_loader.dataset)\n",
        "    avg_train_pT_loss = train_pT_loss / len(train_loader.dataset)\n",
        "    avg_train_eta_loss = train_eta_loss / len(train_loader.dataset)\n",
        "\n",
        "    # Validation\n",
        "    model.eval()\n",
        "    val_loss, val_rec_loss, val_mom_loss, val_mass_loss, val_phi_loss, val_pT_loss, val_eta_loss = 0, 0, 0, 0, 0, 0, 0\n",
        "    with torch.no_grad():\n",
        "        for batch in val_loader:\n",
        "            batch = batch[0].to(device)\n",
        "            recon, _ = model(batch)\n",
        "            L_total, L_rec, L_mom, L_mass, L_phi, L_pT, L_eta = compute_losses(\n",
        "                recon, batch, means, stds, criterion, alpha=1.0, beta=0.1, gamma=0.1, delta=1.0, epsilon=1.0, zeta=1.0\n",
        "            )\n",
        "            val_loss += L_total.item() * batch.size(0)\n",
        "            val_rec_loss += L_rec.item() * batch.size(0)\n",
        "            val_mom_loss += L_mom.item() * batch.size(0)\n",
        "            val_mass_loss += L_mass.item() * batch.size(0)\n",
        "            val_phi_loss += L_phi.item() * batch.size(0)\n",
        "            val_pT_loss += L_pT.item() * batch.size(0)\n",
        "            val_eta_loss += L_eta.item() * batch.size(0)\n",
        "\n",
        "    avg_val_loss = val_loss / len(val_loader.dataset)\n",
        "    avg_val_rec_loss = val_rec_loss / len(val_loader.dataset)\n",
        "    avg_val_mom_loss = val_mom_loss / len(val_loader.dataset)\n",
        "    avg_val_mass_loss = val_mass_loss / len(val_loader.dataset)\n",
        "    avg_val_phi_loss = val_phi_loss / len(val_loader.dataset)\n",
        "    avg_val_pT_loss = val_pT_loss / len(val_loader.dataset)\n",
        "    avg_val_eta_loss = val_eta_loss / len(val_loader.dataset)\n",
        "\n",
        "    print(f\"Epoch {epoch+1:03d} | Train Loss: {avg_train_loss:.4f} (Rec: {avg_train_rec_loss:.4f}, \"\n",
        "          f\"Mom: {avg_train_mom_loss:.4f}, Mass: {avg_train_mass_loss:.4f}, Phi: {avg_train_phi_loss:.4f}, \"\n",
        "          f\"pT: {avg_train_pT_loss:.4f}, Eta: {avg_train_eta_loss:.4f}) | \"\n",
        "          f\"Val Loss: {avg_val_loss:.4f} (Rec: {avg_val_rec_loss:.4f}, \"\n",
        "          f\"Mom: {avg_val_mom_loss:.4f}, Mass: {avg_val_mass_loss:.4f}, Phi: {avg_val_phi_loss:.4f}, \"\n",
        "          f\"pT: {avg_val_pT_loss:.4f}, Eta: {avg_val_eta_loss:.4f})\")\n",
        "\n",
        "    scheduler.step(avg_val_loss)\n",
        "    if avg_val_loss < best_val_loss:\n",
        "        best_val_loss = avg_val_loss\n",
        "        no_improve = 0\n",
        "        torch.save(model, \"best_model.pth\")\n",
        "    else:\n",
        "        no_improve += 1\n",
        "        if no_improve >= patience:\n",
        "            print(\"Early stopping!\")\n",
        "            break"
      ]
    },
    {
      "cell_type": "code",
      "execution_count": null,
      "id": "93cf41c5",
      "metadata": {
        "execution": {
          "iopub.execute_input": "2025-04-01T14:07:16.954353Z",
          "iopub.status.busy": "2025-04-01T14:07:16.954073Z",
          "iopub.status.idle": "2025-04-01T14:07:20.938812Z",
          "shell.execute_reply": "2025-04-01T14:07:20.938102Z"
        },
        "papermill": {
          "duration": 3.992229,
          "end_time": "2025-04-01T14:07:20.940292",
          "exception": false,
          "start_time": "2025-04-01T14:07:16.948063",
          "status": "completed"
        },
        "tags": [],
        "id": "93cf41c5"
      },
      "outputs": [],
      "source": [
        "# Evaluation\n",
        "model = torch.load(\"best_model.pth\", weights_only=False)\n",
        "model.eval()\n",
        "recon_list = []\n",
        "with torch.no_grad():\n",
        "    for batch in test_loader:\n",
        "        batch = batch[0].to(device)\n",
        "        recon, _ = model(batch)\n",
        "        recon_list.append(recon.cpu())\n",
        "recon_tensor = torch.cat(recon_list, dim=0)"
      ]
    },
    {
      "cell_type": "code",
      "execution_count": null,
      "id": "2868ac8d",
      "metadata": {
        "execution": {
          "iopub.execute_input": "2025-04-01T14:07:20.952316Z",
          "iopub.status.busy": "2025-04-01T14:07:20.952058Z",
          "iopub.status.idle": "2025-04-01T14:07:21.008670Z",
          "shell.execute_reply": "2025-04-01T14:07:21.007620Z"
        },
        "papermill": {
          "duration": 0.064279,
          "end_time": "2025-04-01T14:07:21.010518",
          "exception": false,
          "start_time": "2025-04-01T14:07:20.946239",
          "status": "completed"
        },
        "tags": [],
        "id": "2868ac8d"
      },
      "outputs": [],
      "source": [
        "recon_original_transformed = scaler.inverse_transform(recon_tensor.squeeze().numpy())\n",
        "recon_original = np.zeros((recon_original_transformed.shape[0], 21))\n",
        "non_phi_trans_pos = [0, 1, 4, 7, 8, 11, 12, 13, 16, 17, 18, 21, 22, 23, 26]\n",
        "original_non_phi_indices = [0, 1, 3, 5, 6, 8, 9, 10, 12, 13, 14, 16, 17, 18, 20]\n",
        "recon_original[:, original_non_phi_indices] = recon_original_transformed[:, non_phi_trans_pos]\n",
        "phi_cos_sin_pos = [(2, 3), (5, 6), (9, 10), (14, 15), (19, 20), (24, 25)]\n",
        "original_phi_indices = [2, 4, 7, 11, 15, 19]\n",
        "for idx, (cos_pos, sin_pos) in enumerate(phi_cos_sin_pos):\n",
        "    recon_original[:, original_phi_indices[idx]] = np.arctan2(\n",
        "        recon_original_transformed[:, sin_pos], recon_original_transformed[:, cos_pos])"
      ]
    },
    {
      "cell_type": "code",
      "execution_count": null,
      "id": "3400e4f8",
      "metadata": {
        "execution": {
          "iopub.execute_input": "2025-04-01T14:07:21.022721Z",
          "iopub.status.busy": "2025-04-01T14:07:21.022470Z",
          "iopub.status.idle": "2025-04-01T14:07:21.175816Z",
          "shell.execute_reply": "2025-04-01T14:07:21.174913Z"
        },
        "papermill": {
          "duration": 0.160762,
          "end_time": "2025-04-01T14:07:21.177152",
          "exception": false,
          "start_time": "2025-04-01T14:07:21.016390",
          "status": "completed"
        },
        "tags": [],
        "id": "3400e4f8",
        "outputId": "aa41248a-bff2-4c06-ec45-a7e4e18176b4"
      },
      "outputs": [
        {
          "name": "stdout",
          "output_type": "stream",
          "text": [
            "Feature-wise Reconstruction Metrics:\n",
            "lepton_pt: MSE=0.0921, MAE=0.2143, Pearson=0.8755\n",
            "lepton_eta: MSE=0.0011, MAE=0.0204, Pearson=0.9996\n",
            "lepton_phi: MSE=0.4066, MAE=0.4374, Pearson=0.9473\n",
            "met: MSE=0.1052, MAE=0.2277, Pearson=0.8768\n",
            "met_phi: MSE=0.4693, MAE=0.4625, Pearson=0.9351\n",
            "jet1_pt: MSE=0.0431, MAE=0.1556, Pearson=0.9152\n",
            "jet1_eta: MSE=0.0023, MAE=0.0336, Pearson=0.9990\n",
            "jet1_phi: MSE=0.2370, MAE=0.3885, Pearson=0.9824\n",
            "jet1_btag: MSE=0.0018, MAE=0.0363, Pearson=0.9999\n",
            "jet2_pt: MSE=0.0663, MAE=0.1848, Pearson=0.8840\n",
            "jet2_eta: MSE=0.0027, MAE=0.0393, Pearson=0.9990\n",
            "jet2_phi: MSE=0.2456, MAE=0.3704, Pearson=0.9734\n",
            "jet2_btag: MSE=0.0029, MAE=0.0457, Pearson=0.9999\n",
            "jet3_pt: MSE=0.0717, MAE=0.1981, Pearson=0.8764\n",
            "jet3_eta: MSE=0.0018, MAE=0.0225, Pearson=0.9993\n",
            "jet3_phi: MSE=0.3502, MAE=0.4216, Pearson=0.9583\n",
            "jet3_btag: MSE=0.0036, MAE=0.0537, Pearson=0.9999\n",
            "jet4_pt: MSE=0.0785, MAE=0.2053, Pearson=0.8740\n",
            "jet4_eta: MSE=0.0015, MAE=0.0212, Pearson=0.9996\n",
            "jet4_phi: MSE=0.3334, MAE=0.3939, Pearson=0.9563\n",
            "jet4_btag: MSE=0.0047, MAE=0.0515, Pearson=0.9999\n"
          ]
        }
      ],
      "source": [
        "test_original = test_data_probe\n",
        "\n",
        "feature_names = column_names[1:22]\n",
        "mse, mae, correlations = [], [], []\n",
        "for i in range(21):\n",
        "    if i in original_phi_indices:\n",
        "        delta_phi = np.arctan2(np.sin(test_original[:, i] - recon_original[:, i]),\n",
        "                              np.cos(test_original[:, i] - recon_original[:, i]))\n",
        "        mse.append(np.mean(delta_phi ** 2))\n",
        "        mae.append(np.mean(np.abs(delta_phi)))\n",
        "    else:\n",
        "        mse.append(mean_squared_error(test_original[:, i], recon_original[:, i]))\n",
        "        mae.append(mean_absolute_error(test_original[:, i], recon_original[:, i]))\n",
        "    correlations.append(pearsonr(test_original[:, i], recon_original[:, i])[0])\n",
        "\n",
        "print(\"Feature-wise Reconstruction Metrics:\")\n",
        "for i, name in enumerate(feature_names):\n",
        "    print(f\"{name}: MSE={mse[i]:.4f}, MAE={mae[i]:.4f}, Pearson={correlations[i]:.4f}\")"
      ]
    },
    {
      "cell_type": "code",
      "execution_count": null,
      "id": "e727addd",
      "metadata": {
        "execution": {
          "iopub.execute_input": "2025-04-01T14:07:21.189929Z",
          "iopub.status.busy": "2025-04-01T14:07:21.189678Z",
          "iopub.status.idle": "2025-04-01T14:07:21.210596Z",
          "shell.execute_reply": "2025-04-01T14:07:21.209880Z"
        },
        "papermill": {
          "duration": 0.028647,
          "end_time": "2025-04-01T14:07:21.211831",
          "exception": false,
          "start_time": "2025-04-01T14:07:21.183184",
          "status": "completed"
        },
        "tags": [],
        "id": "e727addd",
        "outputId": "feb7306e-6b46-479f-d69b-b3b3a4de5833"
      },
      "outputs": [
        {
          "name": "stdout",
          "output_type": "stream",
          "text": [
            "\n",
            "Invariant Mass (m_jj) Metrics:\n",
            "Correlation: 0.9974, MSE: 0.0097\n"
          ]
        }
      ],
      "source": [
        "def compute_m_jj_numpy(x):\n",
        "    pt1 = x[:, 5]\n",
        "    eta1 = x[:, 6]\n",
        "    phi1 = x[:, 7]\n",
        "    pt2 = x[:, 9]\n",
        "    eta2 = x[:, 10]\n",
        "    phi2 = x[:, 11]\n",
        "    m2 = 2 * pt1 * pt2 * (np.cosh(eta1 - eta2) - np.cos(phi1 - phi2))\n",
        "    return np.sqrt(np.maximum(m2, 0))\n",
        "\n",
        "m_jj_original = compute_m_jj_numpy(test_original)\n",
        "m_jj_recon = compute_m_jj_numpy(recon_original)\n",
        "corr_m_jj = pearsonr(m_jj_original, m_jj_recon)[0]\n",
        "mse_m_jj = mean_squared_error(m_jj_original, m_jj_recon)\n",
        "print(f\"\\nInvariant Mass (m_jj) Metrics:\")\n",
        "print(f\"Correlation: {corr_m_jj:.4f}, MSE: {mse_m_jj:.4f}\")"
      ]
    },
    {
      "cell_type": "code",
      "execution_count": null,
      "id": "e4418c9b",
      "metadata": {
        "execution": {
          "iopub.execute_input": "2025-04-01T14:07:21.224201Z",
          "iopub.status.busy": "2025-04-01T14:07:21.223893Z",
          "iopub.status.idle": "2025-04-01T14:07:26.358470Z",
          "shell.execute_reply": "2025-04-01T14:07:26.357625Z"
        },
        "papermill": {
          "duration": 5.142868,
          "end_time": "2025-04-01T14:07:26.360336",
          "exception": false,
          "start_time": "2025-04-01T14:07:21.217468",
          "status": "completed"
        },
        "tags": [],
        "id": "e4418c9b",
        "outputId": "9bd03cd4-53f2-44ed-de87-d0043ce59735"
      },
      "outputs": [
        {
          "data": {
            "image/png": "[encoded data removed]",
            "text/plain": [
              "<Figure size 1500x1000 with 6 Axes>"
            ]
          },
          "metadata": {},
          "output_type": "display_data"
        }
      ],
      "source": [
        "features = ['lepton_pt', 'lepton_eta', 'lepton_phi', 'met', 'jet1_pt', 'jet1_eta']\n",
        "indices = [0, 1, 2, 3, 5, 6]\n",
        "\n",
        "test_original = np.where(np.isinf(test_original), np.nan, test_original)\n",
        "recon_original = np.where(np.isinf(recon_original), np.nan, recon_original)\n",
        "\n",
        "fig, axes = plt.subplots(2, 3, figsize=(15, 10))\n",
        "fig.suptitle('Original vs Reconstructed Feature Distributions', fontsize=16)\n",
        "\n",
        "for i, (feature, idx) in enumerate(zip(features, indices)):\n",
        "    ax = axes.flat[i]\n",
        "    sns.histplot(test_original[:, idx], ax=ax, color='blue', label='Original', alpha=0.5, stat='density')\n",
        "    sns.histplot(recon_original[:, idx], ax=ax, color='red', label='Reconstructed', alpha=0.5, stat='density')\n",
        "    ax.set_title(feature)\n",
        "    ax.set_xlabel('Value')\n",
        "    ax.set_ylabel('Density')\n",
        "    ax.legend()\n",
        "\n",
        "plt.tight_layout(rect=[0, 0, 1, 0.95])\n",
        "plt.show()"
      ]
    },
    {
      "cell_type": "code",
      "execution_count": null,
      "id": "cbae65ff",
      "metadata": {
        "papermill": {
          "duration": 0.007575,
          "end_time": "2025-04-01T14:07:26.375680",
          "exception": false,
          "start_time": "2025-04-01T14:07:26.368105",
          "status": "completed"
        },
        "tags": [],
        "id": "cbae65ff"
      },
      "outputs": [],
      "source": []
    }
  ],
  "metadata": {
    "kaggle": {
      "accelerator": "nvidiaTeslaT4",
      "dataSources": [
        {
          "sourceId": 226466573,
          "sourceType": "kernelVersion"
        }
      ],
      "dockerImageVersionId": 30919,
      "isGpuEnabled": true,
      "isInternetEnabled": true,
      "language": "python",
      "sourceType": "notebook"
    },
    "kernelspec": {
      "display_name": "Python 3",
      "language": "python",
      "name": "python3"
    },
    "language_info": {
      "codemirror_mode": {
        "name": "ipython",
        "version": 3
      },
      "file_extension": ".py",
      "mimetype": "text/x-python",
      "name": "python",
      "nbconvert_exporter": "python",
      "pygments_lexer": "ipython3",
      "version": "3.10.12"
    },
    "papermill": {
      "default_parameters": {},
      "duration": 2775.816385,
      "end_time": "2025-04-01T14:07:28.512596",
      "environment_variables": {},
      "exception": null,
      "input_path": "__notebook__.ipynb",
      "output_path": "__notebook__.ipynb",
      "parameters": {},
      "start_time": "2025-04-01T13:21:12.696211",
      "version": "2.6.0"
    },
    "colab": {
      "provenance": [],
      "include_colab_link": true
    }
  },
  "nbformat": 4,
  "nbformat_minor": 5
}
