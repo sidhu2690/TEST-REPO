{
  "cells": [
    {
      "cell_type": "markdown",
      "metadata": {
        "id": "view-in-github",
        "colab_type": "text"
      },
      "source": [
        "<a href=\"https://colab.research.google.com/github/sidhu2690/TEST-REPO/blob/main/Linear_Probe.ipynb\" target=\"_parent\"><img src=\"https://colab.research.google.com/assets/colab-badge.svg\" alt=\"Open In Colab\"/></a>"
      ]
    },
    {
      "cell_type": "code",
      "execution_count": null,
      "id": "539c252f",
      "metadata": {
        "_cell_guid": "b1076dfc-b9ad-4769-8c92-a6c4dae69d19",
        "_uuid": "8f2839f25d086af736a60e9eeb907d3b93b6e0e5",
        "execution": {
          "iopub.execute_input": "2025-04-02T16:16:06.306747Z",
          "iopub.status.busy": "2025-04-02T16:16:06.306291Z",
          "iopub.status.idle": "2025-04-02T16:18:48.410253Z",
          "shell.execute_reply": "2025-04-02T16:18:48.409504Z"
        },
        "papermill": {
          "duration": 162.111477,
          "end_time": "2025-04-02T16:18:48.411968",
          "exception": false,
          "start_time": "2025-04-02T16:16:06.300491",
          "status": "completed"
        },
        "tags": [],
        "id": "539c252f"
      },
      "outputs": [],
      "source": [
        "import pandas as pd\n",
        "\n",
        "df = pd.read_csv('/kaggle/input/2a-data/HIGGS.csv.gz', header=None)\n",
        "column_names = [\n",
        "    'target', 'lepton_pt', 'lepton_eta', 'lepton_phi', 'met', 'met_phi',\n",
        "    'jet1_pt', 'jet1_eta', 'jet1_phi', 'jet1_btag', 'jet2_pt', 'jet2_eta',\n",
        "    'jet2_phi', 'jet2_btag', 'jet3_pt', 'jet3_eta', 'jet3_pi', 'jet3_btag',\n",
        "    'jet4_pt', 'jet4_eta', 'jet4_phi', 'jet4_btag', 'm_jj', 'm_jjj', 'm_lv',\n",
        "    'm_jlv', 'm_bb', 'm_wbb', 'm_wwbb'\n",
        "]\n",
        "df.columns = column_names"
      ]
    },
    {
      "cell_type": "code",
      "execution_count": null,
      "id": "34724ff6",
      "metadata": {
        "execution": {
          "iopub.execute_input": "2025-04-02T16:18:48.427992Z",
          "iopub.status.busy": "2025-04-02T16:18:48.427741Z",
          "iopub.status.idle": "2025-04-02T16:18:48.432074Z",
          "shell.execute_reply": "2025-04-02T16:18:48.431465Z"
        },
        "papermill": {
          "duration": 0.009846,
          "end_time": "2025-04-02T16:18:48.433289",
          "exception": false,
          "start_time": "2025-04-02T16:18:48.423443",
          "status": "completed"
        },
        "tags": [],
        "id": "34724ff6"
      },
      "outputs": [],
      "source": [
        "import numpy as np\n",
        "\n",
        "def transform_data(data):\n",
        "    phi_indices = [2, 4, 7, 11, 15, 19]\n",
        "    transformed = []\n",
        "    for i in range(21):\n",
        "        if i in phi_indices:\n",
        "            cos_phi = np.cos(data[:, i])\n",
        "            sin_phi = np.sin(data[:, i])\n",
        "            transformed.append(cos_phi)\n",
        "            transformed.append(sin_phi)\n",
        "        else:\n",
        "            transformed.append(data[:, i])\n",
        "    transformed = np.stack(transformed, axis=1)\n",
        "    return transformed"
      ]
    },
    {
      "cell_type": "code",
      "execution_count": null,
      "id": "999ed1b7",
      "metadata": {
        "execution": {
          "iopub.execute_input": "2025-04-02T16:18:48.441060Z",
          "iopub.status.busy": "2025-04-02T16:18:48.440819Z",
          "iopub.status.idle": "2025-04-02T16:18:48.445124Z",
          "shell.execute_reply": "2025-04-02T16:18:48.444308Z"
        },
        "papermill": {
          "duration": 0.009571,
          "end_time": "2025-04-02T16:18:48.446511",
          "exception": false,
          "start_time": "2025-04-02T16:18:48.436940",
          "status": "completed"
        },
        "tags": [],
        "id": "999ed1b7"
      },
      "outputs": [],
      "source": [
        "train_features = df.iloc[:1000000, 1:22].values\n",
        "probe_features = df.iloc[1000000:1100000, 1:22].values\n",
        "probe_labels = df.iloc[1000000:1100000, 0].values"
      ]
    },
    {
      "cell_type": "code",
      "execution_count": null,
      "id": "beaff32e",
      "metadata": {
        "execution": {
          "iopub.execute_input": "2025-04-02T16:18:48.453992Z",
          "iopub.status.busy": "2025-04-02T16:18:48.453791Z",
          "iopub.status.idle": "2025-04-02T16:18:48.917210Z",
          "shell.execute_reply": "2025-04-02T16:18:48.916500Z"
        },
        "papermill": {
          "duration": 0.468768,
          "end_time": "2025-04-02T16:18:48.918737",
          "exception": false,
          "start_time": "2025-04-02T16:18:48.449969",
          "status": "completed"
        },
        "tags": [],
        "id": "beaff32e"
      },
      "outputs": [],
      "source": [
        "train_features_transformed = transform_data(train_features)\n",
        "probe_features_transformed = transform_data(probe_features)"
      ]
    },
    {
      "cell_type": "code",
      "execution_count": null,
      "id": "02b791af",
      "metadata": {
        "execution": {
          "iopub.execute_input": "2025-04-02T16:18:48.927107Z",
          "iopub.status.busy": "2025-04-02T16:18:48.926856Z",
          "iopub.status.idle": "2025-04-02T16:18:51.016773Z",
          "shell.execute_reply": "2025-04-02T16:18:51.015746Z"
        },
        "papermill": {
          "duration": 2.095756,
          "end_time": "2025-04-02T16:18:51.018414",
          "exception": false,
          "start_time": "2025-04-02T16:18:48.922658",
          "status": "completed"
        },
        "tags": [],
        "id": "02b791af"
      },
      "outputs": [],
      "source": [
        "from sklearn.preprocessing import StandardScaler\n",
        "\n",
        "scaler = StandardScaler()\n",
        "scaler.fit(train_features_transformed)\n",
        "probe_features_scaled = scaler.transform(probe_features_transformed)"
      ]
    },
    {
      "cell_type": "code",
      "execution_count": null,
      "id": "ff396333",
      "metadata": {
        "execution": {
          "iopub.execute_input": "2025-04-02T16:18:51.028644Z",
          "iopub.status.busy": "2025-04-02T16:18:51.028209Z",
          "iopub.status.idle": "2025-04-02T16:18:55.813964Z",
          "shell.execute_reply": "2025-04-02T16:18:55.812975Z"
        },
        "papermill": {
          "duration": 4.792502,
          "end_time": "2025-04-02T16:18:55.815739",
          "exception": false,
          "start_time": "2025-04-02T16:18:51.023237",
          "status": "completed"
        },
        "tags": [],
        "id": "ff396333"
      },
      "outputs": [],
      "source": [
        "import torch\n",
        "import torch.nn as nn\n",
        "import torch.optim as optim\n",
        "\n",
        "probe_features_tensor = torch.tensor(probe_features_scaled, dtype=torch.float32).unsqueeze(-1)\n",
        "probe_labels_tensor = torch.tensor(probe_labels, dtype=torch.float32).unsqueeze(-1)"
      ]
    },
    {
      "cell_type": "code",
      "execution_count": null,
      "id": "13b9bee4",
      "metadata": {
        "execution": {
          "iopub.execute_input": "2025-04-02T16:18:55.824693Z",
          "iopub.status.busy": "2025-04-02T16:18:55.824244Z",
          "iopub.status.idle": "2025-04-02T16:18:55.829847Z",
          "shell.execute_reply": "2025-04-02T16:18:55.829185Z"
        },
        "papermill": {
          "duration": 0.011121,
          "end_time": "2025-04-02T16:18:55.831025",
          "exception": false,
          "start_time": "2025-04-02T16:18:55.819904",
          "status": "completed"
        },
        "tags": [],
        "id": "13b9bee4",
        "outputId": "0d350800-e3f6-4eea-e32c-329d35a18ca3"
      },
      "outputs": [
        {
          "data": {
            "text/plain": [
              "torch.Size([100000, 27, 1])"
            ]
          },
          "execution_count": 7,
          "metadata": {},
          "output_type": "execute_result"
        }
      ],
      "source": [
        "probe_features_tensor.shape"
      ]
    },
    {
      "cell_type": "code",
      "execution_count": null,
      "id": "ba07515c",
      "metadata": {
        "execution": {
          "iopub.execute_input": "2025-04-02T16:18:55.839256Z",
          "iopub.status.busy": "2025-04-02T16:18:55.839003Z",
          "iopub.status.idle": "2025-04-02T16:18:55.869222Z",
          "shell.execute_reply": "2025-04-02T16:18:55.868555Z"
        },
        "papermill": {
          "duration": 0.035938,
          "end_time": "2025-04-02T16:18:55.870645",
          "exception": false,
          "start_time": "2025-04-02T16:18:55.834707",
          "status": "completed"
        },
        "tags": [],
        "id": "ba07515c"
      },
      "outputs": [],
      "source": [
        "from torch.utils.data import DataLoader, TensorDataset, random_split\n",
        "\n",
        "probe_dataset = TensorDataset(probe_features_tensor, probe_labels_tensor)\n",
        "train_size = int(0.8 * len(probe_dataset))\n",
        "val_size = len(probe_dataset) - train_size\n",
        "train_dataset, val_dataset = random_split(probe_dataset, [train_size, val_size])\n",
        "train_loader = DataLoader(train_dataset, batch_size=32, shuffle=True, pin_memory=True)\n",
        "val_loader = DataLoader(val_dataset, batch_size=32, shuffle=False, pin_memory=True)"
      ]
    },
    {
      "cell_type": "code",
      "execution_count": null,
      "id": "2dcdf6d9",
      "metadata": {
        "execution": {
          "iopub.execute_input": "2025-04-02T16:18:55.878955Z",
          "iopub.status.busy": "2025-04-02T16:18:55.878731Z",
          "iopub.status.idle": "2025-04-02T16:18:55.890450Z",
          "shell.execute_reply": "2025-04-02T16:18:55.889655Z"
        },
        "papermill": {
          "duration": 0.017216,
          "end_time": "2025-04-02T16:18:55.891629",
          "exception": false,
          "start_time": "2025-04-02T16:18:55.874413",
          "status": "completed"
        },
        "tags": [],
        "id": "2dcdf6d9"
      },
      "outputs": [],
      "source": [
        "class EnhancedTransformerEncoder(nn.Module):\n",
        "    def __init__(self, input_dim=1, d_model=256, nhead=8, num_layers=4, dropout=0.3):\n",
        "        super().__init__()\n",
        "        self.feature_embed = nn.Linear(input_dim, d_model)\n",
        "        self.pos_encoder = nn.Embedding(27, d_model)\n",
        "        self.dropout = nn.Dropout(dropout)\n",
        "        encoder_layer = nn.TransformerEncoderLayer(\n",
        "            d_model=d_model, nhead=nhead, dim_feedforward=4*d_model,\n",
        "            dropout=dropout, batch_first=True\n",
        "        )\n",
        "        self.transformer = nn.TransformerEncoder(encoder_layer, num_layers=num_layers)\n",
        "\n",
        "    def forward(self, x):\n",
        "        positions = torch.arange(0, x.size(1), device=x.device).unsqueeze(0).repeat(x.size(0), 1)\n",
        "        x = self.feature_embed(x) + self.pos_encoder(positions)\n",
        "        x = self.dropout(x)\n",
        "        encoded = self.transformer(x)\n",
        "        return encoded\n",
        "\n",
        "class TransformerDecoder(nn.Module):\n",
        "    def __init__(self, d_model=128, nhead=8, num_layers=3, dropout=0.2, seq_len=27, output_dim=1):\n",
        "        super().__init__()\n",
        "        self.d_model = d_model\n",
        "        self.seq_len = seq_len\n",
        "        self.tgt_emb = nn.Parameter(torch.randn(seq_len, d_model))\n",
        "        self.pos_encoder = nn.Embedding(seq_len, d_model)\n",
        "        decoder_layer = nn.TransformerDecoderLayer(\n",
        "            d_model=d_model, nhead=nhead, dim_feedforward=4*d_model,\n",
        "            dropout=dropout, batch_first=True\n",
        "        )\n",
        "        self.transformer_decoder = nn.TransformerDecoder(decoder_layer, num_layers=num_layers)\n",
        "        self.output_layer = nn.Linear(d_model, output_dim)\n",
        "\n",
        "    def forward(self, memory):\n",
        "        batch_size = memory.size(0)\n",
        "        positions = torch.arange(0, self.seq_len, device=memory.device).unsqueeze(0).repeat(batch_size, 1)\n",
        "        tgt = self.tgt_emb.unsqueeze(0).expand(batch_size, -1, -1) + self.pos_encoder(positions)\n",
        "        decoder_output = self.transformer_decoder(tgt, memory)\n",
        "        reconstructed = self.output_layer(decoder_output)\n",
        "        return reconstructed\n",
        "\n",
        "class EnhancedTransformerAE(nn.Module):\n",
        "    def __init__(self, input_dim=1, d_model=128, nhead=8, num_layers=3, dropout=0.2, seq_len=27):\n",
        "        super().__init__()\n",
        "        self.encoder = EnhancedTransformerEncoder(input_dim, d_model, nhead, num_layers, dropout)\n",
        "        self.decoder = TransformerDecoder(d_model, nhead, num_layers, dropout, seq_len, output_dim=input_dim)\n",
        "\n",
        "    def forward(self, x):\n",
        "        encoded = self.encoder(x)\n",
        "        reconstructed = self.decoder(encoded)\n",
        "        return reconstructed, encoded.mean(dim=1)"
      ]
    },
    {
      "cell_type": "code",
      "execution_count": null,
      "id": "9f236188",
      "metadata": {
        "execution": {
          "iopub.execute_input": "2025-04-02T16:18:55.899936Z",
          "iopub.status.busy": "2025-04-02T16:18:55.899695Z",
          "iopub.status.idle": "2025-04-02T16:18:56.332445Z",
          "shell.execute_reply": "2025-04-02T16:18:56.331477Z"
        },
        "papermill": {
          "duration": 0.438485,
          "end_time": "2025-04-02T16:18:56.334048",
          "exception": false,
          "start_time": "2025-04-02T16:18:55.895563",
          "status": "completed"
        },
        "tags": [],
        "id": "9f236188"
      },
      "outputs": [],
      "source": [
        "device = torch.device('cuda' if torch.cuda.is_available() else 'cpu')\n",
        "model = torch.load(\"/kaggle/input/pretraining-final/best_model.pth\", map_location=device, weights_only=False)\n",
        "\n",
        "if isinstance(model, nn.DataParallel):\n",
        "    encoder = model.module.encoder\n",
        "else:\n",
        "    encoder = model.encoder"
      ]
    },
    {
      "cell_type": "code",
      "execution_count": null,
      "id": "9521ff83",
      "metadata": {
        "execution": {
          "iopub.execute_input": "2025-04-02T16:18:56.342860Z",
          "iopub.status.busy": "2025-04-02T16:18:56.342599Z",
          "iopub.status.idle": "2025-04-02T16:18:56.345931Z",
          "shell.execute_reply": "2025-04-02T16:18:56.345282Z"
        },
        "papermill": {
          "duration": 0.009043,
          "end_time": "2025-04-02T16:18:56.347132",
          "exception": false,
          "start_time": "2025-04-02T16:18:56.338089",
          "status": "completed"
        },
        "tags": [],
        "id": "9521ff83"
      },
      "outputs": [],
      "source": [
        "for param in encoder.parameters():\n",
        "    param.requires_grad = False"
      ]
    },
    {
      "cell_type": "code",
      "execution_count": null,
      "id": "1d6b6805",
      "metadata": {
        "execution": {
          "iopub.execute_input": "2025-04-02T16:18:56.355013Z",
          "iopub.status.busy": "2025-04-02T16:18:56.354803Z",
          "iopub.status.idle": "2025-04-02T16:18:56.359221Z",
          "shell.execute_reply": "2025-04-02T16:18:56.358605Z"
        },
        "papermill": {
          "duration": 0.009753,
          "end_time": "2025-04-02T16:18:56.360477",
          "exception": false,
          "start_time": "2025-04-02T16:18:56.350724",
          "status": "completed"
        },
        "tags": [],
        "id": "1d6b6805"
      },
      "outputs": [],
      "source": [
        "class Classifier(nn.Module):\n",
        "    def __init__(self, encoder, d_model=128, seq_length=27):\n",
        "        super().__init__()\n",
        "        self.encoder = encoder\n",
        "        input_dim = d_model * seq_length\n",
        "        self.classifier = nn.Sequential(\n",
        "            nn.Linear(input_dim, 512),\n",
        "            nn.LayerNorm(512),\n",
        "            nn.GELU(),\n",
        "            nn.Dropout(0.2),\n",
        "            nn.Linear(512, 256),\n",
        "            nn.LayerNorm(256),\n",
        "            nn.GELU(),\n",
        "            nn.Linear(256, 1)\n",
        "        )\n",
        "\n",
        "\n",
        "    def forward(self, x):\n",
        "        encoded = self.encoder(x)\n",
        "        latent = encoded.view(encoded.size(0), -1)\n",
        "        return self.classifier(latent)"
      ]
    },
    {
      "cell_type": "code",
      "execution_count": null,
      "id": "9944aa3a",
      "metadata": {
        "execution": {
          "iopub.execute_input": "2025-04-02T16:18:56.368368Z",
          "iopub.status.busy": "2025-04-02T16:18:56.368165Z",
          "iopub.status.idle": "2025-04-02T16:18:56.408068Z",
          "shell.execute_reply": "2025-04-02T16:18:56.407450Z"
        },
        "papermill": {
          "duration": 0.045418,
          "end_time": "2025-04-02T16:18:56.409541",
          "exception": false,
          "start_time": "2025-04-02T16:18:56.364123",
          "status": "completed"
        },
        "tags": [],
        "id": "9944aa3a"
      },
      "outputs": [],
      "source": [
        "classifier_model = Classifier(encoder, d_model=128).to(device)\n",
        "\n",
        "if torch.cuda.device_count() > 1:\n",
        "    classifier_model = nn.DataParallel(classifier_model)"
      ]
    },
    {
      "cell_type": "code",
      "execution_count": null,
      "id": "9ab4f549",
      "metadata": {
        "execution": {
          "iopub.execute_input": "2025-04-02T16:18:56.417981Z",
          "iopub.status.busy": "2025-04-02T16:18:56.417765Z",
          "iopub.status.idle": "2025-04-02T16:19:00.654461Z",
          "shell.execute_reply": "2025-04-02T16:19:00.653703Z"
        },
        "papermill": {
          "duration": 4.242696,
          "end_time": "2025-04-02T16:19:00.656172",
          "exception": false,
          "start_time": "2025-04-02T16:18:56.413476",
          "status": "completed"
        },
        "tags": [],
        "id": "9ab4f549"
      },
      "outputs": [],
      "source": [
        "optimizer = optim.Adam(classifier_model.module.classifier.parameters(), lr=1e-4, weight_decay=1e-5)\n",
        "\n",
        "criterion = nn.BCEWithLogitsLoss()"
      ]
    },
    {
      "cell_type": "code",
      "execution_count": null,
      "id": "968d843a",
      "metadata": {
        "execution": {
          "iopub.execute_input": "2025-04-02T16:19:00.664953Z",
          "iopub.status.busy": "2025-04-02T16:19:00.664581Z",
          "iopub.status.idle": "2025-04-02T16:19:00.813526Z",
          "shell.execute_reply": "2025-04-02T16:19:00.812843Z"
        },
        "papermill": {
          "duration": 0.154755,
          "end_time": "2025-04-02T16:19:00.815061",
          "exception": false,
          "start_time": "2025-04-02T16:19:00.660306",
          "status": "completed"
        },
        "tags": [],
        "id": "968d843a"
      },
      "outputs": [],
      "source": [
        "import matplotlib.pyplot as plt\n",
        "from sklearn.metrics import roc_auc_score, roc_curve, auc\n",
        "from torch.optim.lr_scheduler import ReduceLROnPlateau"
      ]
    },
    {
      "cell_type": "code",
      "execution_count": null,
      "id": "2dcf5e9b",
      "metadata": {
        "execution": {
          "iopub.execute_input": "2025-04-02T16:19:00.823730Z",
          "iopub.status.busy": "2025-04-02T16:19:00.823462Z",
          "iopub.status.idle": "2025-04-02T16:31:44.345375Z",
          "shell.execute_reply": "2025-04-02T16:31:44.344454Z"
        },
        "papermill": {
          "duration": 763.531087,
          "end_time": "2025-04-02T16:31:44.350155",
          "exception": false,
          "start_time": "2025-04-02T16:19:00.819068",
          "status": "completed"
        },
        "tags": [],
        "id": "2dcf5e9b",
        "outputId": "71ac777c-e1c2-4f18-8952-15cbdbb129e7"
      },
      "outputs": [
        {
          "name": "stderr",
          "output_type": "stream",
          "text": [
            "/usr/local/lib/python3.10/dist-packages/torch/optim/lr_scheduler.py:62: UserWarning: The verbose parameter is deprecated. Please use get_last_lr() to access the learning rate.\n",
            "  warnings.warn(\n"
          ]
        },
        {
          "name": "stdout",
          "output_type": "stream",
          "text": [
            "Epoch 001 | Train Loss: 0.6783 | Train AUC: 0.5870 | Val Loss: 0.6714 | Val AUC: 0.6304\n",
            "Epoch 002 | Train Loss: 0.6588 | Train AUC: 0.6390 | Val Loss: 0.6481 | Val AUC: 0.6615\n",
            "Epoch 003 | Train Loss: 0.6490 | Train AUC: 0.6594 | Val Loss: 0.6472 | Val AUC: 0.6673\n",
            "Epoch 004 | Train Loss: 0.6416 | Train AUC: 0.6746 | Val Loss: 0.6356 | Val AUC: 0.6888\n",
            "Epoch 005 | Train Loss: 0.6351 | Train AUC: 0.6857 | Val Loss: 0.6345 | Val AUC: 0.6881\n",
            "Epoch 006 | Train Loss: 0.6291 | Train AUC: 0.6956 | Val Loss: 0.6554 | Val AUC: 0.6873\n",
            "Epoch 007 | Train Loss: 0.6261 | Train AUC: 0.6996 | Val Loss: 0.6297 | Val AUC: 0.6984\n",
            "Epoch 008 | Train Loss: 0.6215 | Train AUC: 0.7066 | Val Loss: 0.6257 | Val AUC: 0.7019\n",
            "Epoch 009 | Train Loss: 0.6173 | Train AUC: 0.7126 | Val Loss: 0.6213 | Val AUC: 0.7137\n",
            "Epoch 010 | Train Loss: 0.6131 | Train AUC: 0.7177 | Val Loss: 0.6161 | Val AUC: 0.7134\n",
            "Epoch 011 | Train Loss: 0.6100 | Train AUC: 0.7229 | Val Loss: 0.6135 | Val AUC: 0.7203\n",
            "Epoch 012 | Train Loss: 0.6065 | Train AUC: 0.7267 | Val Loss: 0.6136 | Val AUC: 0.7230\n",
            "Epoch 013 | Train Loss: 0.6031 | Train AUC: 0.7313 | Val Loss: 0.6139 | Val AUC: 0.7204\n",
            "Epoch 014 | Train Loss: 0.6005 | Train AUC: 0.7343 | Val Loss: 0.6101 | Val AUC: 0.7250\n",
            "Epoch 015 | Train Loss: 0.5980 | Train AUC: 0.7374 | Val Loss: 0.6095 | Val AUC: 0.7255\n",
            "Epoch 016 | Train Loss: 0.5941 | Train AUC: 0.7423 | Val Loss: 0.6086 | Val AUC: 0.7256\n",
            "Epoch 017 | Train Loss: 0.5925 | Train AUC: 0.7440 | Val Loss: 0.6104 | Val AUC: 0.7260\n",
            "Epoch 018 | Train Loss: 0.5906 | Train AUC: 0.7458 | Val Loss: 0.6141 | Val AUC: 0.7271\n",
            "Epoch 019 | Train Loss: 0.5881 | Train AUC: 0.7492 | Val Loss: 0.6061 | Val AUC: 0.7296\n",
            "Epoch 020 | Train Loss: 0.5861 | Train AUC: 0.7510 | Val Loss: 0.6091 | Val AUC: 0.7305\n"
          ]
        }
      ],
      "source": [
        "best_val_auc = 0.0\n",
        "train_losses = []\n",
        "val_losses = []\n",
        "train_aucs = []\n",
        "val_aucs = []\n",
        "\n",
        "num_epochs = 20\n",
        "optimizer = optim.Adam(classifier_model.parameters(), lr=1e-3)\n",
        "scheduler = ReduceLROnPlateau(optimizer, mode='min', factor=0.1, patience=4, min_lr=1e-6, verbose=True)\n",
        "\n",
        "for epoch in range(num_epochs):\n",
        "    classifier_model.train()\n",
        "    running_loss = 0.0\n",
        "    total_samples = 0\n",
        "    train_outputs_list = []\n",
        "    train_targets_list = []\n",
        "\n",
        "    for inputs, targets in train_loader:\n",
        "        inputs, targets = inputs.to(device), targets.to(device)\n",
        "\n",
        "        optimizer.zero_grad()\n",
        "        outputs = classifier_model(inputs)\n",
        "        loss = criterion(outputs, targets)\n",
        "        loss.backward()\n",
        "        torch.nn.utils.clip_grad_norm_(classifier_model.parameters(), 1.0)\n",
        "        optimizer.step()\n",
        "\n",
        "        running_loss += loss.item() * inputs.size(0)\n",
        "        total_samples += inputs.size(0)\n",
        "        train_outputs_list.append(outputs.detach())\n",
        "        train_targets_list.append(targets.detach())\n",
        "\n",
        "    train_loss = running_loss / total_samples\n",
        "    train_losses.append(train_loss)\n",
        "\n",
        "    train_outputs = torch.cat(train_outputs_list, dim=0)\n",
        "    train_targets = torch.cat(train_targets_list, dim=0)\n",
        "    train_probs = torch.sigmoid(train_outputs).cpu().numpy().flatten()\n",
        "    train_targets_cpu = train_targets.cpu().numpy().flatten()\n",
        "    train_auc = roc_auc_score(train_targets_cpu, train_probs)\n",
        "    train_aucs.append(train_auc)\n",
        "\n",
        "    classifier_model.eval()\n",
        "    val_running_loss = 0.0\n",
        "    val_samples = 0\n",
        "    val_outputs_list = []\n",
        "    val_targets_list = []\n",
        "\n",
        "    with torch.no_grad():\n",
        "        for inputs, targets in val_loader:\n",
        "            inputs, targets = inputs.to(device), targets.to(device)\n",
        "            outputs = classifier_model(inputs)\n",
        "            loss = criterion(outputs, targets)\n",
        "\n",
        "            val_running_loss += loss.item() * inputs.size(0)\n",
        "            val_samples += inputs.size(0)\n",
        "            val_outputs_list.append(outputs)\n",
        "            val_targets_list.append(targets)\n",
        "\n",
        "    val_loss = val_running_loss / val_samples\n",
        "    val_losses.append(val_loss)\n",
        "\n",
        "    val_outputs = torch.cat(val_outputs_list, dim=0)\n",
        "    val_targets = torch.cat(val_targets_list, dim=0)\n",
        "    val_probs = torch.sigmoid(val_outputs).cpu().numpy().flatten()\n",
        "    val_targets_cpu = val_targets.cpu().numpy().flatten()\n",
        "    val_auc = roc_auc_score(val_targets_cpu, val_probs)\n",
        "    val_aucs.append(val_auc)\n",
        "\n",
        "    print(f\"Epoch {epoch+1:03d} | Train Loss: {train_loss:.4f} | Train AUC: {train_auc:.4f} | \"\n",
        "          f\"Val Loss: {val_loss:.4f} | Val AUC: {val_auc:.4f}\")\n",
        "\n",
        "    if val_auc > best_val_auc:\n",
        "        best_val_auc = val_auc\n",
        "        torch.save(classifier_model.state_dict(), \"best_classifier.pth\")\n",
        "\n",
        "    scheduler.step(val_loss)"
      ]
    },
    {
      "cell_type": "code",
      "execution_count": null,
      "id": "d4ff558e",
      "metadata": {
        "execution": {
          "iopub.execute_input": "2025-04-02T16:31:44.360143Z",
          "iopub.status.busy": "2025-04-02T16:31:44.359894Z",
          "iopub.status.idle": "2025-04-02T16:31:45.020350Z",
          "shell.execute_reply": "2025-04-02T16:31:45.019307Z"
        },
        "papermill": {
          "duration": 0.66807,
          "end_time": "2025-04-02T16:31:45.022744",
          "exception": false,
          "start_time": "2025-04-02T16:31:44.354674",
          "status": "completed"
        },
        "tags": [],
        "id": "d4ff558e",
        "outputId": "de2c6d1c-4a66-4240-da5e-afc32825a829"
      },
      "outputs": [
        {
          "data": {
            "image/png": "[encoded data removed]",
            "text/plain": [
              "<Figure size 1200x500 with 2 Axes>"
            ]
          },
          "metadata": {},
          "output_type": "display_data"
        }
      ],
      "source": [
        "plt.figure(figsize=(12, 5))\n",
        "\n",
        "plt.subplot(1, 2, 1)\n",
        "plt.plot(range(1, num_epochs + 1), train_losses, label=\"Train Loss\", marker='*')\n",
        "plt.plot(range(1, num_epochs + 1), val_losses, label=\"Val Loss\", marker='*')\n",
        "plt.xlabel(\"Epochs\")\n",
        "plt.ylabel(\"Loss\")\n",
        "plt.title(\"Loss vs. Epochs\")\n",
        "plt.legend()\n",
        "plt.grid()\n",
        "\n",
        "plt.subplot(1, 2, 2)\n",
        "plt.plot(range(1, num_epochs + 1), train_aucs, label=\"Train AUC\", marker='*')\n",
        "plt.plot(range(1, num_epochs + 1), val_aucs, label=\"Val AUC\", marker='*')\n",
        "plt.xlabel(\"Epochs\")\n",
        "plt.ylabel(\"AUC\")\n",
        "plt.title(\"AUC vs. Epochs\")\n",
        "plt.legend()\n",
        "plt.grid()\n",
        "\n",
        "plt.show()"
      ]
    },
    {
      "cell_type": "code",
      "execution_count": null,
      "id": "f0e3e084",
      "metadata": {
        "execution": {
          "iopub.execute_input": "2025-04-02T16:31:45.037514Z",
          "iopub.status.busy": "2025-04-02T16:31:45.037208Z",
          "iopub.status.idle": "2025-04-02T16:31:45.226365Z",
          "shell.execute_reply": "2025-04-02T16:31:45.225573Z"
        },
        "papermill": {
          "duration": 0.198246,
          "end_time": "2025-04-02T16:31:45.228034",
          "exception": false,
          "start_time": "2025-04-02T16:31:45.029788",
          "status": "completed"
        },
        "tags": [],
        "id": "f0e3e084",
        "outputId": "aa4400f9-ac0b-4bae-9a16-68d409d05f02"
      },
      "outputs": [
        {
          "data": {
            "image/png": "[encoded data removed]",
            "text/plain": [
              "<Figure size 600x600 with 1 Axes>"
            ]
          },
          "metadata": {},
          "output_type": "display_data"
        }
      ],
      "source": [
        "fpr, tpr, _ = roc_curve(val_targets_cpu, val_probs)\n",
        "roc_auc = auc(fpr, tpr)\n",
        "\n",
        "plt.figure(figsize=(6, 6))\n",
        "plt.plot(fpr, tpr, color='blue', lw=2, label=f\"AUC = {roc_auc:.4f}\")\n",
        "plt.plot([0, 1], [0, 1], color='gray', linestyle='--')\n",
        "plt.xlim([0.0, 1.0])\n",
        "plt.ylim([0.0, 1.05])\n",
        "plt.xlabel(\"False Positive Rate\")\n",
        "plt.ylabel(\"True Positive Rate\")\n",
        "plt.title(\"Receiver Operating Characteristic (ROC) Curve\")\n",
        "plt.legend(loc=\"lower right\")\n",
        "plt.grid()\n",
        "plt.show()"
      ]
    }
  ],
  "metadata": {
    "kaggle": {
      "accelerator": "nvidiaTeslaT4",
      "dataSources": [
        {
          "sourceId": 226466573,
          "sourceType": "kernelVersion"
        },
        {
          "sourceId": 231041107,
          "sourceType": "kernelVersion"
        }
      ],
      "dockerImageVersionId": 30919,
      "isGpuEnabled": true,
      "isInternetEnabled": true,
      "language": "python",
      "sourceType": "notebook"
    },
    "kernelspec": {
      "display_name": "Python 3",
      "language": "python",
      "name": "python3"
    },
    "language_info": {
      "codemirror_mode": {
        "name": "ipython",
        "version": 3
      },
      "file_extension": ".py",
      "mimetype": "text/x-python",
      "name": "python",
      "nbconvert_exporter": "python",
      "pygments_lexer": "ipython3",
      "version": "3.10.12"
    },
    "papermill": {
      "default_parameters": {},
      "duration": 945.672924,
      "end_time": "2025-04-02T16:31:48.308673",
      "environment_variables": {},
      "exception": null,
      "input_path": "__notebook__.ipynb",
      "output_path": "__notebook__.ipynb",
      "parameters": {},
      "start_time": "2025-04-02T16:16:02.635749",
      "version": "2.6.0"
    },
    "colab": {
      "provenance": [],
      "include_colab_link": true
    }
  },
  "nbformat": 4,
  "nbformat_minor": 5
}
