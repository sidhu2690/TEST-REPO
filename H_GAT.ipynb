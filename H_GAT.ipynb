{
  "cells": [
    {
      "cell_type": "markdown",
      "metadata": {
        "id": "view-in-github",
        "colab_type": "text"
      },
      "source": [
        "<a href=\"https://colab.research.google.com/github/sidhu2690/TEST-REPO/blob/main/H_GAT.ipynb\" target=\"_parent\"><img src=\"https://colab.research.google.com/assets/colab-badge.svg\" alt=\"Open In Colab\"/></a>"
      ]
    },
    {
      "cell_type": "code",
      "execution_count": null,
      "id": "a32c3a5d",
      "metadata": {
        "_cell_guid": "b1076dfc-b9ad-4769-8c92-a6c4dae69d19",
        "_uuid": "8f2839f25d086af736a60e9eeb907d3b93b6e0e5",
        "execution": {
          "iopub.execute_input": "2025-04-02T16:23:40.748001Z",
          "iopub.status.busy": "2025-04-02T16:23:40.747795Z",
          "iopub.status.idle": "2025-04-02T16:23:46.415820Z",
          "shell.execute_reply": "2025-04-02T16:23:46.414845Z"
        },
        "papermill": {
          "duration": 5.673635,
          "end_time": "2025-04-02T16:23:46.417499",
          "exception": false,
          "start_time": "2025-04-02T16:23:40.743864",
          "status": "completed"
        },
        "tags": [],
        "id": "a32c3a5d",
        "outputId": "ecd301d0-76fd-4d23-af70-e5238f0739f4"
      },
      "outputs": [
        {
          "name": "stdout",
          "output_type": "stream",
          "text": [
            "\u001b[2K     \u001b[90m━━━━━━━━━━━━━━━━━━━━━━━━━━━━━━━━━━━━━━━━\u001b[0m \u001b[32m63.1/63.1 kB\u001b[0m \u001b[31m2.4 MB/s\u001b[0m eta \u001b[36m0:00:00\u001b[0m\r\n",
            "\u001b[2K   \u001b[90m━━━━━━━━━━━━━━━━━━━━━━━━━━━━━━━━━━━━━━━━\u001b[0m \u001b[32m1.1/1.1 MB\u001b[0m \u001b[31m21.6 MB/s\u001b[0m eta \u001b[36m0:00:00\u001b[0m\r\n",
            "\u001b[?25hNote: you may need to restart the kernel to use updated packages.\n"
          ]
        }
      ],
      "source": [
        "pip install -q torch-geometric"
      ]
    },
    {
      "cell_type": "code",
      "execution_count": null,
      "id": "20eafe79",
      "metadata": {
        "execution": {
          "iopub.execute_input": "2025-04-02T16:23:46.424900Z",
          "iopub.status.busy": "2025-04-02T16:23:46.424651Z",
          "iopub.status.idle": "2025-04-02T16:37:20.409439Z",
          "shell.execute_reply": "2025-04-02T16:37:20.408414Z"
        },
        "papermill": {
          "duration": 813.990127,
          "end_time": "2025-04-02T16:37:20.411063",
          "exception": false,
          "start_time": "2025-04-02T16:23:46.420936",
          "status": "completed"
        },
        "tags": [],
        "id": "20eafe79",
        "outputId": "d9ee996a-ea5f-431c-dca0-db686ad80d95"
      },
      "outputs": [
        {
          "name": "stdout",
          "output_type": "stream",
          "text": [
            "Looking in links: https://data.pyg.org/whl/torch-2.5.1.html\r\n",
            "Collecting torch-scatter\r\n",
            "  Downloading torch_scatter-2.1.2.tar.gz (108 kB)\r\n",
            "\u001b[2K     \u001b[90m━━━━━━━━━━━━━━━━━━━━━━━━━━━━━━━━━━━━━━━━\u001b[0m \u001b[32m108.0/108.0 kB\u001b[0m \u001b[31m4.0 MB/s\u001b[0m eta \u001b[36m0:00:00\u001b[0m\r\n",
            "\u001b[?25h  Preparing metadata (setup.py) ... \u001b[?25l\u001b[?25hdone\r\n",
            "Building wheels for collected packages: torch-scatter\r\n",
            "  Building wheel for torch-scatter (setup.py) ... \u001b[?25l\u001b[?25hdone\r\n",
            "  Created wheel for torch-scatter: filename=torch_scatter-2.1.2-cp310-cp310-linux_x86_64.whl size=3662076 sha256=9162dde0bd7b608ed6742dc82304bf0c12d62512f757718f0a28a5507d32b95b\r\n",
            "  Stored in directory: /root/.cache/pip/wheels/92/f1/2b/3b46d54b134259f58c8363568569053248040859b1a145b3ce\r\n",
            "Successfully built torch-scatter\r\n",
            "Installing collected packages: torch-scatter\r\n",
            "Successfully installed torch-scatter-2.1.2\r\n"
          ]
        }
      ],
      "source": [
        "!pip install torch-scatter -f https://data.pyg.org/whl/torch-$(python -c \"import torch; print(torch.__version__.split('+')[0])\").html"
      ]
    },
    {
      "cell_type": "code",
      "execution_count": null,
      "id": "036fe93d",
      "metadata": {
        "execution": {
          "iopub.execute_input": "2025-04-02T16:37:20.420251Z",
          "iopub.status.busy": "2025-04-02T16:37:20.420022Z",
          "iopub.status.idle": "2025-04-02T16:47:29.415953Z",
          "shell.execute_reply": "2025-04-02T16:47:29.414869Z"
        },
        "papermill": {
          "duration": 609.001789,
          "end_time": "2025-04-02T16:47:29.417724",
          "exception": false,
          "start_time": "2025-04-02T16:37:20.415935",
          "status": "completed"
        },
        "tags": [],
        "id": "036fe93d",
        "outputId": "940ab569-c60c-4d9f-f1a1-873f4d9d60a5"
      },
      "outputs": [
        {
          "name": "stdout",
          "output_type": "stream",
          "text": [
            "--2025-04-02 16:37:20--  https://cernbox.cern.ch/remote.php/dav/public-files/oolDBdQegsITFcv/QCDToGGQQ_IMGjet_RH1all_jet0_run0_n36272.test.snappy.parquet\r\n",
            "Resolving cernbox.cern.ch (cernbox.cern.ch)... 128.142.170.17, 128.142.53.35, 128.142.53.28, ...\r\n",
            "Connecting to cernbox.cern.ch (cernbox.cern.ch)|128.142.170.17|:443... connected.\r\n",
            "HTTP request sent, awaiting response... 200 OK\r\n",
            "Length: 184115523 (176M) [application/octet-stream]\r\n",
            "Saving to: ‘QCDToGGQQ_IMGjet_RH1all_jet0_run0_n36272.test.snappy.parquet’\r\n",
            "\r\n",
            "QCDToGGQQ_IMGjet_RH 100%[===================>] 175.59M   300KB/s    in 10m 8s  \r\n",
            "\r\n",
            "2025-04-02 16:47:29 (296 KB/s) - ‘QCDToGGQQ_IMGjet_RH1all_jet0_run0_n36272.test.snappy.parquet’ saved [184115523/184115523]\r\n",
            "\r\n"
          ]
        }
      ],
      "source": [
        "!wget https://cernbox.cern.ch/remote.php/dav/public-files/oolDBdQegsITFcv/QCDToGGQQ_IMGjet_RH1all_jet0_run0_n36272.test.snappy.parquet"
      ]
    },
    {
      "cell_type": "code",
      "execution_count": null,
      "id": "a8193f6e",
      "metadata": {
        "execution": {
          "iopub.execute_input": "2025-04-02T16:47:29.641761Z",
          "iopub.status.busy": "2025-04-02T16:47:29.641453Z",
          "iopub.status.idle": "2025-04-02T16:47:40.080376Z",
          "shell.execute_reply": "2025-04-02T16:47:40.079416Z"
        },
        "papermill": {
          "duration": 10.550652,
          "end_time": "2025-04-02T16:47:40.082117",
          "exception": false,
          "start_time": "2025-04-02T16:47:29.531465",
          "status": "completed"
        },
        "tags": [],
        "id": "a8193f6e"
      },
      "outputs": [],
      "source": [
        "import torch\n",
        "from torch import nn\n",
        "import torch.nn.functional as F\n",
        "from torch_geometric.data import Data, DataLoader as GeoDataLoader\n",
        "from torch.utils.data import IterableDataset, DataLoader\n",
        "from torch_geometric.nn import GATConv,GCNConv , global_mean_pool, global_max_pool, GraphNorm\n",
        "import pyarrow.parquet as pq\n",
        "import numpy as np\n",
        "import matplotlib.pyplot as plt\n",
        "from scipy.sparse import coo_matrix\n",
        "import plotly.graph_objects as go\n",
        "import networkx as nx\n",
        "from sklearn.model_selection import train_test_split\n",
        "from sklearn.metrics import roc_auc_score, roc_curve, auc\n",
        "from sklearn.neighbors import NearestNeighbors"
      ]
    },
    {
      "cell_type": "code",
      "execution_count": null,
      "id": "90b91b6f",
      "metadata": {
        "execution": {
          "iopub.execute_input": "2025-04-02T16:47:40.306943Z",
          "iopub.status.busy": "2025-04-02T16:47:40.306427Z",
          "iopub.status.idle": "2025-04-02T16:47:40.317758Z",
          "shell.execute_reply": "2025-04-02T16:47:40.317104Z"
        },
        "papermill": {
          "duration": 0.123685,
          "end_time": "2025-04-02T16:47:40.318911",
          "exception": false,
          "start_time": "2025-04-02T16:47:40.195226",
          "status": "completed"
        },
        "tags": [],
        "id": "90b91b6f"
      },
      "outputs": [],
      "source": [
        "def safe_convert(x):\n",
        "    if isinstance(x, (list, tuple)):\n",
        "        try:\n",
        "            return np.array(x, dtype=np.float32)\n",
        "        except Exception:\n",
        "            return np.stack([safe_convert(item) for item in x])\n",
        "    elif isinstance(x, np.ndarray):\n",
        "        if x.dtype == np.object_:\n",
        "            return safe_convert(x.tolist())\n",
        "        return x.astype(np.float32)\n",
        "    else:\n",
        "        return np.array(x, dtype=np.float32)\n",
        "\n",
        "class SimpleParquetDataset(IterableDataset):\n",
        "    def __init__(self, file_path, batch_size=32):\n",
        "        self.file_path = file_path\n",
        "        self.batch_size = batch_size\n",
        "\n",
        "    def __iter__(self):\n",
        "        pf = pq.ParquetFile(self.file_path)\n",
        "        for batch in pf.iter_batches(batch_size=self.batch_size, columns=['X_jets', 'y']):\n",
        "            df = batch.to_pandas()\n",
        "            X_batch = torch.stack([torch.tensor(safe_convert(x), dtype=torch.float32) for x in df['X_jets']])\n",
        "            y_batch = torch.tensor(df['y'].values, dtype=torch.long)\n",
        "            yield X_batch, y_batch\n",
        "\n",
        "def get_dataloader(file_path, batch_size=32, num_workers=0):\n",
        "    dataset = SimpleParquetDataset(file_path, batch_size)\n",
        "    return DataLoader(dataset, batch_size=None, num_workers=num_workers)\n",
        "\n",
        "def image_to_pc(img):\n",
        "    nz_mask = np.any(img != 0, axis=-1)\n",
        "    points = np.column_stack(np.where(nz_mask))\n",
        "    feats = img[nz_mask]\n",
        "    return points, feats\n",
        "\n",
        "\n",
        "def build_knn_adjacency(points, k=4, sigma=1.0):\n",
        "    nbrs = NearestNeighbors(n_neighbors=k+1, algorithm='auto').fit(points)\n",
        "    distances, indices = nbrs.kneighbors(points)\n",
        "    distances, indices = distances[:, 1:], indices[:, 1:]\n",
        "    weights = np.exp(-distances**2 / (2 * sigma**2))\n",
        "    row_indices = np.repeat(np.arange(len(points)), k)\n",
        "    col_indices = indices.flatten()\n",
        "    A = coo_matrix((weights.flatten(), (row_indices, col_indices)), shape=(len(points), len(points)))\n",
        "    return A\n",
        "\n",
        "\n",
        "def point_cloud_to_graph(points, features, label, image_shape=(125, 125), neighbors=4):\n",
        "    adjacency = build_knn_adjacency(points, k=neighbors)\n",
        "    edge_idx = torch.from_numpy(np.vstack((adjacency.row, adjacency.col))).long()\n",
        "    edge_weights = torch.from_numpy(adjacency.data).float().view(-1, 1)\n",
        "    feat_min = np.min(features, axis=0)\n",
        "    feat_max = np.max(features, axis=0)\n",
        "    feat_range = feat_max - feat_min\n",
        "    feat_range[feat_range == 0] = 1\n",
        "    features = (features - feat_min) / feat_range\n",
        "    pos_min = np.min(points, axis=0)\n",
        "    pos_max = np.max(points, axis=0)\n",
        "    pos_range = pos_max - pos_min\n",
        "    pos_range[pos_range == 0] = 1\n",
        "    pos_features = (points - pos_min) / pos_range\n",
        "    node_features = np.hstack((features, pos_features))\n",
        "    data = Data(x=torch.from_numpy(node_features).float(),\n",
        "                edge_index=edge_idx,\n",
        "                edge_attr=edge_weights,\n",
        "                y=label,\n",
        "                pos=torch.tensor(points, dtype=torch.float))\n",
        "    return data"
      ]
    },
    {
      "cell_type": "code",
      "execution_count": null,
      "id": "fc95be24",
      "metadata": {
        "execution": {
          "iopub.execute_input": "2025-04-02T16:47:40.542176Z",
          "iopub.status.busy": "2025-04-02T16:47:40.541865Z",
          "iopub.status.idle": "2025-04-02T16:47:40.545857Z",
          "shell.execute_reply": "2025-04-02T16:47:40.545159Z"
        },
        "papermill": {
          "duration": 0.117032,
          "end_time": "2025-04-02T16:47:40.547000",
          "exception": false,
          "start_time": "2025-04-02T16:47:40.429968",
          "status": "completed"
        },
        "tags": [],
        "id": "fc95be24"
      },
      "outputs": [],
      "source": [
        "file_path = '/kaggle/working/QCDToGGQQ_IMGjet_RH1all_jet0_run0_n36272.test.snappy.parquet'\n",
        "dataloader = get_dataloader(file_path, batch_size=128, num_workers=0)"
      ]
    },
    {
      "cell_type": "code",
      "execution_count": null,
      "id": "1ddae9f0",
      "metadata": {
        "execution": {
          "iopub.execute_input": "2025-04-02T16:47:40.766934Z",
          "iopub.status.busy": "2025-04-02T16:47:40.766702Z",
          "iopub.status.idle": "2025-04-02T16:50:15.115186Z",
          "shell.execute_reply": "2025-04-02T16:50:15.114161Z"
        },
        "papermill": {
          "duration": 154.617072,
          "end_time": "2025-04-02T16:50:15.273642",
          "exception": false,
          "start_time": "2025-04-02T16:47:40.656570",
          "status": "completed"
        },
        "tags": [],
        "id": "1ddae9f0",
        "outputId": "95672855-5a4f-4f8f-bcc2-4145b6477158"
      },
      "outputs": [
        {
          "name": "stdout",
          "output_type": "stream",
          "text": [
            "Number of graphs: 36272\n"
          ]
        }
      ],
      "source": [
        "graph_dataset = []\n",
        "for X_batch, y_batch in dataloader:\n",
        "    for idx, image_tensor in enumerate(X_batch):\n",
        "        image_np = image_tensor.cpu().numpy().transpose(1, 2, 0)\n",
        "        points, features = image_to_pc(image_np)\n",
        "        graph_data = point_cloud_to_graph(points, features, y_batch[idx])\n",
        "        graph_dataset.append(graph_data)\n",
        "\n",
        "print(f'Number of graphs: {len(graph_dataset)}')"
      ]
    },
    {
      "cell_type": "code",
      "execution_count": null,
      "id": "4c548527",
      "metadata": {
        "execution": {
          "iopub.execute_input": "2025-04-02T16:50:15.496730Z",
          "iopub.status.busy": "2025-04-02T16:50:15.496149Z",
          "iopub.status.idle": "2025-04-02T16:50:15.510859Z",
          "shell.execute_reply": "2025-04-02T16:50:15.509972Z"
        },
        "papermill": {
          "duration": 0.12652,
          "end_time": "2025-04-02T16:50:15.512120",
          "exception": false,
          "start_time": "2025-04-02T16:50:15.385600",
          "status": "completed"
        },
        "tags": [],
        "id": "4c548527",
        "outputId": "411808dd-ac9e-4b5d-e903-8d13a0d2d3e5"
      },
      "outputs": [
        {
          "name": "stderr",
          "output_type": "stream",
          "text": [
            "/usr/local/lib/python3.10/dist-packages/torch_geometric/deprecation.py:26: UserWarning: 'data.DataLoader' is deprecated, use 'loader.DataLoader' instead\n",
            "  warnings.warn(out)\n"
          ]
        }
      ],
      "source": [
        "train_graphs, test_graphs = train_test_split(graph_dataset, test_size=0.2)\n",
        "train_loader = GeoDataLoader(train_graphs, batch_size=128, shuffle=True)\n",
        "test_loader = GeoDataLoader(test_graphs, batch_size=128, shuffle=True)"
      ]
    },
    {
      "cell_type": "code",
      "execution_count": null,
      "id": "0435abb3",
      "metadata": {
        "execution": {
          "iopub.execute_input": "2025-04-02T16:50:15.731069Z",
          "iopub.status.busy": "2025-04-02T16:50:15.730836Z",
          "iopub.status.idle": "2025-04-02T16:50:15.739276Z",
          "shell.execute_reply": "2025-04-02T16:50:15.738649Z"
        },
        "papermill": {
          "duration": 0.11891,
          "end_time": "2025-04-02T16:50:15.740605",
          "exception": false,
          "start_time": "2025-04-02T16:50:15.621695",
          "status": "completed"
        },
        "tags": [],
        "id": "0435abb3"
      },
      "outputs": [],
      "source": [
        "class Graph_Attention_Model(torch.nn.Module):\n",
        "    def __init__(self, in_channels, hidden_channels, num_classes, heads=4):\n",
        "        super(Graph_Attention_Model, self).__init__()\n",
        "        self.gat1 = GATConv(in_channels, hidden_channels, heads=heads, dropout=0.2)\n",
        "        self.norm1 = GraphNorm(hidden_channels * heads)\n",
        "\n",
        "        self.gat2 = GATConv(hidden_channels * heads, hidden_channels * 2, heads=1, concat=True, dropout=0.2)\n",
        "        self.norm2 = GraphNorm(hidden_channels * 2)\n",
        "\n",
        "        self.gat3 = GATConv(hidden_channels * 2, hidden_channels, heads=1, concat=False, dropout=0.2)\n",
        "        self.norm3 = GraphNorm(hidden_channels)\n",
        "\n",
        "        self.linear1 = nn.Linear(hidden_channels * 2, hidden_channels)\n",
        "        self.linear2 = nn.Linear(hidden_channels , num_classes)\n",
        "\n",
        "\n",
        "    def forward(self, data):\n",
        "        x, edge_index, batch = data.x, data.edge_index, data.batch\n",
        "\n",
        "        x = self.gat1(x, edge_index)\n",
        "        x = self.norm1(x, batch)\n",
        "        x = F.relu(x)\n",
        "\n",
        "        x = self.gat2(x, edge_index)\n",
        "        x = self.norm2(x, batch)\n",
        "        x = F.relu(x)\n",
        "\n",
        "        x = self.gat3(x, edge_index)\n",
        "        x = self.norm3(x, batch)\n",
        "        x = F.relu(x)\n",
        "\n",
        "        x_mean = global_mean_pool(x, batch)\n",
        "        x_max = global_max_pool(x, batch)\n",
        "        x = torch.cat([x_mean, x_max], dim=1)\n",
        "\n",
        "        x = self.linear1(x)\n",
        "        x = F.relu(x)\n",
        "        x = self.linear2(x)\n",
        "        return x"
      ]
    },
    {
      "cell_type": "code",
      "execution_count": null,
      "id": "be5deb0b",
      "metadata": {
        "execution": {
          "iopub.execute_input": "2025-04-02T16:50:15.961650Z",
          "iopub.status.busy": "2025-04-02T16:50:15.961363Z",
          "iopub.status.idle": "2025-04-02T16:50:16.265448Z",
          "shell.execute_reply": "2025-04-02T16:50:16.264739Z"
        },
        "papermill": {
          "duration": 0.415697,
          "end_time": "2025-04-02T16:50:16.267016",
          "exception": false,
          "start_time": "2025-04-02T16:50:15.851319",
          "status": "completed"
        },
        "tags": [],
        "id": "be5deb0b"
      },
      "outputs": [],
      "source": [
        "device = torch.device('cuda' if torch.cuda.is_available() else 'cpu')\n",
        "model = Graph_Attention_Model(in_channels=5, hidden_channels=128, num_classes=1, heads=4).to(device)\n",
        "optimizer = torch.optim.AdamW(model.parameters(), lr=0.0001)\n",
        "criterion = torch.nn.BCEWithLogitsLoss()"
      ]
    },
    {
      "cell_type": "code",
      "execution_count": null,
      "id": "43e563b7",
      "metadata": {
        "execution": {
          "iopub.execute_input": "2025-04-02T16:50:16.492588Z",
          "iopub.status.busy": "2025-04-02T16:50:16.492290Z",
          "iopub.status.idle": "2025-04-02T16:50:16.496541Z",
          "shell.execute_reply": "2025-04-02T16:50:16.495535Z"
        },
        "papermill": {
          "duration": 0.114749,
          "end_time": "2025-04-02T16:50:16.497782",
          "exception": false,
          "start_time": "2025-04-02T16:50:16.383033",
          "status": "completed"
        },
        "tags": [],
        "id": "43e563b7",
        "outputId": "b8f8ae55-0c2f-4574-ca34-d1018a234e5b"
      },
      "outputs": [
        {
          "name": "stdout",
          "output_type": "stream",
          "text": [
            "Graph_Attention_Model(\n",
            "  (gat1): GATConv(5, 128, heads=4)\n",
            "  (norm1): GraphNorm(512)\n",
            "  (gat2): GATConv(512, 256, heads=1)\n",
            "  (norm2): GraphNorm(256)\n",
            "  (gat3): GATConv(256, 128, heads=1)\n",
            "  (norm3): GraphNorm(128)\n",
            "  (linear1): Linear(in_features=256, out_features=128, bias=True)\n",
            "  (linear2): Linear(in_features=128, out_features=1, bias=True)\n",
            ")\n"
          ]
        }
      ],
      "source": [
        "print(model)"
      ]
    },
    {
      "cell_type": "code",
      "execution_count": null,
      "id": "6d143c18",
      "metadata": {
        "execution": {
          "iopub.execute_input": "2025-04-02T16:50:16.728594Z",
          "iopub.status.busy": "2025-04-02T16:50:16.728243Z",
          "iopub.status.idle": "2025-04-02T17:41:42.577983Z",
          "shell.execute_reply": "2025-04-02T17:41:42.576840Z"
        },
        "papermill": {
          "duration": 3086.083302,
          "end_time": "2025-04-02T17:41:42.695060",
          "exception": false,
          "start_time": "2025-04-02T16:50:16.611758",
          "status": "completed"
        },
        "tags": [],
        "id": "6d143c18",
        "outputId": "8f281a45-0ae0-46c5-dbde-0438ae41ae7b"
      },
      "outputs": [
        {
          "name": "stdout",
          "output_type": "stream",
          "text": [
            "Epoch 001: Train Loss: 0.6747, Train Acc: 0.5727, Train AUC: 0.6930\n",
            "Epoch 002: Train Loss: 0.6463, Train Acc: 0.6224, Train AUC: 0.7153\n",
            "Epoch 003: Train Loss: 0.6684, Train Acc: 0.5816, Train AUC: 0.7255\n",
            "Epoch 004: Train Loss: 0.6531, Train Acc: 0.6113, Train AUC: 0.7333\n",
            "Epoch 005: Train Loss: 0.6484, Train Acc: 0.6156, Train AUC: 0.7405\n",
            "Epoch 006: Train Loss: 0.7106, Train Acc: 0.5504, Train AUC: 0.7440\n",
            "Epoch 007: Train Loss: 0.6951, Train Acc: 0.5693, Train AUC: 0.7508\n",
            "Epoch 008: Train Loss: 0.6134, Train Acc: 0.6606, Train AUC: 0.7579\n",
            "Epoch 009: Train Loss: 0.6920, Train Acc: 0.5738, Train AUC: 0.7582\n",
            "Epoch 010: Train Loss: 0.7071, Train Acc: 0.5740, Train AUC: 0.7621\n",
            "Epoch 011: Train Loss: 0.6607, Train Acc: 0.6109, Train AUC: 0.7636\n",
            "Epoch 012: Train Loss: 0.6637, Train Acc: 0.6081, Train AUC: 0.7649\n",
            "Epoch 013: Train Loss: 0.6418, Train Acc: 0.6316, Train AUC: 0.7689\n",
            "Epoch 014: Train Loss: 0.6527, Train Acc: 0.6248, Train AUC: 0.7680\n",
            "Epoch 015: Train Loss: 0.6404, Train Acc: 0.6305, Train AUC: 0.7705\n",
            "Epoch 016: Train Loss: 0.6845, Train Acc: 0.6044, Train AUC: 0.7703\n",
            "Epoch 017: Train Loss: 0.6624, Train Acc: 0.6110, Train AUC: 0.7705\n",
            "Epoch 018: Train Loss: 0.6360, Train Acc: 0.6458, Train AUC: 0.7729\n",
            "Epoch 019: Train Loss: 0.6551, Train Acc: 0.6288, Train AUC: 0.7741\n",
            "Epoch 020: Train Loss: 0.6268, Train Acc: 0.6540, Train AUC: 0.7734\n",
            "Epoch 021: Train Loss: 0.6295, Train Acc: 0.6501, Train AUC: 0.7738\n",
            "Epoch 022: Train Loss: 0.6279, Train Acc: 0.6540, Train AUC: 0.7738\n",
            "Epoch 023: Train Loss: 0.6552, Train Acc: 0.6324, Train AUC: 0.7763\n",
            "Epoch 024: Train Loss: 0.6234, Train Acc: 0.6559, Train AUC: 0.7774\n",
            "Epoch 025: Train Loss: 0.6519, Train Acc: 0.6353, Train AUC: 0.7777\n",
            "Epoch 026: Train Loss: 0.6547, Train Acc: 0.6397, Train AUC: 0.7770\n",
            "Epoch 027: Train Loss: 0.6641, Train Acc: 0.6260, Train AUC: 0.7774\n",
            "Epoch 028: Train Loss: 0.6675, Train Acc: 0.6244, Train AUC: 0.7772\n",
            "Epoch 029: Train Loss: 0.6277, Train Acc: 0.6594, Train AUC: 0.7783\n",
            "Epoch 030: Train Loss: 0.6380, Train Acc: 0.6501, Train AUC: 0.7778\n"
          ]
        }
      ],
      "source": [
        "train_losses = []\n",
        "train_accs = []\n",
        "train_aucs = []\n",
        "\n",
        "def train():\n",
        "    model.train()\n",
        "    total_loss = 0\n",
        "    for data in train_loader:\n",
        "        data = data.to(device)\n",
        "        optimizer.zero_grad()\n",
        "        out = model(data)\n",
        "        target = data.y.float().unsqueeze(1)\n",
        "        loss = criterion(out, target)\n",
        "        loss.backward()\n",
        "        optimizer.step()\n",
        "        total_loss += loss.item() * data.num_graphs\n",
        "    return total_loss / len(train_loader.dataset)\n",
        "\n",
        "def evaluate(loader):\n",
        "    model.eval()\n",
        "    total_loss = 0\n",
        "    correct = 0\n",
        "    all_probs = []\n",
        "    all_targets = []\n",
        "    with torch.no_grad():\n",
        "        for data in loader:\n",
        "            data = data.to(device)\n",
        "            out = model(data)\n",
        "            target = data.y.float().unsqueeze(1)\n",
        "            loss = criterion(out, target)\n",
        "            total_loss += loss.item() * data.num_graphs\n",
        "\n",
        "            probs = torch.sigmoid(out)\n",
        "            all_probs.append(probs.cpu().numpy())\n",
        "            all_targets.append(target.cpu().numpy())\n",
        "\n",
        "            pred = (probs > 0.5).float()\n",
        "            correct += int((pred == target).sum())\n",
        "\n",
        "    avg_loss = total_loss / len(loader.dataset)\n",
        "    accuracy = correct / len(loader.dataset)\n",
        "\n",
        "    all_probs = np.concatenate(all_probs).ravel()\n",
        "    all_targets = np.concatenate(all_targets).ravel()\n",
        "    auc_score = roc_auc_score(all_targets, all_probs)\n",
        "\n",
        "    return avg_loss, accuracy, auc_score\n",
        "\n",
        "epochs = 30\n",
        "for epoch in range(1, epochs+1):\n",
        "    train_loss = train()\n",
        "    train_loss, train_acc, train_auc = evaluate(train_loader)\n",
        "\n",
        "    train_losses.append(train_loss)\n",
        "    train_accs.append(train_acc)\n",
        "    train_aucs.append(train_auc)\n",
        "\n",
        "    print(f\"Epoch {epoch:03d}: Train Loss: {train_loss:.4f}, Train Acc: {train_acc:.4f}, Train AUC: {train_auc:.4f}\")"
      ]
    },
    {
      "cell_type": "code",
      "execution_count": null,
      "id": "354cbd4f",
      "metadata": {
        "execution": {
          "iopub.execute_input": "2025-04-02T17:41:42.921414Z",
          "iopub.status.busy": "2025-04-02T17:41:42.921092Z",
          "iopub.status.idle": "2025-04-02T17:41:50.722168Z",
          "shell.execute_reply": "2025-04-02T17:41:50.721195Z"
        },
        "papermill": {
          "duration": 7.916593,
          "end_time": "2025-04-02T17:41:50.723695",
          "exception": false,
          "start_time": "2025-04-02T17:41:42.807102",
          "status": "completed"
        },
        "tags": [],
        "id": "354cbd4f",
        "outputId": "b17bf2ec-4d4e-4d82-98a1-9c48127edbe0"
      },
      "outputs": [
        {
          "data": {
            "image/png": "[encoded data removed]",
            "text/plain": [
              "<Figure size 800x600 with 1 Axes>"
            ]
          },
          "metadata": {},
          "output_type": "display_data"
        }
      ],
      "source": [
        "def plot_roc(model, loader, device):\n",
        "    model.eval()\n",
        "    probs_list, targets_list = [], []\n",
        "    with torch.no_grad():\n",
        "        for data in loader:\n",
        "            data = data.to(device)\n",
        "            out = model(data)\n",
        "            probs_list.append(torch.sigmoid(out).cpu().numpy())\n",
        "            targets_list.append(data.y.cpu().numpy())\n",
        "\n",
        "    probs = np.concatenate(probs_list).ravel()\n",
        "    targets = np.concatenate(targets_list).ravel()\n",
        "\n",
        "    fpr, tpr, _ = roc_curve(targets, probs)\n",
        "    roc_auc = auc(fpr, tpr)\n",
        "\n",
        "    plt.figure(figsize=(8, 6))\n",
        "    plt.plot(fpr, tpr, label=f'AUC = {roc_auc:.2f}', color='darkorange')\n",
        "    plt.plot([0, 1], [0, 1], '--', color='navy')\n",
        "    plt.xlabel('False Positive Rate')\n",
        "    plt.ylabel('True Positive Rate')\n",
        "    plt.title('ROC Curve')\n",
        "    plt.legend(loc='lower right')\n",
        "    plt.show()\n",
        "\n",
        "plot_roc(model, test_loader, device)\n"
      ]
    }
  ],
  "metadata": {
    "kaggle": {
      "accelerator": "nvidiaTeslaT4",
      "dataSources": [],
      "dockerImageVersionId": 30919,
      "isGpuEnabled": true,
      "isInternetEnabled": true,
      "language": "python",
      "sourceType": "notebook"
    },
    "kernelspec": {
      "display_name": "Python 3",
      "language": "python",
      "name": "python3"
    },
    "language_info": {
      "codemirror_mode": {
        "name": "ipython",
        "version": 3
      },
      "file_extension": ".py",
      "mimetype": "text/x-python",
      "name": "python",
      "nbconvert_exporter": "python",
      "pygments_lexer": "ipython3",
      "version": "3.10.12"
    },
    "papermill": {
      "default_parameters": {},
      "duration": 4695.823988,
      "end_time": "2025-04-02T17:41:53.880384",
      "environment_variables": {},
      "exception": null,
      "input_path": "__notebook__.ipynb",
      "output_path": "__notebook__.ipynb",
      "parameters": {},
      "start_time": "2025-04-02T16:23:38.056396",
      "version": "2.6.0"
    },
    "colab": {
      "provenance": [],
      "include_colab_link": true
    }
  },
  "nbformat": 4,
  "nbformat_minor": 5
}