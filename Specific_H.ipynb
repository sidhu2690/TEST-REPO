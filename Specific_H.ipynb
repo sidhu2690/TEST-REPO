{
  "cells": [
    {
      "cell_type": "markdown",
      "metadata": {
        "id": "view-in-github",
        "colab_type": "text"
      },
      "source": [
        "<a href=\"https://colab.research.google.com/github/sidhu2690/TEST-REPO/blob/main/Specific_H.ipynb\" target=\"_parent\"><img src=\"https://colab.research.google.com/assets/colab-badge.svg\" alt=\"Open In Colab\"/></a>"
      ]
    },
    {
      "cell_type": "code",
      "execution_count": null,
      "id": "55110c50",
      "metadata": {
        "_cell_guid": "b1076dfc-b9ad-4769-8c92-a6c4dae69d19",
        "_uuid": "8f2839f25d086af736a60e9eeb907d3b93b6e0e5",
        "execution": {
          "iopub.execute_input": "2025-04-02T16:48:41.509532Z",
          "iopub.status.busy": "2025-04-02T16:48:41.509331Z",
          "iopub.status.idle": "2025-04-02T16:48:47.368131Z",
          "shell.execute_reply": "2025-04-02T16:48:47.367024Z"
        },
        "papermill": {
          "duration": 5.864294,
          "end_time": "2025-04-02T16:48:47.369490",
          "exception": false,
          "start_time": "2025-04-02T16:48:41.505196",
          "status": "completed"
        },
        "tags": [],
        "id": "55110c50",
        "outputId": "5b69a021-92a8-4303-ac50-bc90e172ee5a"
      },
      "outputs": [
        {
          "name": "stdout",
          "output_type": "stream",
          "text": [
            "\u001b[2K     \u001b[90m━━━━━━━━━━━━━━━━━━━━━━━━━━━━━━━━━━━━━━━━\u001b[0m \u001b[32m63.1/63.1 kB\u001b[0m \u001b[31m2.3 MB/s\u001b[0m eta \u001b[36m0:00:00\u001b[0m\r\n",
            "\u001b[2K   \u001b[90m━━━━━━━━━━━━━━━━━━━━━━━━━━━━━━━━━━━━━━━━\u001b[0m \u001b[32m1.1/1.1 MB\u001b[0m \u001b[31m21.8 MB/s\u001b[0m eta \u001b[36m0:00:00\u001b[0m\r\n",
            "\u001b[?25hNote: you may need to restart the kernel to use updated packages.\n"
          ]
        }
      ],
      "source": [
        "pip install -q torch-geometric"
      ]
    },
    {
      "cell_type": "code",
      "execution_count": null,
      "id": "6ae3b2e3",
      "metadata": {
        "execution": {
          "iopub.execute_input": "2025-04-02T16:48:47.377193Z",
          "iopub.status.busy": "2025-04-02T16:48:47.376943Z",
          "iopub.status.idle": "2025-04-02T17:02:02.548500Z",
          "shell.execute_reply": "2025-04-02T17:02:02.547497Z"
        },
        "papermill": {
          "duration": 795.176946,
          "end_time": "2025-04-02T17:02:02.550004",
          "exception": false,
          "start_time": "2025-04-02T16:48:47.373058",
          "status": "completed"
        },
        "tags": [],
        "id": "6ae3b2e3",
        "outputId": "dc8cf412-011c-4af2-d761-5a7b80a6268b"
      },
      "outputs": [
        {
          "name": "stdout",
          "output_type": "stream",
          "text": [
            "Looking in links: https://data.pyg.org/whl/torch-2.5.1.html\r\n",
            "Collecting torch-scatter\r\n",
            "  Downloading torch_scatter-2.1.2.tar.gz (108 kB)\r\n",
            "\u001b[2K     \u001b[90m━━━━━━━━━━━━━━━━━━━━━━━━━━━━━━━━━━━━━━━━\u001b[0m \u001b[32m108.0/108.0 kB\u001b[0m \u001b[31m4.3 MB/s\u001b[0m eta \u001b[36m0:00:00\u001b[0m\r\n",
            "\u001b[?25h  Preparing metadata (setup.py) ... \u001b[?25l\u001b[?25hdone\r\n",
            "Building wheels for collected packages: torch-scatter\r\n",
            "  Building wheel for torch-scatter (setup.py) ... \u001b[?25l\u001b[?25hdone\r\n",
            "  Created wheel for torch-scatter: filename=torch_scatter-2.1.2-cp310-cp310-linux_x86_64.whl size=3662080 sha256=1c2e84f5afbf98227f48a016559cf8e0f5c1bbeefcd196d77d84f58bb92f230f\r\n",
            "  Stored in directory: /root/.cache/pip/wheels/92/f1/2b/3b46d54b134259f58c8363568569053248040859b1a145b3ce\r\n",
            "Successfully built torch-scatter\r\n",
            "Installing collected packages: torch-scatter\r\n",
            "Successfully installed torch-scatter-2.1.2\r\n"
          ]
        }
      ],
      "source": [
        "!pip install torch-scatter -f https://data.pyg.org/whl/torch-$(python -c \"import torch; print(torch.__version__.split('+')[0])\").html"
      ]
    },
    {
      "cell_type": "code",
      "execution_count": null,
      "id": "d047d2b5",
      "metadata": {
        "execution": {
          "iopub.execute_input": "2025-04-02T17:02:02.558405Z",
          "iopub.status.busy": "2025-04-02T17:02:02.558177Z",
          "iopub.status.idle": "2025-04-02T17:02:23.518835Z",
          "shell.execute_reply": "2025-04-02T17:02:23.518059Z"
        },
        "papermill": {
          "duration": 20.966246,
          "end_time": "2025-04-02T17:02:23.520187",
          "exception": false,
          "start_time": "2025-04-02T17:02:02.553941",
          "status": "completed"
        },
        "tags": [],
        "id": "d047d2b5",
        "outputId": "5ad94627-ccd0-4452-f579-ca5550d07af8"
      },
      "outputs": [
        {
          "name": "stdout",
          "output_type": "stream",
          "text": [
            "--2025-04-02 17:02:02--  https://cernbox.cern.ch/remote.php/dav/public-files/oolDBdQegsITFcv/QCDToGGQQ_IMGjet_RH1all_jet0_run0_n36272.test.snappy.parquet\r\n",
            "Resolving cernbox.cern.ch (cernbox.cern.ch)... 137.138.120.151, 128.142.53.35, 128.142.53.28, ...\r\n",
            "Connecting to cernbox.cern.ch (cernbox.cern.ch)|137.138.120.151|:443... connected.\r\n",
            "HTTP request sent, awaiting response... 200 OK\r\n",
            "Length: 184115523 (176M) [application/octet-stream]\r\n",
            "Saving to: ‘QCDToGGQQ_IMGjet_RH1all_jet0_run0_n36272.test.snappy.parquet’\r\n",
            "\r\n",
            "QCDToGGQQ_IMGjet_RH 100%[===================>] 175.59M  5.38MB/s    in 20s     \r\n",
            "\r\n",
            "2025-04-02 17:02:23 (8.78 MB/s) - ‘QCDToGGQQ_IMGjet_RH1all_jet0_run0_n36272.test.snappy.parquet’ saved [184115523/184115523]\r\n",
            "\r\n"
          ]
        }
      ],
      "source": [
        "!wget https://cernbox.cern.ch/remote.php/dav/public-files/oolDBdQegsITFcv/QCDToGGQQ_IMGjet_RH1all_jet0_run0_n36272.test.snappy.parquet"
      ]
    },
    {
      "cell_type": "code",
      "execution_count": null,
      "id": "8f1738ed",
      "metadata": {
        "execution": {
          "iopub.execute_input": "2025-04-02T17:02:23.537356Z",
          "iopub.status.busy": "2025-04-02T17:02:23.537119Z",
          "iopub.status.idle": "2025-04-02T17:02:33.757578Z",
          "shell.execute_reply": "2025-04-02T17:02:33.756918Z"
        },
        "papermill": {
          "duration": 10.230797,
          "end_time": "2025-04-02T17:02:33.759157",
          "exception": false,
          "start_time": "2025-04-02T17:02:23.528360",
          "status": "completed"
        },
        "tags": [],
        "id": "8f1738ed"
      },
      "outputs": [],
      "source": [
        "import torch\n",
        "from torch import nn\n",
        "import torch.nn.functional as F\n",
        "from torch_geometric.data import Data, DataLoader as GeoDataLoader\n",
        "from torch.utils.data import IterableDataset, DataLoader\n",
        "from torch_geometric.nn import EdgeConv, global_mean_pool, global_max_pool\n",
        "import pyarrow.parquet as pq\n",
        "import numpy as np\n",
        "import matplotlib.pyplot as plt\n",
        "from scipy.sparse import coo_matrix\n",
        "import plotly.graph_objects as go\n",
        "import networkx as nx\n",
        "from sklearn.model_selection import train_test_split\n",
        "from sklearn.metrics import roc_auc_score, roc_curve, auc\n",
        "from sklearn.neighbors import NearestNeighbors"
      ]
    },
    {
      "cell_type": "code",
      "execution_count": null,
      "id": "5db10675",
      "metadata": {
        "execution": {
          "iopub.execute_input": "2025-04-02T17:02:33.777517Z",
          "iopub.status.busy": "2025-04-02T17:02:33.777098Z",
          "iopub.status.idle": "2025-04-02T17:02:33.781411Z",
          "shell.execute_reply": "2025-04-02T17:02:33.780796Z"
        },
        "papermill": {
          "duration": 0.015331,
          "end_time": "2025-04-02T17:02:33.782607",
          "exception": false,
          "start_time": "2025-04-02T17:02:33.767276",
          "status": "completed"
        },
        "tags": [],
        "id": "5db10675"
      },
      "outputs": [],
      "source": [
        "def safe_convert(x):\n",
        "    if isinstance(x, (list, tuple)):\n",
        "        try:\n",
        "            return np.array(x, dtype=np.float32)\n",
        "        except Exception:\n",
        "            return np.stack([safe_convert(item) for item in x])\n",
        "    elif isinstance(x, np.ndarray):\n",
        "        if x.dtype == np.object_:\n",
        "            return safe_convert(x.tolist())\n",
        "        return x.astype(np.float32)\n",
        "    else:\n",
        "        return np.array(x, dtype=np.float32)"
      ]
    },
    {
      "cell_type": "code",
      "execution_count": null,
      "id": "f435ef68",
      "metadata": {
        "execution": {
          "iopub.execute_input": "2025-04-02T17:02:33.798120Z",
          "iopub.status.busy": "2025-04-02T17:02:33.797883Z",
          "iopub.status.idle": "2025-04-02T17:02:33.802534Z",
          "shell.execute_reply": "2025-04-02T17:02:33.801742Z"
        },
        "papermill": {
          "duration": 0.013534,
          "end_time": "2025-04-02T17:02:33.803672",
          "exception": false,
          "start_time": "2025-04-02T17:02:33.790138",
          "status": "completed"
        },
        "tags": [],
        "id": "f435ef68"
      },
      "outputs": [],
      "source": [
        "class SimpleParquetDataset(IterableDataset):\n",
        "    def __init__(self, file_path, batch_size=32):\n",
        "        self.file_path = file_path\n",
        "        self.batch_size = batch_size\n",
        "\n",
        "    def __iter__(self):\n",
        "        pf = pq.ParquetFile(self.file_path)\n",
        "        for batch in pf.iter_batches(batch_size=self.batch_size, columns=['X_jets', 'y']):\n",
        "            df = batch.to_pandas()\n",
        "            X_batch = torch.stack([torch.tensor(safe_convert(x), dtype=torch.float32) for x in df['X_jets']])\n",
        "            y_batch = torch.tensor(df['y'].values, dtype=torch.long)\n",
        "            yield X_batch, y_batch"
      ]
    },
    {
      "cell_type": "code",
      "execution_count": null,
      "id": "0fbc3ee7",
      "metadata": {
        "execution": {
          "iopub.execute_input": "2025-04-02T17:02:33.819058Z",
          "iopub.status.busy": "2025-04-02T17:02:33.818834Z",
          "iopub.status.idle": "2025-04-02T17:02:33.822049Z",
          "shell.execute_reply": "2025-04-02T17:02:33.821410Z"
        },
        "papermill": {
          "duration": 0.011964,
          "end_time": "2025-04-02T17:02:33.823090",
          "exception": false,
          "start_time": "2025-04-02T17:02:33.811126",
          "status": "completed"
        },
        "tags": [],
        "id": "0fbc3ee7"
      },
      "outputs": [],
      "source": [
        "def get_dataloader(file_path, batch_size=32, num_workers=0):\n",
        "    dataset = SimpleParquetDataset(file_path, batch_size)\n",
        "    return DataLoader(dataset, batch_size=None, num_workers=num_workers)"
      ]
    },
    {
      "cell_type": "code",
      "execution_count": null,
      "id": "962faa13",
      "metadata": {
        "execution": {
          "iopub.execute_input": "2025-04-02T17:02:33.838370Z",
          "iopub.status.busy": "2025-04-02T17:02:33.838164Z",
          "iopub.status.idle": "2025-04-02T17:02:33.841410Z",
          "shell.execute_reply": "2025-04-02T17:02:33.840837Z"
        },
        "papermill": {
          "duration": 0.012087,
          "end_time": "2025-04-02T17:02:33.842544",
          "exception": false,
          "start_time": "2025-04-02T17:02:33.830457",
          "status": "completed"
        },
        "tags": [],
        "id": "962faa13"
      },
      "outputs": [],
      "source": [
        "def image_to_pc(img):\n",
        "    nz_mask = np.any(img != 0, axis=-1)\n",
        "    points = np.column_stack(np.where(nz_mask))\n",
        "    feats = img[nz_mask]\n",
        "    return points, feats"
      ]
    },
    {
      "cell_type": "code",
      "execution_count": null,
      "id": "431297ef",
      "metadata": {
        "execution": {
          "iopub.execute_input": "2025-04-02T17:02:33.857971Z",
          "iopub.status.busy": "2025-04-02T17:02:33.857737Z",
          "iopub.status.idle": "2025-04-02T17:02:33.861996Z",
          "shell.execute_reply": "2025-04-02T17:02:33.861354Z"
        },
        "papermill": {
          "duration": 0.01325,
          "end_time": "2025-04-02T17:02:33.863221",
          "exception": false,
          "start_time": "2025-04-02T17:02:33.849971",
          "status": "completed"
        },
        "tags": [],
        "id": "431297ef"
      },
      "outputs": [],
      "source": [
        "def build_knn_adjacency(points, k=4, sigma=1.0):\n",
        "    nbrs = NearestNeighbors(n_neighbors=k+1, algorithm='auto').fit(points)\n",
        "    distances, indices = nbrs.kneighbors(points)\n",
        "    distances, indices = distances[:, 1:], indices[:, 1:]\n",
        "    weights = np.exp(-distances**2 / (2 * sigma**2))\n",
        "    row_indices = np.repeat(np.arange(len(points)), k)\n",
        "    col_indices = indices.flatten()\n",
        "    A = coo_matrix((weights.flatten(), (row_indices, col_indices)), shape=(len(points), len(points)))\n",
        "    return A"
      ]
    },
    {
      "cell_type": "code",
      "execution_count": null,
      "id": "0bf73147",
      "metadata": {
        "execution": {
          "iopub.execute_input": "2025-04-02T17:02:33.878902Z",
          "iopub.status.busy": "2025-04-02T17:02:33.878666Z",
          "iopub.status.idle": "2025-04-02T17:02:33.883722Z",
          "shell.execute_reply": "2025-04-02T17:02:33.883136Z"
        },
        "papermill": {
          "duration": 0.01417,
          "end_time": "2025-04-02T17:02:33.884893",
          "exception": false,
          "start_time": "2025-04-02T17:02:33.870723",
          "status": "completed"
        },
        "tags": [],
        "id": "0bf73147"
      },
      "outputs": [],
      "source": [
        "def point_cloud_to_graph(points, features, label, image_shape=(125, 125), neighbors=4):\n",
        "    adjacency = build_knn_adjacency(points, k=neighbors)\n",
        "    edge_idx = torch.from_numpy(np.vstack((adjacency.row, adjacency.col))).long()\n",
        "    edge_weights = torch.from_numpy(adjacency.data).float().view(-1, 1)\n",
        "\n",
        "    feat_min = np.min(features, axis=0)\n",
        "    feat_max = np.max(features, axis=0)\n",
        "    feat_range = feat_max - feat_min\n",
        "    feat_range[feat_range == 0] = 1\n",
        "    features = (features - feat_min) / feat_range\n",
        "\n",
        "    pos_min = np.min(points, axis=0)\n",
        "    pos_max = np.max(points, axis=0)\n",
        "    pos_range = pos_max - pos_min\n",
        "    pos_range[pos_range == 0] = 1\n",
        "    pos_features = (points - pos_min) / pos_range\n",
        "\n",
        "    node_features = np.hstack((features, pos_features))\n",
        "    data = Data(x=torch.from_numpy(node_features).float(),\n",
        "                edge_index=edge_idx,\n",
        "                edge_attr=edge_weights,\n",
        "                y=label,\n",
        "                pos=torch.tensor(points, dtype=torch.float))\n",
        "    return data"
      ]
    },
    {
      "cell_type": "code",
      "execution_count": null,
      "id": "20b38d56",
      "metadata": {
        "execution": {
          "iopub.execute_input": "2025-04-02T17:02:33.900267Z",
          "iopub.status.busy": "2025-04-02T17:02:33.900068Z",
          "iopub.status.idle": "2025-04-02T17:02:33.903277Z",
          "shell.execute_reply": "2025-04-02T17:02:33.902702Z"
        },
        "papermill": {
          "duration": 0.012064,
          "end_time": "2025-04-02T17:02:33.904385",
          "exception": false,
          "start_time": "2025-04-02T17:02:33.892321",
          "status": "completed"
        },
        "tags": [],
        "id": "20b38d56"
      },
      "outputs": [],
      "source": [
        "file_path = '/kaggle/working/QCDToGGQQ_IMGjet_RH1all_jet0_run0_n36272.test.snappy.parquet'\n",
        "dataloader = get_dataloader(file_path, batch_size=128, num_workers=0)"
      ]
    },
    {
      "cell_type": "code",
      "execution_count": null,
      "id": "8d1397c4",
      "metadata": {
        "execution": {
          "iopub.execute_input": "2025-04-02T17:02:33.920077Z",
          "iopub.status.busy": "2025-04-02T17:02:33.919883Z",
          "iopub.status.idle": "2025-04-02T17:05:06.846114Z",
          "shell.execute_reply": "2025-04-02T17:05:06.845188Z"
        },
        "papermill": {
          "duration": 152.943115,
          "end_time": "2025-04-02T17:05:06.855015",
          "exception": false,
          "start_time": "2025-04-02T17:02:33.911900",
          "status": "completed"
        },
        "tags": [],
        "id": "8d1397c4",
        "outputId": "8e9efc8e-f612-43b9-b90d-b77b68069da3"
      },
      "outputs": [
        {
          "name": "stdout",
          "output_type": "stream",
          "text": [
            "Number of graphs: 36272\n"
          ]
        }
      ],
      "source": [
        "graph_dataset = []\n",
        "\n",
        "for X_batch, y_batch in dataloader:\n",
        "    for idx, image_tensor in enumerate(X_batch):\n",
        "        image_np = image_tensor.cpu().numpy().transpose(1, 2, 0)\n",
        "        points, features = image_to_pc(image_np)\n",
        "        graph_data = point_cloud_to_graph(points, features, y_batch[idx])\n",
        "        graph_dataset.append(graph_data)\n",
        "\n",
        "print(f'Number of graphs: {len(graph_dataset)}')"
      ]
    },
    {
      "cell_type": "code",
      "execution_count": null,
      "id": "b693b643",
      "metadata": {
        "execution": {
          "iopub.execute_input": "2025-04-02T17:05:06.871410Z",
          "iopub.status.busy": "2025-04-02T17:05:06.870933Z",
          "iopub.status.idle": "2025-04-02T17:05:06.884898Z",
          "shell.execute_reply": "2025-04-02T17:05:06.884098Z"
        },
        "papermill": {
          "duration": 0.023424,
          "end_time": "2025-04-02T17:05:06.885992",
          "exception": false,
          "start_time": "2025-04-02T17:05:06.862568",
          "status": "completed"
        },
        "tags": [],
        "id": "b693b643",
        "outputId": "c7ad5f03-312f-44f6-91f5-280421e92665"
      },
      "outputs": [
        {
          "name": "stderr",
          "output_type": "stream",
          "text": [
            "/usr/local/lib/python3.10/dist-packages/torch_geometric/deprecation.py:26: UserWarning: 'data.DataLoader' is deprecated, use 'loader.DataLoader' instead\n",
            "  warnings.warn(out)\n"
          ]
        }
      ],
      "source": [
        "train_graphs, test_graphs = train_test_split(graph_dataset, test_size=0.2)\n",
        "train_loader = GeoDataLoader(train_graphs, batch_size=128, shuffle=True)\n",
        "test_loader = GeoDataLoader(test_graphs, batch_size=128, shuffle=True)"
      ]
    },
    {
      "cell_type": "code",
      "execution_count": null,
      "id": "c1019026",
      "metadata": {
        "execution": {
          "iopub.execute_input": "2025-04-02T17:05:06.901926Z",
          "iopub.status.busy": "2025-04-02T17:05:06.901669Z",
          "iopub.status.idle": "2025-04-02T17:05:06.909390Z",
          "shell.execute_reply": "2025-04-02T17:05:06.908564Z"
        },
        "papermill": {
          "duration": 0.017189,
          "end_time": "2025-04-02T17:05:06.910716",
          "exception": false,
          "start_time": "2025-04-02T17:05:06.893527",
          "status": "completed"
        },
        "tags": [],
        "id": "c1019026"
      },
      "outputs": [],
      "source": [
        "class Graph_Edge_Model(torch.nn.Module):\n",
        "    def __init__(self, in_channels, hidden_channels, num_classes, k=4):\n",
        "        super(Graph_Edge_Model, self).__init__()\n",
        "        self.conv1 = EdgeConv(nn=nn.Sequential(\n",
        "            nn.Linear(2 * in_channels, hidden_channels),\n",
        "            nn.ReLU(),\n",
        "            nn.Linear(hidden_channels, hidden_channels)\n",
        "        ))\n",
        "        self.conv2 = EdgeConv(nn=nn.Sequential(\n",
        "            nn.Linear(2 * hidden_channels, hidden_channels * 2),\n",
        "            nn.ReLU(),\n",
        "            nn.Linear(hidden_channels * 2, hidden_channels * 2)\n",
        "        ))\n",
        "        self.conv3 = EdgeConv(nn=nn.Sequential(\n",
        "            nn.Linear(2 * hidden_channels * 2, hidden_channels),\n",
        "            nn.ReLU(),\n",
        "            nn.Linear(hidden_channels, hidden_channels)\n",
        "        ))\n",
        "        self.fc1 = nn.Linear(hidden_channels * 2, hidden_channels)\n",
        "        self.fc2 = nn.Linear(hidden_channels, num_classes)\n",
        "\n",
        "    def forward(self, data):\n",
        "        x, edge_index, batch = data.x, data.edge_index, data.batch\n",
        "\n",
        "        x = self.conv1(x, edge_index)\n",
        "        x = F.relu(x)\n",
        "\n",
        "        x = self.conv2(x, edge_index)\n",
        "        x = F.relu(x)\n",
        "\n",
        "        x = self.conv3(x, edge_index)\n",
        "        x = F.relu(x)\n",
        "\n",
        "        x_mean = global_mean_pool(x, batch)\n",
        "        x_max = global_max_pool(x, batch)\n",
        "        x = torch.cat([x_mean, x_max], dim=1)\n",
        "\n",
        "        x = self.fc1(x)\n",
        "        x = F.relu(x)\n",
        "        x = self.fc2(x)\n",
        "        return x"
      ]
    },
    {
      "cell_type": "code",
      "execution_count": null,
      "id": "fecc74f7",
      "metadata": {
        "execution": {
          "iopub.execute_input": "2025-04-02T17:05:06.928283Z",
          "iopub.status.busy": "2025-04-02T17:05:06.928066Z",
          "iopub.status.idle": "2025-04-02T17:05:07.212732Z",
          "shell.execute_reply": "2025-04-02T17:05:07.211725Z"
        },
        "papermill": {
          "duration": 0.295877,
          "end_time": "2025-04-02T17:05:07.214247",
          "exception": false,
          "start_time": "2025-04-02T17:05:06.918370",
          "status": "completed"
        },
        "tags": [],
        "id": "fecc74f7",
        "outputId": "1058896b-449a-42ef-eb87-9a8528508e8c"
      },
      "outputs": [
        {
          "name": "stdout",
          "output_type": "stream",
          "text": [
            "Graph_Edge_Model(\n",
            "  (conv1): EdgeConv(nn=Sequential(\n",
            "    (0): Linear(in_features=10, out_features=128, bias=True)\n",
            "    (1): ReLU()\n",
            "    (2): Linear(in_features=128, out_features=128, bias=True)\n",
            "  ))\n",
            "  (conv2): EdgeConv(nn=Sequential(\n",
            "    (0): Linear(in_features=256, out_features=256, bias=True)\n",
            "    (1): ReLU()\n",
            "    (2): Linear(in_features=256, out_features=256, bias=True)\n",
            "  ))\n",
            "  (conv3): EdgeConv(nn=Sequential(\n",
            "    (0): Linear(in_features=512, out_features=128, bias=True)\n",
            "    (1): ReLU()\n",
            "    (2): Linear(in_features=128, out_features=128, bias=True)\n",
            "  ))\n",
            "  (fc1): Linear(in_features=256, out_features=128, bias=True)\n",
            "  (fc2): Linear(in_features=128, out_features=1, bias=True)\n",
            ")\n"
          ]
        }
      ],
      "source": [
        "device = torch.device('cuda' if torch.cuda.is_available() else 'cpu')\n",
        "model = Graph_Edge_Model(in_channels=5, hidden_channels=128, num_classes=1).to(device)\n",
        "optimizer = torch.optim.AdamW(model.parameters(), lr=0.0001)\n",
        "criterion = torch.nn.BCEWithLogitsLoss()\n",
        "print(model)"
      ]
    },
    {
      "cell_type": "code",
      "execution_count": null,
      "id": "4bbccc1c",
      "metadata": {
        "execution": {
          "iopub.execute_input": "2025-04-02T17:05:07.236100Z",
          "iopub.status.busy": "2025-04-02T17:05:07.235775Z",
          "iopub.status.idle": "2025-04-02T17:05:07.243466Z",
          "shell.execute_reply": "2025-04-02T17:05:07.242658Z"
        },
        "papermill": {
          "duration": 0.02026,
          "end_time": "2025-04-02T17:05:07.245018",
          "exception": false,
          "start_time": "2025-04-02T17:05:07.224758",
          "status": "completed"
        },
        "tags": [],
        "id": "4bbccc1c"
      },
      "outputs": [],
      "source": [
        "train_losses = []\n",
        "train_accs = []\n",
        "train_aucs = []\n",
        "\n",
        "def train():\n",
        "    model.train()\n",
        "    total_loss = 0\n",
        "    for data in train_loader:\n",
        "        data = data.to(device)\n",
        "        optimizer.zero_grad()\n",
        "        out = model(data)\n",
        "        target = data.y.float().unsqueeze(1)\n",
        "        loss = criterion(out, target)\n",
        "        loss.backward()\n",
        "        optimizer.step()\n",
        "        total_loss += loss.item() * data.num_graphs\n",
        "    return total_loss / len(train_loader.dataset)\n",
        "\n",
        "def evaluate(loader):\n",
        "    model.eval()\n",
        "    total_loss = 0\n",
        "    correct = 0\n",
        "    all_probs = []\n",
        "    all_targets = []\n",
        "    with torch.no_grad():\n",
        "        for data in loader:\n",
        "            data = data.to(device)\n",
        "            out = model(data)\n",
        "            target = data.y.float().unsqueeze(1)\n",
        "            loss = criterion(out, target)\n",
        "            total_loss += loss.item() * data.num_graphs\n",
        "\n",
        "            probs = torch.sigmoid(out)\n",
        "            all_probs.append(probs.cpu().numpy())\n",
        "            all_targets.append(target.cpu().numpy())\n",
        "\n",
        "            pred = (probs > 0.5).float()\n",
        "            correct += int((pred == target).sum())\n",
        "\n",
        "    avg_loss = total_loss / len(loader.dataset)\n",
        "    accuracy = correct / len(loader.dataset)\n",
        "\n",
        "    all_probs = np.concatenate(all_probs).ravel()\n",
        "    all_targets = np.concatenate(all_targets).ravel()\n",
        "    auc_score = roc_auc_score(all_targets, all_probs)\n",
        "\n",
        "    return avg_loss, accuracy, auc_score"
      ]
    },
    {
      "cell_type": "code",
      "execution_count": null,
      "id": "94204a12",
      "metadata": {
        "execution": {
          "iopub.execute_input": "2025-04-02T17:05:07.267349Z",
          "iopub.status.busy": "2025-04-02T17:05:07.266995Z",
          "iopub.status.idle": "2025-04-02T17:53:43.248715Z",
          "shell.execute_reply": "2025-04-02T17:53:43.247426Z"
        },
        "papermill": {
          "duration": 2916.009584,
          "end_time": "2025-04-02T17:53:43.267177",
          "exception": false,
          "start_time": "2025-04-02T17:05:07.257593",
          "status": "completed"
        },
        "tags": [],
        "id": "94204a12",
        "outputId": "261ea2c1-420c-42d6-e1cf-9c2700ae3eaa"
      },
      "outputs": [
        {
          "name": "stdout",
          "output_type": "stream",
          "text": [
            "Epoch 001: Train Loss: 0.6633, Train Acc: 0.6019, Train AUC: 0.6485\n",
            "Epoch 002: Train Loss: 0.6291, Train Acc: 0.6496, Train AUC: 0.7052\n",
            "Epoch 003: Train Loss: 0.6104, Train Acc: 0.6750, Train AUC: 0.7315\n",
            "Epoch 004: Train Loss: 0.6055, Train Acc: 0.6792, Train AUC: 0.7393\n",
            "Epoch 005: Train Loss: 0.6026, Train Acc: 0.6835, Train AUC: 0.7441\n",
            "Epoch 006: Train Loss: 0.5953, Train Acc: 0.6894, Train AUC: 0.7494\n",
            "Epoch 007: Train Loss: 0.5911, Train Acc: 0.6937, Train AUC: 0.7533\n",
            "Epoch 008: Train Loss: 0.5912, Train Acc: 0.6904, Train AUC: 0.7559\n",
            "Epoch 009: Train Loss: 0.5880, Train Acc: 0.6927, Train AUC: 0.7577\n",
            "Epoch 010: Train Loss: 0.5849, Train Acc: 0.6977, Train AUC: 0.7603\n",
            "Epoch 011: Train Loss: 0.5948, Train Acc: 0.6911, Train AUC: 0.7617\n",
            "Epoch 012: Train Loss: 0.5968, Train Acc: 0.6880, Train AUC: 0.7637\n",
            "Epoch 013: Train Loss: 0.5945, Train Acc: 0.6852, Train AUC: 0.7651\n",
            "Epoch 014: Train Loss: 0.5800, Train Acc: 0.7013, Train AUC: 0.7661\n",
            "Epoch 015: Train Loss: 0.5796, Train Acc: 0.7020, Train AUC: 0.7676\n",
            "Epoch 016: Train Loss: 0.5775, Train Acc: 0.7026, Train AUC: 0.7686\n",
            "Epoch 017: Train Loss: 0.5767, Train Acc: 0.7031, Train AUC: 0.7687\n",
            "Epoch 018: Train Loss: 0.5751, Train Acc: 0.7051, Train AUC: 0.7705\n",
            "Epoch 019: Train Loss: 0.5744, Train Acc: 0.7066, Train AUC: 0.7715\n",
            "Epoch 020: Train Loss: 0.5744, Train Acc: 0.7043, Train AUC: 0.7713\n",
            "Epoch 021: Train Loss: 0.5788, Train Acc: 0.7014, Train AUC: 0.7721\n",
            "Epoch 022: Train Loss: 0.5740, Train Acc: 0.7078, Train AUC: 0.7737\n",
            "Epoch 023: Train Loss: 0.5721, Train Acc: 0.7077, Train AUC: 0.7747\n",
            "Epoch 024: Train Loss: 0.5768, Train Acc: 0.7058, Train AUC: 0.7746\n",
            "Epoch 025: Train Loss: 0.5705, Train Acc: 0.7087, Train AUC: 0.7754\n",
            "Epoch 026: Train Loss: 0.5694, Train Acc: 0.7100, Train AUC: 0.7769\n",
            "Epoch 027: Train Loss: 0.5717, Train Acc: 0.7082, Train AUC: 0.7769\n",
            "Epoch 028: Train Loss: 0.5706, Train Acc: 0.7084, Train AUC: 0.7779\n",
            "Epoch 029: Train Loss: 0.5698, Train Acc: 0.7110, Train AUC: 0.7789\n",
            "Epoch 030: Train Loss: 0.5804, Train Acc: 0.7017, Train AUC: 0.7787\n"
          ]
        }
      ],
      "source": [
        "epochs = 30\n",
        "for epoch in range(1, epochs+1):\n",
        "    train_loss = train()\n",
        "    train_loss, train_acc, train_auc = evaluate(train_loader)\n",
        "\n",
        "    train_losses.append(train_loss)\n",
        "    train_accs.append(train_acc)\n",
        "    train_aucs.append(train_auc)\n",
        "\n",
        "    print(f\"Epoch {epoch:03d}: Train Loss: {train_loss:.4f}, Train Acc: {train_acc:.4f}, Train AUC: {train_auc:.4f}\")"
      ]
    },
    {
      "cell_type": "code",
      "execution_count": null,
      "id": "79572527",
      "metadata": {
        "execution": {
          "iopub.execute_input": "2025-04-02T17:53:43.293129Z",
          "iopub.status.busy": "2025-04-02T17:53:43.292857Z",
          "iopub.status.idle": "2025-04-02T17:53:50.528453Z",
          "shell.execute_reply": "2025-04-02T17:53:50.527531Z"
        },
        "papermill": {
          "duration": 7.249342,
          "end_time": "2025-04-02T17:53:50.529781",
          "exception": false,
          "start_time": "2025-04-02T17:53:43.280439",
          "status": "completed"
        },
        "tags": [],
        "id": "79572527",
        "outputId": "5bb38cc3-5521-4c8c-a31c-0c995b115138"
      },
      "outputs": [
        {
          "data": {
            "image/png": "[encoded data removed]",
            "text/plain": [
              "<Figure size 800x600 with 1 Axes>"
            ]
          },
          "metadata": {},
          "output_type": "display_data"
        }
      ],
      "source": [
        "def plot_roc(model, loader, device):\n",
        "    model.eval()\n",
        "    probs_list, targets_list = [], []\n",
        "    with torch.no_grad():\n",
        "        for data in loader:\n",
        "            data = data.to(device)\n",
        "            out = model(data)\n",
        "            probs_list.append(torch.sigmoid(out).cpu().numpy())\n",
        "            targets_list.append(data.y.cpu().numpy())\n",
        "\n",
        "    probs = np.concatenate(probs_list).ravel()\n",
        "    targets = np.concatenate(targets_list).ravel()\n",
        "\n",
        "    fpr, tpr, _ = roc_curve(targets, probs)\n",
        "    roc_auc = auc(fpr, tpr)\n",
        "\n",
        "    plt.figure(figsize=(8, 6))\n",
        "    plt.plot(fpr, tpr, label=f'AUC = {roc_auc:.2f}', color='darkorange')\n",
        "    plt.plot([0, 1], [0, 1], '--', color='navy')\n",
        "    plt.xlabel('False Positive Rate')\n",
        "    plt.ylabel('True Positive Rate')\n",
        "    plt.title('ROC Curve')\n",
        "    plt.legend(loc='lower right')\n",
        "    plt.show()\n",
        "\n",
        "plot_roc(model, test_loader, device)"
      ]
    }
  ],
  "metadata": {
    "kaggle": {
      "accelerator": "nvidiaTeslaT4",
      "dataSources": [],
      "dockerImageVersionId": 30919,
      "isGpuEnabled": true,
      "isInternetEnabled": true,
      "language": "python",
      "sourceType": "notebook"
    },
    "kernelspec": {
      "display_name": "Python 3",
      "language": "python",
      "name": "python3"
    },
    "language_info": {
      "codemirror_mode": {
        "name": "ipython",
        "version": 3
      },
      "file_extension": ".py",
      "mimetype": "text/x-python",
      "name": "python",
      "nbconvert_exporter": "python",
      "pygments_lexer": "ipython3",
      "version": "3.10.12"
    },
    "papermill": {
      "default_parameters": {},
      "duration": 3915.426565,
      "end_time": "2025-04-02T17:53:54.194177",
      "environment_variables": {},
      "exception": null,
      "input_path": "__notebook__.ipynb",
      "output_path": "__notebook__.ipynb",
      "parameters": {},
      "start_time": "2025-04-02T16:48:38.767612",
      "version": "2.6.0"
    },
    "colab": {
      "provenance": [],
      "include_colab_link": true
    }
  },
  "nbformat": 4,
  "nbformat_minor": 5
}